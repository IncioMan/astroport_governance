{
 "cells": [
  {
   "cell_type": "code",
   "execution_count": 83,
   "metadata": {},
   "outputs": [
    {
     "data": {
      "text/plain": [
       "RendererRegistry.enable('default')"
      ]
     },
     "execution_count": 83,
     "metadata": {},
     "output_type": "execute_result"
    }
   ],
   "source": [
    "import pandas as pd\n",
    "import altair as alt\n",
    "alt.renderers.set_embed_options(theme='dark')\n"
   ]
  },
  {
   "cell_type": "code",
   "execution_count": 84,
   "metadata": {},
   "outputs": [],
   "source": [
    "def claim(claim_hash, cols_claim):\n",
    "    try:\n",
    "        df_claim = pd.read_json(\n",
    "            f\"https://api.flipsidecrypto.com/api/v2/queries/{claim_hash}/data/latest\",\n",
    "            convert_dates=[\"BLOCK_TIMESTAMP\"],\n",
    "        )\n",
    "    except:\n",
    "        return pd.DataFrame(columns = cols_claim[claim_hash])\n",
    "    if(len(df_claim.columns)==0):\n",
    "        return pd.DataFrame(columns = cols_claim[claim_hash])\n",
    "    return df_claim"
   ]
  },
  {
   "cell_type": "code",
   "execution_count": 85,
   "metadata": {},
   "outputs": [],
   "source": [
    "p2_users = '07f87a6f-5bc6-49f3-a1bb-8e7d545ba95a'\n",
    "p2_hourly = 'de5232e1-5d57-4232-900d-1d09d2c9438e'"
   ]
  },
  {
   "cell_type": "code",
   "execution_count": 86,
   "metadata": {},
   "outputs": [],
   "source": [
    "cols_claim = {\n",
    "    p2_users: [\"DEPOSIT_AMOUNT\",\"HR\",\"NET_DEPOSITED_AMOUNT\",\"SENDER\",\"WITHDRAWN_AMOUNT\",\"WITHDRAWN_AMOUNT_PHASE2\"],\n",
    "    p2_hourly: ['HR', 'WITH_AMOUNT', 'WITH_TX', 'WITH_USERS']\n",
    "}"
   ]
  },
  {
   "cell_type": "code",
   "execution_count": 87,
   "metadata": {},
   "outputs": [],
   "source": [
    "p2_users_df = claim(p2_users, cols_claim)\n",
    "p2_hourly_df = claim(p2_hourly, cols_claim)"
   ]
  },
  {
   "cell_type": "code",
   "execution_count": 166,
   "metadata": {},
   "outputs": [],
   "source": [
    "cols_dict = {\n",
    "    \"DEPOSIT_AMOUNT\":\"Amount deposited\",\n",
    "    \"DEPOSIT_TXS\":\"N° of deposit txs\",\n",
    "    \"DEP_USERS\":\"N° of depositing users\",\n",
    "    \"HR\":\"Time\",\n",
    "    \"NET_AMOUNT\":\"Net amount deposited\",\n",
    "    \"TOT_TXS\":\"N° of txs\",\n",
    "    \"TOT_USERS\":\"N° of users\",\n",
    "    \"WITH_AMOUNT\":\"Withdrawn amount\",\n",
    "    \"WITH_TXS\":\"N° of withdraw txs\",\n",
    "    \"WITH_USERS\":\"N° of withdrawing users\",\n",
    "    'AMOUNT':'Amount deposited (UST)',\n",
    "    'AVG_BALANCE_USD':'Average balance in the last 30 days (UST)',\n",
    "    'N_TXS':'N° of txs',\n",
    "    'SENDER':'User address',\n",
    "    'N_USERS':'N° of users',\n",
    "    'BUCKET':'Deposit range',\n",
    "    'bucket_name':'Deposit bucket',\n",
    "    'cumsum_ust':'Cumulative UST amount',\n",
    "    'MIN_DATE':'Date wallet creation',\n",
    "    'ADDRESS_COUNT':'Number of wallets',\n",
    "    'PERC_WITHDRAWN':'% withdrawn of the deposited amount',\n",
    "    'net_ust': 'Amount UST'\n",
    "}"
   ]
  },
  {
   "cell_type": "code",
   "execution_count": 89,
   "metadata": {},
   "outputs": [
    {
     "data": {
      "text/plain": [
       "871030.5994549999"
      ]
     },
     "execution_count": 89,
     "metadata": {},
     "output_type": "execute_result"
    }
   ],
   "source": [
    "#Total withdrawn phase 2 UST\n",
    "tot_with_ust = p2_users_df['WITHDRAWN_AMOUNT_PHASE2'].sum()\n",
    "tot_with_ust"
   ]
  },
  {
   "cell_type": "code",
   "execution_count": 90,
   "metadata": {},
   "outputs": [
    {
     "data": {
      "text/plain": [
       "4394255.454423999"
      ]
     },
     "execution_count": 90,
     "metadata": {},
     "output_type": "execute_result"
    }
   ],
   "source": [
    "#Total net dep phase 1 UST\n",
    "tot_ust_p1 = p2_users_df['NET_DEPOSITED_AMOUNT'].sum()\n",
    "tot_ust_p1"
   ]
  },
  {
   "cell_type": "code",
   "execution_count": 91,
   "metadata": {},
   "outputs": [
    {
     "data": {
      "text/plain": [
       "3523224.8549689995"
      ]
     },
     "execution_count": 91,
     "metadata": {},
     "output_type": "execute_result"
    }
   ],
   "source": [
    "#Total left UST\n",
    "tot_net_ust = tot_ust_p1 - tot_with_ust\n",
    "tot_net_ust"
   ]
  },
  {
   "cell_type": "code",
   "execution_count": 92,
   "metadata": {},
   "outputs": [
    {
     "data": {
      "text/plain": [
       "19.82202920356106"
      ]
     },
     "execution_count": 92,
     "metadata": {},
     "output_type": "execute_result"
    }
   ],
   "source": [
    "#% withdrawn\n",
    "perc_with_p2 = tot_with_ust/tot_ust_p1 * 100\n",
    "perc_with_p2"
   ]
  },
  {
   "cell_type": "code",
   "execution_count": 93,
   "metadata": {},
   "outputs": [
    {
     "data": {
      "text/plain": [
       "0.05033178364241428"
      ]
     },
     "execution_count": 93,
     "metadata": {},
     "output_type": "execute_result"
    }
   ],
   "source": [
    "#current price\n",
    "curr_price = tot_net_ust/70000000\n",
    "curr_price"
   ]
  },
  {
   "cell_type": "code",
   "execution_count": 94,
   "metadata": {},
   "outputs": [
    {
     "data": {
      "text/plain": [
       "5.04246284501062"
      ]
     },
     "execution_count": 94,
     "metadata": {},
     "output_type": "execute_result"
    }
   ],
   "source": [
    "#% users with\n",
    "p_users_with_p2 = (1-p2_users_df['WITHDRAWN_AMOUNT_PHASE2'].isna().sum()/len(p2_users_df))*100\n",
    "p_users_with_p2"
   ]
  },
  {
   "cell_type": "code",
   "execution_count": 95,
   "metadata": {},
   "outputs": [],
   "source": [
    "#Floor price\n",
    "p2_users_df['max_with_hour'] = '2022-02-03 10:00:00.000'\n",
    "possible_with = p2_users_df[p2_users_df['WITHDRAWN_AMOUNT_PHASE2'].isna()]['NET_DEPOSITED_AMOUNT']"
   ]
  },
  {
   "cell_type": "code",
   "execution_count": 96,
   "metadata": {},
   "outputs": [
    {
     "data": {
      "text/html": [
       "<div>\n",
       "<style scoped>\n",
       "    .dataframe tbody tr th:only-of-type {\n",
       "        vertical-align: middle;\n",
       "    }\n",
       "\n",
       "    .dataframe tbody tr th {\n",
       "        vertical-align: top;\n",
       "    }\n",
       "\n",
       "    .dataframe thead th {\n",
       "        text-align: right;\n",
       "    }\n",
       "</style>\n",
       "<table border=\"1\" class=\"dataframe\">\n",
       "  <thead>\n",
       "    <tr style=\"text-align: right;\">\n",
       "      <th></th>\n",
       "      <th>DEPOSIT_AMOUNT</th>\n",
       "      <th>HR</th>\n",
       "      <th>NET_DEPOSITED_AMOUNT</th>\n",
       "      <th>SENDER</th>\n",
       "      <th>WITHDRAWN_AMOUNT</th>\n",
       "      <th>WITHDRAWN_AMOUNT_PHASE2</th>\n",
       "      <th>max_with_hour</th>\n",
       "    </tr>\n",
       "  </thead>\n",
       "  <tbody>\n",
       "    <tr>\n",
       "      <th>0</th>\n",
       "      <td>1000.0</td>\n",
       "      <td>2022-02-02 09:00:00.000</td>\n",
       "      <td>400.0</td>\n",
       "      <td>terra1v6ujue0uqd9nzgtqvuhwncaqd9q6hacvsfur7x</td>\n",
       "      <td>600.0</td>\n",
       "      <td>600.0</td>\n",
       "      <td>2022-02-03 10:00:00.000</td>\n",
       "    </tr>\n",
       "    <tr>\n",
       "      <th>1</th>\n",
       "      <td>101.0</td>\n",
       "      <td>2022-02-01 11:00:00.000</td>\n",
       "      <td>100.0</td>\n",
       "      <td>terra17js7wjaq8w80khztfa9ydz0etdgzy4l7t8yfsa</td>\n",
       "      <td>1.0</td>\n",
       "      <td>1.0</td>\n",
       "      <td>2022-02-03 10:00:00.000</td>\n",
       "    </tr>\n",
       "    <tr>\n",
       "      <th>2</th>\n",
       "      <td>99500.0</td>\n",
       "      <td>2022-02-01 20:00:00.000</td>\n",
       "      <td>0.0</td>\n",
       "      <td>terra1frsd6nayz25encp6w6m8z00g5ue4j6fp4q0pza</td>\n",
       "      <td>99500.0</td>\n",
       "      <td>99500.0</td>\n",
       "      <td>2022-02-03 10:00:00.000</td>\n",
       "    </tr>\n",
       "    <tr>\n",
       "      <th>3</th>\n",
       "      <td>185.0</td>\n",
       "      <td>2022-02-01 12:00:00.000</td>\n",
       "      <td>35.0</td>\n",
       "      <td>terra1lcrwyxn8apvxu9jdvu6jk6myeey0z64e22du4k</td>\n",
       "      <td>150.0</td>\n",
       "      <td>150.0</td>\n",
       "      <td>2022-02-03 10:00:00.000</td>\n",
       "    </tr>\n",
       "    <tr>\n",
       "      <th>4</th>\n",
       "      <td>100.0</td>\n",
       "      <td>2022-02-01 22:00:00.000</td>\n",
       "      <td>0.0</td>\n",
       "      <td>terra1nrg8s0wtd2z0xyl26u669qh87qcn2ql0wepvhj</td>\n",
       "      <td>100.0</td>\n",
       "      <td>100.0</td>\n",
       "      <td>2022-02-03 10:00:00.000</td>\n",
       "    </tr>\n",
       "  </tbody>\n",
       "</table>\n",
       "</div>"
      ],
      "text/plain": [
       "   DEPOSIT_AMOUNT                       HR  NET_DEPOSITED_AMOUNT  \\\n",
       "0          1000.0  2022-02-02 09:00:00.000                 400.0   \n",
       "1           101.0  2022-02-01 11:00:00.000                 100.0   \n",
       "2         99500.0  2022-02-01 20:00:00.000                   0.0   \n",
       "3           185.0  2022-02-01 12:00:00.000                  35.0   \n",
       "4           100.0  2022-02-01 22:00:00.000                   0.0   \n",
       "\n",
       "                                         SENDER  WITHDRAWN_AMOUNT  \\\n",
       "0  terra1v6ujue0uqd9nzgtqvuhwncaqd9q6hacvsfur7x             600.0   \n",
       "1  terra17js7wjaq8w80khztfa9ydz0etdgzy4l7t8yfsa               1.0   \n",
       "2  terra1frsd6nayz25encp6w6m8z00g5ue4j6fp4q0pza           99500.0   \n",
       "3  terra1lcrwyxn8apvxu9jdvu6jk6myeey0z64e22du4k             150.0   \n",
       "4  terra1nrg8s0wtd2z0xyl26u669qh87qcn2ql0wepvhj             100.0   \n",
       "\n",
       "   WITHDRAWN_AMOUNT_PHASE2            max_with_hour  \n",
       "0                    600.0  2022-02-03 10:00:00.000  \n",
       "1                      1.0  2022-02-03 10:00:00.000  \n",
       "2                  99500.0  2022-02-03 10:00:00.000  \n",
       "3                    150.0  2022-02-03 10:00:00.000  \n",
       "4                    100.0  2022-02-03 10:00:00.000  "
      ]
     },
     "execution_count": 96,
     "metadata": {},
     "output_type": "execute_result"
    }
   ],
   "source": [
    "p2_users_df.head()"
   ]
  },
  {
   "cell_type": "code",
   "execution_count": 97,
   "metadata": {},
   "outputs": [
    {
     "name": "stderr",
     "output_type": "stream",
     "text": [
      "C:\\Users\\aincerti\\AppData\\Local\\Temp\\ipykernel_19004\\2705070969.py:4: SettingWithCopyWarning: \n",
      "A value is trying to be set on a copy of a slice from a DataFrame.\n",
      "Try using .loc[row_indexer,col_indexer] = value instead\n",
      "\n",
      "See the caveats in the documentation: https://pandas.pydata.org/pandas-docs/stable/user_guide/indexing.html#returning-a-view-versus-a-copy\n",
      "  df['hours_til_end_p2'] = delta.dt.days * 24 + delta.dt.seconds/3600\n",
      "C:\\Users\\aincerti\\AppData\\Local\\Temp\\ipykernel_19004\\2705070969.py:5: SettingWithCopyWarning: \n",
      "A value is trying to be set on a copy of a slice from a DataFrame.\n",
      "Try using .loc[row_indexer,col_indexer] = value instead\n",
      "\n",
      "See the caveats in the documentation: https://pandas.pydata.org/pandas-docs/stable/user_guide/indexing.html#returning-a-view-versus-a-copy\n",
      "  df['left_to_with'] = 24/df['hours_til_end_p2'] * df['NET_DEPOSITED_AMOUNT']\n"
     ]
    },
    {
     "data": {
      "text/plain": [
       "66673.06104211377"
      ]
     },
     "execution_count": 97,
     "metadata": {},
     "output_type": "execute_result"
    }
   ],
   "source": [
    "#UST left to be withdrawn\n",
    "df = p2_users_df[p2_users_df['HR'].notna()]\n",
    "delta = pd.to_datetime(df['max_with_hour']) - pd.to_datetime(df['HR'])\n",
    "df['hours_til_end_p2'] = delta.dt.days * 24 + delta.dt.seconds/3600\n",
    "df['left_to_with'] = 24/df['hours_til_end_p2'] * df['NET_DEPOSITED_AMOUNT']\n",
    "left_to_with = df['left_to_with'].sum()\n",
    "left_to_with"
   ]
  },
  {
   "cell_type": "code",
   "execution_count": 98,
   "metadata": {},
   "outputs": [
    {
     "data": {
      "text/plain": [
       "0.04937931134181266"
      ]
     },
     "execution_count": 98,
     "metadata": {},
     "output_type": "execute_result"
    }
   ],
   "source": [
    "#Floor price\n",
    "floor_price = (tot_net_ust - left_to_with)/70000000\n",
    "floor_price"
   ]
  },
  {
   "cell_type": "code",
   "execution_count": 99,
   "metadata": {},
   "outputs": [
    {
     "data": {
      "text/html": [
       "<div>\n",
       "<style scoped>\n",
       "    .dataframe tbody tr th:only-of-type {\n",
       "        vertical-align: middle;\n",
       "    }\n",
       "\n",
       "    .dataframe tbody tr th {\n",
       "        vertical-align: top;\n",
       "    }\n",
       "\n",
       "    .dataframe thead th {\n",
       "        text-align: right;\n",
       "    }\n",
       "</style>\n",
       "<table border=\"1\" class=\"dataframe\">\n",
       "  <thead>\n",
       "    <tr style=\"text-align: right;\">\n",
       "      <th></th>\n",
       "      <th>HR</th>\n",
       "      <th>WITH_AMOUNT</th>\n",
       "      <th>WITH_TX</th>\n",
       "      <th>WITH_USERS</th>\n",
       "    </tr>\n",
       "  </thead>\n",
       "  <tbody>\n",
       "    <tr>\n",
       "      <th>0</th>\n",
       "      <td>2022/02/02  11:00:00</td>\n",
       "      <td>1070.000000</td>\n",
       "      <td>2</td>\n",
       "      <td>2</td>\n",
       "    </tr>\n",
       "    <tr>\n",
       "      <th>1</th>\n",
       "      <td>2022/02/02  09:00:00</td>\n",
       "      <td>1150.000000</td>\n",
       "      <td>4</td>\n",
       "      <td>4</td>\n",
       "    </tr>\n",
       "    <tr>\n",
       "      <th>2</th>\n",
       "      <td>2022/02/01  20:00:00</td>\n",
       "      <td>104711.479309</td>\n",
       "      <td>5</td>\n",
       "      <td>5</td>\n",
       "    </tr>\n",
       "    <tr>\n",
       "      <th>3</th>\n",
       "      <td>2022/02/01  12:00:00</td>\n",
       "      <td>857.670794</td>\n",
       "      <td>3</td>\n",
       "      <td>3</td>\n",
       "    </tr>\n",
       "    <tr>\n",
       "      <th>4</th>\n",
       "      <td>2022/02/01  10:00:00</td>\n",
       "      <td>19312.000000</td>\n",
       "      <td>3</td>\n",
       "      <td>3</td>\n",
       "    </tr>\n",
       "    <tr>\n",
       "      <th>5</th>\n",
       "      <td>2022/02/01  19:00:00</td>\n",
       "      <td>1787.665637</td>\n",
       "      <td>4</td>\n",
       "      <td>4</td>\n",
       "    </tr>\n",
       "    <tr>\n",
       "      <th>6</th>\n",
       "      <td>2022/02/01  23:00:00</td>\n",
       "      <td>4211.000000</td>\n",
       "      <td>5</td>\n",
       "      <td>5</td>\n",
       "    </tr>\n",
       "    <tr>\n",
       "      <th>7</th>\n",
       "      <td>2022/02/01  14:00:00</td>\n",
       "      <td>14000.000000</td>\n",
       "      <td>2</td>\n",
       "      <td>2</td>\n",
       "    </tr>\n",
       "    <tr>\n",
       "      <th>8</th>\n",
       "      <td>2022/02/01  15:00:00</td>\n",
       "      <td>7635.881191</td>\n",
       "      <td>5</td>\n",
       "      <td>5</td>\n",
       "    </tr>\n",
       "    <tr>\n",
       "      <th>9</th>\n",
       "      <td>2022/02/01  17:00:00</td>\n",
       "      <td>4949.462797</td>\n",
       "      <td>4</td>\n",
       "      <td>3</td>\n",
       "    </tr>\n",
       "    <tr>\n",
       "      <th>10</th>\n",
       "      <td>2022/02/01  22:00:00</td>\n",
       "      <td>1300.000000</td>\n",
       "      <td>3</td>\n",
       "      <td>3</td>\n",
       "    </tr>\n",
       "    <tr>\n",
       "      <th>11</th>\n",
       "      <td>2022/02/01  11:00:00</td>\n",
       "      <td>24691.000000</td>\n",
       "      <td>7</td>\n",
       "      <td>7</td>\n",
       "    </tr>\n",
       "    <tr>\n",
       "      <th>12</th>\n",
       "      <td>2022/02/02  02:00:00</td>\n",
       "      <td>1043.150932</td>\n",
       "      <td>3</td>\n",
       "      <td>3</td>\n",
       "    </tr>\n",
       "    <tr>\n",
       "      <th>13</th>\n",
       "      <td>2022/02/01  18:00:00</td>\n",
       "      <td>1470.000000</td>\n",
       "      <td>2</td>\n",
       "      <td>2</td>\n",
       "    </tr>\n",
       "    <tr>\n",
       "      <th>14</th>\n",
       "      <td>2022/02/01  08:00:00</td>\n",
       "      <td>5923.464239</td>\n",
       "      <td>3</td>\n",
       "      <td>3</td>\n",
       "    </tr>\n",
       "    <tr>\n",
       "      <th>15</th>\n",
       "      <td>2022/02/01  16:00:00</td>\n",
       "      <td>39640.000000</td>\n",
       "      <td>7</td>\n",
       "      <td>7</td>\n",
       "    </tr>\n",
       "    <tr>\n",
       "      <th>16</th>\n",
       "      <td>2022/02/02  03:00:00</td>\n",
       "      <td>3107.740000</td>\n",
       "      <td>2</td>\n",
       "      <td>2</td>\n",
       "    </tr>\n",
       "    <tr>\n",
       "      <th>17</th>\n",
       "      <td>2022/02/02  00:00:00</td>\n",
       "      <td>11500.000000</td>\n",
       "      <td>3</td>\n",
       "      <td>3</td>\n",
       "    </tr>\n",
       "    <tr>\n",
       "      <th>18</th>\n",
       "      <td>2022/02/02  06:00:00</td>\n",
       "      <td>1100.000000</td>\n",
       "      <td>1</td>\n",
       "      <td>1</td>\n",
       "    </tr>\n",
       "    <tr>\n",
       "      <th>19</th>\n",
       "      <td>2022/02/02  08:00:00</td>\n",
       "      <td>61028.000000</td>\n",
       "      <td>5</td>\n",
       "      <td>5</td>\n",
       "    </tr>\n",
       "    <tr>\n",
       "      <th>20</th>\n",
       "      <td>2022/02/02  07:00:00</td>\n",
       "      <td>2445.084556</td>\n",
       "      <td>3</td>\n",
       "      <td>3</td>\n",
       "    </tr>\n",
       "    <tr>\n",
       "      <th>21</th>\n",
       "      <td>2022/02/02  04:00:00</td>\n",
       "      <td>16219.000000</td>\n",
       "      <td>4</td>\n",
       "      <td>4</td>\n",
       "    </tr>\n",
       "    <tr>\n",
       "      <th>22</th>\n",
       "      <td>2022/02/01  07:00:00</td>\n",
       "      <td>501183.642552</td>\n",
       "      <td>11</td>\n",
       "      <td>11</td>\n",
       "    </tr>\n",
       "    <tr>\n",
       "      <th>23</th>\n",
       "      <td>2022/02/02  12:00:00</td>\n",
       "      <td>12291.000000</td>\n",
       "      <td>6</td>\n",
       "      <td>5</td>\n",
       "    </tr>\n",
       "    <tr>\n",
       "      <th>24</th>\n",
       "      <td>2022/02/01  21:00:00</td>\n",
       "      <td>2642.000000</td>\n",
       "      <td>5</td>\n",
       "      <td>5</td>\n",
       "    </tr>\n",
       "    <tr>\n",
       "      <th>25</th>\n",
       "      <td>2022/02/02  05:00:00</td>\n",
       "      <td>515900.000000</td>\n",
       "      <td>2</td>\n",
       "      <td>2</td>\n",
       "    </tr>\n",
       "    <tr>\n",
       "      <th>26</th>\n",
       "      <td>2022/02/02  10:00:00</td>\n",
       "      <td>2850.000000</td>\n",
       "      <td>4</td>\n",
       "      <td>4</td>\n",
       "    </tr>\n",
       "    <tr>\n",
       "      <th>27</th>\n",
       "      <td>2022/02/01  09:00:00</td>\n",
       "      <td>1250.000000</td>\n",
       "      <td>2</td>\n",
       "      <td>2</td>\n",
       "    </tr>\n",
       "    <tr>\n",
       "      <th>28</th>\n",
       "      <td>2022/02/01  13:00:00</td>\n",
       "      <td>1930.000000</td>\n",
       "      <td>2</td>\n",
       "      <td>2</td>\n",
       "    </tr>\n",
       "  </tbody>\n",
       "</table>\n",
       "</div>"
      ],
      "text/plain": [
       "                      HR    WITH_AMOUNT  WITH_TX  WITH_USERS\n",
       "0   2022/02/02  11:00:00    1070.000000        2           2\n",
       "1   2022/02/02  09:00:00    1150.000000        4           4\n",
       "2   2022/02/01  20:00:00  104711.479309        5           5\n",
       "3   2022/02/01  12:00:00     857.670794        3           3\n",
       "4   2022/02/01  10:00:00   19312.000000        3           3\n",
       "5   2022/02/01  19:00:00    1787.665637        4           4\n",
       "6   2022/02/01  23:00:00    4211.000000        5           5\n",
       "7   2022/02/01  14:00:00   14000.000000        2           2\n",
       "8   2022/02/01  15:00:00    7635.881191        5           5\n",
       "9   2022/02/01  17:00:00    4949.462797        4           3\n",
       "10  2022/02/01  22:00:00    1300.000000        3           3\n",
       "11  2022/02/01  11:00:00   24691.000000        7           7\n",
       "12  2022/02/02  02:00:00    1043.150932        3           3\n",
       "13  2022/02/01  18:00:00    1470.000000        2           2\n",
       "14  2022/02/01  08:00:00    5923.464239        3           3\n",
       "15  2022/02/01  16:00:00   39640.000000        7           7\n",
       "16  2022/02/02  03:00:00    3107.740000        2           2\n",
       "17  2022/02/02  00:00:00   11500.000000        3           3\n",
       "18  2022/02/02  06:00:00    1100.000000        1           1\n",
       "19  2022/02/02  08:00:00   61028.000000        5           5\n",
       "20  2022/02/02  07:00:00    2445.084556        3           3\n",
       "21  2022/02/02  04:00:00   16219.000000        4           4\n",
       "22  2022/02/01  07:00:00  501183.642552       11          11\n",
       "23  2022/02/02  12:00:00   12291.000000        6           5\n",
       "24  2022/02/01  21:00:00    2642.000000        5           5\n",
       "25  2022/02/02  05:00:00  515900.000000        2           2\n",
       "26  2022/02/02  10:00:00    2850.000000        4           4\n",
       "27  2022/02/01  09:00:00    1250.000000        2           2\n",
       "28  2022/02/01  13:00:00    1930.000000        2           2"
      ]
     },
     "execution_count": 99,
     "metadata": {},
     "output_type": "execute_result"
    }
   ],
   "source": [
    "p2_hourly_df['HR'] = '2022/' + p2_hourly_df['HR'] + ':00'\n",
    "p2_hourly_df.head()"
   ]
  },
  {
   "cell_type": "code",
   "execution_count": 101,
   "metadata": {},
   "outputs": [
    {
     "data": {
      "text/html": [
       "\n",
       "<div id=\"altair-viz-f29bd089d56c4eb0af46c0489961c152\"></div>\n",
       "<script type=\"text/javascript\">\n",
       "  var VEGA_DEBUG = (typeof VEGA_DEBUG == \"undefined\") ? {} : VEGA_DEBUG;\n",
       "  (function(spec, embedOpt){\n",
       "    let outputDiv = document.currentScript.previousElementSibling;\n",
       "    if (outputDiv.id !== \"altair-viz-f29bd089d56c4eb0af46c0489961c152\") {\n",
       "      outputDiv = document.getElementById(\"altair-viz-f29bd089d56c4eb0af46c0489961c152\");\n",
       "    }\n",
       "    const paths = {\n",
       "      \"vega\": \"https://cdn.jsdelivr.net/npm//vega@5?noext\",\n",
       "      \"vega-lib\": \"https://cdn.jsdelivr.net/npm//vega-lib?noext\",\n",
       "      \"vega-lite\": \"https://cdn.jsdelivr.net/npm//vega-lite@4.17.0?noext\",\n",
       "      \"vega-embed\": \"https://cdn.jsdelivr.net/npm//vega-embed@6?noext\",\n",
       "    };\n",
       "\n",
       "    function maybeLoadScript(lib, version) {\n",
       "      var key = `${lib.replace(\"-\", \"\")}_version`;\n",
       "      return (VEGA_DEBUG[key] == version) ?\n",
       "        Promise.resolve(paths[lib]) :\n",
       "        new Promise(function(resolve, reject) {\n",
       "          var s = document.createElement('script');\n",
       "          document.getElementsByTagName(\"head\")[0].appendChild(s);\n",
       "          s.async = true;\n",
       "          s.onload = () => {\n",
       "            VEGA_DEBUG[key] = version;\n",
       "            return resolve(paths[lib]);\n",
       "          };\n",
       "          s.onerror = () => reject(`Error loading script: ${paths[lib]}`);\n",
       "          s.src = paths[lib];\n",
       "        });\n",
       "    }\n",
       "\n",
       "    function showError(err) {\n",
       "      outputDiv.innerHTML = `<div class=\"error\" style=\"color:red;\">${err}</div>`;\n",
       "      throw err;\n",
       "    }\n",
       "\n",
       "    function displayChart(vegaEmbed) {\n",
       "      vegaEmbed(outputDiv, spec, embedOpt)\n",
       "        .catch(err => showError(`Javascript Error: ${err.message}<br>This usually means there's a typo in your chart specification. See the javascript console for the full traceback.`));\n",
       "    }\n",
       "\n",
       "    if(typeof define === \"function\" && define.amd) {\n",
       "      requirejs.config({paths});\n",
       "      require([\"vega-embed\"], displayChart, err => showError(`Error loading script: ${err.message}`));\n",
       "    } else {\n",
       "      maybeLoadScript(\"vega\", \"5\")\n",
       "        .then(() => maybeLoadScript(\"vega-lite\", \"4.17.0\"))\n",
       "        .then(() => maybeLoadScript(\"vega-embed\", \"6\"))\n",
       "        .catch(showError)\n",
       "        .then(() => displayChart(vegaEmbed));\n",
       "    }\n",
       "  })({\"config\": {\"view\": {\"continuousWidth\": 400, \"continuousHeight\": 300, \"strokeOpacity\": 0}, \"axisX\": {\"labelAngle\": 30}, \"mark\": {\"color\": \"#fab0ba\"}}, \"data\": {\"name\": \"data-0dc651d25483e8fd49dfd8e7e2d7c545\"}, \"mark\": \"bar\", \"encoding\": {\"tooltip\": [{\"field\": \"Time\", \"type\": \"temporal\"}, {\"field\": \"Withdrawn amount\", \"type\": \"quantitative\"}], \"x\": {\"field\": \"Time\", \"type\": \"temporal\"}, \"y\": {\"field\": \"Withdrawn amount\", \"type\": \"quantitative\"}}, \"width\": 700, \"$schema\": \"https://vega.github.io/schema/vega-lite/v4.17.0.json\", \"datasets\": {\"data-0dc651d25483e8fd49dfd8e7e2d7c545\": [{\"Time\": \"2022/02/02  11:00:00\", \"Withdrawn amount\": 1070.0, \"WITH_TX\": 2, \"N\\u00b0 of withdrawing users\": 2}, {\"Time\": \"2022/02/02  09:00:00\", \"Withdrawn amount\": 1150.0, \"WITH_TX\": 4, \"N\\u00b0 of withdrawing users\": 4}, {\"Time\": \"2022/02/01  20:00:00\", \"Withdrawn amount\": 104711.479309, \"WITH_TX\": 5, \"N\\u00b0 of withdrawing users\": 5}, {\"Time\": \"2022/02/01  12:00:00\", \"Withdrawn amount\": 857.670794, \"WITH_TX\": 3, \"N\\u00b0 of withdrawing users\": 3}, {\"Time\": \"2022/02/01  10:00:00\", \"Withdrawn amount\": 19312.0, \"WITH_TX\": 3, \"N\\u00b0 of withdrawing users\": 3}, {\"Time\": \"2022/02/01  19:00:00\", \"Withdrawn amount\": 1787.665637, \"WITH_TX\": 4, \"N\\u00b0 of withdrawing users\": 4}, {\"Time\": \"2022/02/01  23:00:00\", \"Withdrawn amount\": 4211.0, \"WITH_TX\": 5, \"N\\u00b0 of withdrawing users\": 5}, {\"Time\": \"2022/02/01  14:00:00\", \"Withdrawn amount\": 14000.0, \"WITH_TX\": 2, \"N\\u00b0 of withdrawing users\": 2}, {\"Time\": \"2022/02/01  15:00:00\", \"Withdrawn amount\": 7635.881191, \"WITH_TX\": 5, \"N\\u00b0 of withdrawing users\": 5}, {\"Time\": \"2022/02/01  17:00:00\", \"Withdrawn amount\": 4949.462797, \"WITH_TX\": 4, \"N\\u00b0 of withdrawing users\": 3}, {\"Time\": \"2022/02/01  22:00:00\", \"Withdrawn amount\": 1300.0, \"WITH_TX\": 3, \"N\\u00b0 of withdrawing users\": 3}, {\"Time\": \"2022/02/01  11:00:00\", \"Withdrawn amount\": 24691.0, \"WITH_TX\": 7, \"N\\u00b0 of withdrawing users\": 7}, {\"Time\": \"2022/02/02  02:00:00\", \"Withdrawn amount\": 1043.150932, \"WITH_TX\": 3, \"N\\u00b0 of withdrawing users\": 3}, {\"Time\": \"2022/02/01  18:00:00\", \"Withdrawn amount\": 1470.0, \"WITH_TX\": 2, \"N\\u00b0 of withdrawing users\": 2}, {\"Time\": \"2022/02/01  08:00:00\", \"Withdrawn amount\": 5923.464239, \"WITH_TX\": 3, \"N\\u00b0 of withdrawing users\": 3}, {\"Time\": \"2022/02/01  16:00:00\", \"Withdrawn amount\": 39640.0, \"WITH_TX\": 7, \"N\\u00b0 of withdrawing users\": 7}, {\"Time\": \"2022/02/02  03:00:00\", \"Withdrawn amount\": 3107.74, \"WITH_TX\": 2, \"N\\u00b0 of withdrawing users\": 2}, {\"Time\": \"2022/02/02  00:00:00\", \"Withdrawn amount\": 11500.0, \"WITH_TX\": 3, \"N\\u00b0 of withdrawing users\": 3}, {\"Time\": \"2022/02/02  06:00:00\", \"Withdrawn amount\": 1100.0, \"WITH_TX\": 1, \"N\\u00b0 of withdrawing users\": 1}, {\"Time\": \"2022/02/02  08:00:00\", \"Withdrawn amount\": 61028.0, \"WITH_TX\": 5, \"N\\u00b0 of withdrawing users\": 5}, {\"Time\": \"2022/02/02  07:00:00\", \"Withdrawn amount\": 2445.084556, \"WITH_TX\": 3, \"N\\u00b0 of withdrawing users\": 3}, {\"Time\": \"2022/02/02  04:00:00\", \"Withdrawn amount\": 16219.0, \"WITH_TX\": 4, \"N\\u00b0 of withdrawing users\": 4}, {\"Time\": \"2022/02/01  07:00:00\", \"Withdrawn amount\": 501183.642552, \"WITH_TX\": 11, \"N\\u00b0 of withdrawing users\": 11}, {\"Time\": \"2022/02/02  12:00:00\", \"Withdrawn amount\": 12291.0, \"WITH_TX\": 6, \"N\\u00b0 of withdrawing users\": 5}, {\"Time\": \"2022/02/01  21:00:00\", \"Withdrawn amount\": 2642.0, \"WITH_TX\": 5, \"N\\u00b0 of withdrawing users\": 5}, {\"Time\": \"2022/02/02  05:00:00\", \"Withdrawn amount\": 515900.0, \"WITH_TX\": 2, \"N\\u00b0 of withdrawing users\": 2}, {\"Time\": \"2022/02/02  10:00:00\", \"Withdrawn amount\": 2850.0, \"WITH_TX\": 4, \"N\\u00b0 of withdrawing users\": 4}, {\"Time\": \"2022/02/01  09:00:00\", \"Withdrawn amount\": 1250.0, \"WITH_TX\": 2, \"N\\u00b0 of withdrawing users\": 2}, {\"Time\": \"2022/02/01  13:00:00\", \"Withdrawn amount\": 1930.0, \"WITH_TX\": 2, \"N\\u00b0 of withdrawing users\": 2}]}}, {\"theme\": \"dark\", \"mode\": \"vega-lite\"});\n",
       "</script>"
      ],
      "text/plain": [
       "alt.Chart(...)"
      ]
     },
     "execution_count": 101,
     "metadata": {},
     "output_type": "execute_result"
    }
   ],
   "source": [
    "alt.Chart(p2_hourly_df.rename(columns=cols_dict)).mark_bar().encode(\n",
    "    x=cols_dict['HR']+':T',\n",
    "    y=cols_dict['WITH_AMOUNT']+\":Q\",\n",
    "    tooltip=[cols_dict['HR']+':T',cols_dict['WITH_AMOUNT']+\":Q\"]\n",
    ").configure_mark(\n",
    "    color='#fab0ba'\n",
    ").properties(width=700).configure_axisX(\n",
    "    labelAngle=30\n",
    ").configure_view(strokeOpacity=0)"
   ]
  },
  {
   "cell_type": "code",
   "execution_count": 102,
   "metadata": {},
   "outputs": [
    {
     "data": {
      "text/html": [
       "\n",
       "<div id=\"altair-viz-be0d75dc72b140d7ae89b38313634e93\"></div>\n",
       "<script type=\"text/javascript\">\n",
       "  var VEGA_DEBUG = (typeof VEGA_DEBUG == \"undefined\") ? {} : VEGA_DEBUG;\n",
       "  (function(spec, embedOpt){\n",
       "    let outputDiv = document.currentScript.previousElementSibling;\n",
       "    if (outputDiv.id !== \"altair-viz-be0d75dc72b140d7ae89b38313634e93\") {\n",
       "      outputDiv = document.getElementById(\"altair-viz-be0d75dc72b140d7ae89b38313634e93\");\n",
       "    }\n",
       "    const paths = {\n",
       "      \"vega\": \"https://cdn.jsdelivr.net/npm//vega@5?noext\",\n",
       "      \"vega-lib\": \"https://cdn.jsdelivr.net/npm//vega-lib?noext\",\n",
       "      \"vega-lite\": \"https://cdn.jsdelivr.net/npm//vega-lite@4.17.0?noext\",\n",
       "      \"vega-embed\": \"https://cdn.jsdelivr.net/npm//vega-embed@6?noext\",\n",
       "    };\n",
       "\n",
       "    function maybeLoadScript(lib, version) {\n",
       "      var key = `${lib.replace(\"-\", \"\")}_version`;\n",
       "      return (VEGA_DEBUG[key] == version) ?\n",
       "        Promise.resolve(paths[lib]) :\n",
       "        new Promise(function(resolve, reject) {\n",
       "          var s = document.createElement('script');\n",
       "          document.getElementsByTagName(\"head\")[0].appendChild(s);\n",
       "          s.async = true;\n",
       "          s.onload = () => {\n",
       "            VEGA_DEBUG[key] = version;\n",
       "            return resolve(paths[lib]);\n",
       "          };\n",
       "          s.onerror = () => reject(`Error loading script: ${paths[lib]}`);\n",
       "          s.src = paths[lib];\n",
       "        });\n",
       "    }\n",
       "\n",
       "    function showError(err) {\n",
       "      outputDiv.innerHTML = `<div class=\"error\" style=\"color:red;\">${err}</div>`;\n",
       "      throw err;\n",
       "    }\n",
       "\n",
       "    function displayChart(vegaEmbed) {\n",
       "      vegaEmbed(outputDiv, spec, embedOpt)\n",
       "        .catch(err => showError(`Javascript Error: ${err.message}<br>This usually means there's a typo in your chart specification. See the javascript console for the full traceback.`));\n",
       "    }\n",
       "\n",
       "    if(typeof define === \"function\" && define.amd) {\n",
       "      requirejs.config({paths});\n",
       "      require([\"vega-embed\"], displayChart, err => showError(`Error loading script: ${err.message}`));\n",
       "    } else {\n",
       "      maybeLoadScript(\"vega\", \"5\")\n",
       "        .then(() => maybeLoadScript(\"vega-lite\", \"4.17.0\"))\n",
       "        .then(() => maybeLoadScript(\"vega-embed\", \"6\"))\n",
       "        .catch(showError)\n",
       "        .then(() => displayChart(vegaEmbed));\n",
       "    }\n",
       "  })({\"config\": {\"view\": {\"continuousWidth\": 400, \"continuousHeight\": 300, \"strokeOpacity\": 0}, \"axisX\": {\"labelAngle\": 30}, \"mark\": {\"color\": \"#fab0ba\"}}, \"data\": {\"name\": \"data-0dc651d25483e8fd49dfd8e7e2d7c545\"}, \"mark\": \"bar\", \"encoding\": {\"tooltip\": [{\"field\": \"Time\", \"type\": \"temporal\"}, {\"field\": \"N\\u00b0 of withdrawing users\", \"type\": \"quantitative\"}], \"x\": {\"field\": \"Time\", \"type\": \"temporal\"}, \"y\": {\"field\": \"N\\u00b0 of withdrawing users\", \"type\": \"quantitative\"}}, \"width\": 700, \"$schema\": \"https://vega.github.io/schema/vega-lite/v4.17.0.json\", \"datasets\": {\"data-0dc651d25483e8fd49dfd8e7e2d7c545\": [{\"Time\": \"2022/02/02  11:00:00\", \"Withdrawn amount\": 1070.0, \"WITH_TX\": 2, \"N\\u00b0 of withdrawing users\": 2}, {\"Time\": \"2022/02/02  09:00:00\", \"Withdrawn amount\": 1150.0, \"WITH_TX\": 4, \"N\\u00b0 of withdrawing users\": 4}, {\"Time\": \"2022/02/01  20:00:00\", \"Withdrawn amount\": 104711.479309, \"WITH_TX\": 5, \"N\\u00b0 of withdrawing users\": 5}, {\"Time\": \"2022/02/01  12:00:00\", \"Withdrawn amount\": 857.670794, \"WITH_TX\": 3, \"N\\u00b0 of withdrawing users\": 3}, {\"Time\": \"2022/02/01  10:00:00\", \"Withdrawn amount\": 19312.0, \"WITH_TX\": 3, \"N\\u00b0 of withdrawing users\": 3}, {\"Time\": \"2022/02/01  19:00:00\", \"Withdrawn amount\": 1787.665637, \"WITH_TX\": 4, \"N\\u00b0 of withdrawing users\": 4}, {\"Time\": \"2022/02/01  23:00:00\", \"Withdrawn amount\": 4211.0, \"WITH_TX\": 5, \"N\\u00b0 of withdrawing users\": 5}, {\"Time\": \"2022/02/01  14:00:00\", \"Withdrawn amount\": 14000.0, \"WITH_TX\": 2, \"N\\u00b0 of withdrawing users\": 2}, {\"Time\": \"2022/02/01  15:00:00\", \"Withdrawn amount\": 7635.881191, \"WITH_TX\": 5, \"N\\u00b0 of withdrawing users\": 5}, {\"Time\": \"2022/02/01  17:00:00\", \"Withdrawn amount\": 4949.462797, \"WITH_TX\": 4, \"N\\u00b0 of withdrawing users\": 3}, {\"Time\": \"2022/02/01  22:00:00\", \"Withdrawn amount\": 1300.0, \"WITH_TX\": 3, \"N\\u00b0 of withdrawing users\": 3}, {\"Time\": \"2022/02/01  11:00:00\", \"Withdrawn amount\": 24691.0, \"WITH_TX\": 7, \"N\\u00b0 of withdrawing users\": 7}, {\"Time\": \"2022/02/02  02:00:00\", \"Withdrawn amount\": 1043.150932, \"WITH_TX\": 3, \"N\\u00b0 of withdrawing users\": 3}, {\"Time\": \"2022/02/01  18:00:00\", \"Withdrawn amount\": 1470.0, \"WITH_TX\": 2, \"N\\u00b0 of withdrawing users\": 2}, {\"Time\": \"2022/02/01  08:00:00\", \"Withdrawn amount\": 5923.464239, \"WITH_TX\": 3, \"N\\u00b0 of withdrawing users\": 3}, {\"Time\": \"2022/02/01  16:00:00\", \"Withdrawn amount\": 39640.0, \"WITH_TX\": 7, \"N\\u00b0 of withdrawing users\": 7}, {\"Time\": \"2022/02/02  03:00:00\", \"Withdrawn amount\": 3107.74, \"WITH_TX\": 2, \"N\\u00b0 of withdrawing users\": 2}, {\"Time\": \"2022/02/02  00:00:00\", \"Withdrawn amount\": 11500.0, \"WITH_TX\": 3, \"N\\u00b0 of withdrawing users\": 3}, {\"Time\": \"2022/02/02  06:00:00\", \"Withdrawn amount\": 1100.0, \"WITH_TX\": 1, \"N\\u00b0 of withdrawing users\": 1}, {\"Time\": \"2022/02/02  08:00:00\", \"Withdrawn amount\": 61028.0, \"WITH_TX\": 5, \"N\\u00b0 of withdrawing users\": 5}, {\"Time\": \"2022/02/02  07:00:00\", \"Withdrawn amount\": 2445.084556, \"WITH_TX\": 3, \"N\\u00b0 of withdrawing users\": 3}, {\"Time\": \"2022/02/02  04:00:00\", \"Withdrawn amount\": 16219.0, \"WITH_TX\": 4, \"N\\u00b0 of withdrawing users\": 4}, {\"Time\": \"2022/02/01  07:00:00\", \"Withdrawn amount\": 501183.642552, \"WITH_TX\": 11, \"N\\u00b0 of withdrawing users\": 11}, {\"Time\": \"2022/02/02  12:00:00\", \"Withdrawn amount\": 12291.0, \"WITH_TX\": 6, \"N\\u00b0 of withdrawing users\": 5}, {\"Time\": \"2022/02/01  21:00:00\", \"Withdrawn amount\": 2642.0, \"WITH_TX\": 5, \"N\\u00b0 of withdrawing users\": 5}, {\"Time\": \"2022/02/02  05:00:00\", \"Withdrawn amount\": 515900.0, \"WITH_TX\": 2, \"N\\u00b0 of withdrawing users\": 2}, {\"Time\": \"2022/02/02  10:00:00\", \"Withdrawn amount\": 2850.0, \"WITH_TX\": 4, \"N\\u00b0 of withdrawing users\": 4}, {\"Time\": \"2022/02/01  09:00:00\", \"Withdrawn amount\": 1250.0, \"WITH_TX\": 2, \"N\\u00b0 of withdrawing users\": 2}, {\"Time\": \"2022/02/01  13:00:00\", \"Withdrawn amount\": 1930.0, \"WITH_TX\": 2, \"N\\u00b0 of withdrawing users\": 2}]}}, {\"theme\": \"dark\", \"mode\": \"vega-lite\"});\n",
       "</script>"
      ],
      "text/plain": [
       "alt.Chart(...)"
      ]
     },
     "execution_count": 102,
     "metadata": {},
     "output_type": "execute_result"
    }
   ],
   "source": [
    "alt.Chart(p2_hourly_df.rename(columns=cols_dict)).mark_bar().encode(\n",
    "    x=cols_dict['HR']+':T',\n",
    "    y=cols_dict['WITH_USERS']+\":Q\",\n",
    "    tooltip=[cols_dict['HR']+':T',cols_dict['WITH_USERS']+\":Q\"]\n",
    ").configure_mark(\n",
    "    color='#fab0ba'\n",
    ").properties(width=700).configure_axisX(\n",
    "    labelAngle=30\n",
    ").configure_view(strokeOpacity=0)"
   ]
  },
  {
   "cell_type": "code",
   "execution_count": 124,
   "metadata": {},
   "outputs": [
    {
     "name": "stderr",
     "output_type": "stream",
     "text": [
      "C:\\Users\\aincerti\\AppData\\Local\\Temp\\ipykernel_19004\\714602707.py:2: SettingWithCopyWarning: \n",
      "A value is trying to be set on a copy of a slice from a DataFrame.\n",
      "Try using .loc[row_indexer,col_indexer] = value instead\n",
      "\n",
      "See the caveats in the documentation: https://pandas.pydata.org/pandas-docs/stable/user_guide/indexing.html#returning-a-view-versus-a-copy\n",
      "  df['perc_withdrawn'] = df[df['HR'].notna()]['WITHDRAWN_AMOUNT']/df['NET_DEPOSITED_AMOUNT']*100\n",
      "C:\\Users\\aincerti\\AppData\\Local\\Temp\\ipykernel_19004\\714602707.py:3: SettingWithCopyWarning: \n",
      "A value is trying to be set on a copy of a slice from a DataFrame.\n",
      "Try using .loc[row_indexer,col_indexer] = value instead\n",
      "\n",
      "See the caveats in the documentation: https://pandas.pydata.org/pandas-docs/stable/user_guide/indexing.html#returning-a-view-versus-a-copy\n",
      "  df['perc_withdrawn_cat'] = (df['perc_withdrawn']/100).apply(lambda x: int(x))\n"
     ]
    }
   ],
   "source": [
    "df = p2_users_df[p2_users_df['HR'].notna()&p2_users_df['NET_DEPOSITED_AMOUNT']>0]\n",
    "df['perc_withdrawn'] = df[df['HR'].notna()]['WITHDRAWN_AMOUNT']/df['NET_DEPOSITED_AMOUNT']*100\n",
    "df['perc_withdrawn_cat'] = (df['perc_withdrawn']/100).apply(lambda x: int(x))\n",
    "df2 = df.groupby('perc_withdrawn_cat').SENDER.count()"
   ]
  },
  {
   "cell_type": "code",
   "execution_count": 155,
   "metadata": {},
   "outputs": [],
   "source": [
    "perc_cat = list(range(10))\n",
    "cat = pd.DataFrame([0]*10,perc_cat)\n",
    "df3 = cat.join(df2,how='outer')\n",
    "df3.index =  ['0%-10%','10%-20%','20%-30%','30%-40%','40%-50%','50%-60%','60%-70%','70%-80%','80%-90%','90%-100%']\n",
    "df3 = df3.SENDER.fillna(0).reset_index()\n",
    "df3=df3.rename(columns={'index':'PERC_WITHDRAWN','SENDER':'TOT_USERS'})"
   ]
  },
  {
   "cell_type": "code",
   "execution_count": 156,
   "metadata": {},
   "outputs": [
    {
     "data": {
      "text/html": [
       "\n",
       "<div id=\"altair-viz-0f9bdc58ddba4e3591b162b707328df4\"></div>\n",
       "<script type=\"text/javascript\">\n",
       "  var VEGA_DEBUG = (typeof VEGA_DEBUG == \"undefined\") ? {} : VEGA_DEBUG;\n",
       "  (function(spec, embedOpt){\n",
       "    let outputDiv = document.currentScript.previousElementSibling;\n",
       "    if (outputDiv.id !== \"altair-viz-0f9bdc58ddba4e3591b162b707328df4\") {\n",
       "      outputDiv = document.getElementById(\"altair-viz-0f9bdc58ddba4e3591b162b707328df4\");\n",
       "    }\n",
       "    const paths = {\n",
       "      \"vega\": \"https://cdn.jsdelivr.net/npm//vega@5?noext\",\n",
       "      \"vega-lib\": \"https://cdn.jsdelivr.net/npm//vega-lib?noext\",\n",
       "      \"vega-lite\": \"https://cdn.jsdelivr.net/npm//vega-lite@4.17.0?noext\",\n",
       "      \"vega-embed\": \"https://cdn.jsdelivr.net/npm//vega-embed@6?noext\",\n",
       "    };\n",
       "\n",
       "    function maybeLoadScript(lib, version) {\n",
       "      var key = `${lib.replace(\"-\", \"\")}_version`;\n",
       "      return (VEGA_DEBUG[key] == version) ?\n",
       "        Promise.resolve(paths[lib]) :\n",
       "        new Promise(function(resolve, reject) {\n",
       "          var s = document.createElement('script');\n",
       "          document.getElementsByTagName(\"head\")[0].appendChild(s);\n",
       "          s.async = true;\n",
       "          s.onload = () => {\n",
       "            VEGA_DEBUG[key] = version;\n",
       "            return resolve(paths[lib]);\n",
       "          };\n",
       "          s.onerror = () => reject(`Error loading script: ${paths[lib]}`);\n",
       "          s.src = paths[lib];\n",
       "        });\n",
       "    }\n",
       "\n",
       "    function showError(err) {\n",
       "      outputDiv.innerHTML = `<div class=\"error\" style=\"color:red;\">${err}</div>`;\n",
       "      throw err;\n",
       "    }\n",
       "\n",
       "    function displayChart(vegaEmbed) {\n",
       "      vegaEmbed(outputDiv, spec, embedOpt)\n",
       "        .catch(err => showError(`Javascript Error: ${err.message}<br>This usually means there's a typo in your chart specification. See the javascript console for the full traceback.`));\n",
       "    }\n",
       "\n",
       "    if(typeof define === \"function\" && define.amd) {\n",
       "      requirejs.config({paths});\n",
       "      require([\"vega-embed\"], displayChart, err => showError(`Error loading script: ${err.message}`));\n",
       "    } else {\n",
       "      maybeLoadScript(\"vega\", \"5\")\n",
       "        .then(() => maybeLoadScript(\"vega-lite\", \"4.17.0\"))\n",
       "        .then(() => maybeLoadScript(\"vega-embed\", \"6\"))\n",
       "        .catch(showError)\n",
       "        .then(() => displayChart(vegaEmbed));\n",
       "    }\n",
       "  })({\"config\": {\"view\": {\"continuousWidth\": 400, \"continuousHeight\": 300, \"strokeOpacity\": 0}, \"axisX\": {\"labelAngle\": 0}, \"mark\": {\"color\": \"#F1705F\"}}, \"data\": {\"name\": \"data-20d17f4187f3f863594f4bd8cc1ccab2\"}, \"mark\": \"bar\", \"encoding\": {\"tooltip\": [{\"field\": \"% withdrawn of the deposited amount\", \"type\": \"nominal\"}, {\"field\": \"N\\u00b0 of users\", \"type\": \"quantitative\"}], \"x\": {\"field\": \"N\\u00b0 of users\", \"type\": \"quantitative\"}, \"y\": {\"field\": \"% withdrawn of the deposited amount\", \"sort\": {\"order\": \"ascending\"}, \"type\": \"nominal\"}}, \"height\": 300, \"$schema\": \"https://vega.github.io/schema/vega-lite/v4.17.0.json\", \"datasets\": {\"data-20d17f4187f3f863594f4bd8cc1ccab2\": [{\"% withdrawn of the deposited amount\": \"0%-10%\", \"N\\u00b0 of users\": 18.0}, {\"% withdrawn of the deposited amount\": \"10%-20%\", \"N\\u00b0 of users\": 8.0}, {\"% withdrawn of the deposited amount\": \"20%-30%\", \"N\\u00b0 of users\": 1.0}, {\"% withdrawn of the deposited amount\": \"30%-40%\", \"N\\u00b0 of users\": 2.0}, {\"% withdrawn of the deposited amount\": \"40%-50%\", \"N\\u00b0 of users\": 2.0}, {\"% withdrawn of the deposited amount\": \"50%-60%\", \"N\\u00b0 of users\": 1.0}, {\"% withdrawn of the deposited amount\": \"60%-70%\", \"N\\u00b0 of users\": 0.0}, {\"% withdrawn of the deposited amount\": \"70%-80%\", \"N\\u00b0 of users\": 0.0}, {\"% withdrawn of the deposited amount\": \"80%-90%\", \"N\\u00b0 of users\": 1.0}, {\"% withdrawn of the deposited amount\": \"90%-100%\", \"N\\u00b0 of users\": 0.0}]}}, {\"theme\": \"dark\", \"mode\": \"vega-lite\"});\n",
       "</script>"
      ],
      "text/plain": [
       "alt.Chart(...)"
      ]
     },
     "execution_count": 156,
     "metadata": {},
     "output_type": "execute_result"
    }
   ],
   "source": [
    "alt.Chart(df3.sort_values(by='PERC_WITHDRAWN').rename(columns=cols_dict)).mark_bar().encode(\n",
    "    y=alt.X(cols_dict['PERC_WITHDRAWN']+\":N\", sort=alt.EncodingSortField(order='ascending')),\n",
    "    x=cols_dict['TOT_USERS']+\":Q\",\n",
    "    tooltip=[cols_dict['PERC_WITHDRAWN']+\":N\",cols_dict['TOT_USERS']+\":Q\"]\n",
    ").configure_mark(\n",
    "    color='#F1705F'\n",
    ").properties(height=300).configure_axisX(\n",
    "    labelAngle=0\n",
    ").configure_view(strokeOpacity=0)"
   ]
  },
  {
   "cell_type": "code",
   "execution_count": 162,
   "metadata": {},
   "outputs": [
    {
     "data": {
      "text/html": [
       "<div>\n",
       "<style scoped>\n",
       "    .dataframe tbody tr th:only-of-type {\n",
       "        vertical-align: middle;\n",
       "    }\n",
       "\n",
       "    .dataframe tbody tr th {\n",
       "        vertical-align: top;\n",
       "    }\n",
       "\n",
       "    .dataframe thead th {\n",
       "        text-align: right;\n",
       "    }\n",
       "</style>\n",
       "<table border=\"1\" class=\"dataframe\">\n",
       "  <thead>\n",
       "    <tr style=\"text-align: right;\">\n",
       "      <th></th>\n",
       "      <th>HR</th>\n",
       "      <th>WITH_AMOUNT</th>\n",
       "      <th>WITH_TX</th>\n",
       "      <th>WITH_USERS</th>\n",
       "      <th>cumsum_with</th>\n",
       "      <th>net_ust</th>\n",
       "    </tr>\n",
       "  </thead>\n",
       "  <tbody>\n",
       "    <tr>\n",
       "      <th>22</th>\n",
       "      <td>2022/02/01  07:00:00</td>\n",
       "      <td>501183.642552</td>\n",
       "      <td>11</td>\n",
       "      <td>11</td>\n",
       "      <td>501183.642552</td>\n",
       "      <td>3.893072e+06</td>\n",
       "    </tr>\n",
       "    <tr>\n",
       "      <th>14</th>\n",
       "      <td>2022/02/01  08:00:00</td>\n",
       "      <td>5923.464239</td>\n",
       "      <td>3</td>\n",
       "      <td>3</td>\n",
       "      <td>507107.106791</td>\n",
       "      <td>3.887148e+06</td>\n",
       "    </tr>\n",
       "    <tr>\n",
       "      <th>27</th>\n",
       "      <td>2022/02/01  09:00:00</td>\n",
       "      <td>1250.000000</td>\n",
       "      <td>2</td>\n",
       "      <td>2</td>\n",
       "      <td>508357.106791</td>\n",
       "      <td>3.885898e+06</td>\n",
       "    </tr>\n",
       "    <tr>\n",
       "      <th>4</th>\n",
       "      <td>2022/02/01  10:00:00</td>\n",
       "      <td>19312.000000</td>\n",
       "      <td>3</td>\n",
       "      <td>3</td>\n",
       "      <td>527669.106791</td>\n",
       "      <td>3.866586e+06</td>\n",
       "    </tr>\n",
       "    <tr>\n",
       "      <th>11</th>\n",
       "      <td>2022/02/01  11:00:00</td>\n",
       "      <td>24691.000000</td>\n",
       "      <td>7</td>\n",
       "      <td>7</td>\n",
       "      <td>552360.106791</td>\n",
       "      <td>3.841895e+06</td>\n",
       "    </tr>\n",
       "  </tbody>\n",
       "</table>\n",
       "</div>"
      ],
      "text/plain": [
       "                      HR    WITH_AMOUNT  WITH_TX  WITH_USERS    cumsum_with  \\\n",
       "22  2022/02/01  07:00:00  501183.642552       11          11  501183.642552   \n",
       "14  2022/02/01  08:00:00    5923.464239        3           3  507107.106791   \n",
       "27  2022/02/01  09:00:00    1250.000000        2           2  508357.106791   \n",
       "4   2022/02/01  10:00:00   19312.000000        3           3  527669.106791   \n",
       "11  2022/02/01  11:00:00   24691.000000        7           7  552360.106791   \n",
       "\n",
       "         net_ust  \n",
       "22  3.893072e+06  \n",
       "14  3.887148e+06  \n",
       "27  3.885898e+06  \n",
       "4   3.866586e+06  \n",
       "11  3.841895e+06  "
      ]
     },
     "execution_count": 162,
     "metadata": {},
     "output_type": "execute_result"
    }
   ],
   "source": [
    "p2_hourly_df = p2_hourly_df.sort_values(by='HR')\n",
    "p2_hourly_df['cumsum_with'] = p2_hourly_df.sort_values(by='HR').WITH_AMOUNT.cumsum()\n",
    "p2_hourly_df['net_ust'] = tot_ust_p1 - p2_hourly_df['cumsum_with']\n",
    "p2_hourly_df.head()"
   ]
  },
  {
   "cell_type": "code",
   "execution_count": 180,
   "metadata": {},
   "outputs": [
    {
     "ename": "SchemaValidationError",
     "evalue": "Invalid specification\n\n        altair.vegalite.v4.schema.core.FacetedEncoding->2->items, validating 'type'\n\n        [{'field': 'Time', 'format': '%Y-%m-%d %H:%M', 'type': 'temporal'}] is not of type 'object'\n        ",
     "output_type": "error",
     "traceback": [
      "\u001b[1;31m---------------------------------------------------------------------------\u001b[0m",
      "\u001b[1;31mSchemaValidationError\u001b[0m                     Traceback (most recent call last)",
      "File \u001b[1;32m~\\.virtualenvs\\prism_forge-4W6YNPXR\\lib\\site-packages\\altair\\vegalite\\v4\\api.py:2020\u001b[0m, in \u001b[0;36mChart.to_dict\u001b[1;34m(self, *args, **kwargs)\u001b[0m\n\u001b[0;32m   2018\u001b[0m     copy\u001b[38;5;241m.\u001b[39mdata \u001b[38;5;241m=\u001b[39m core\u001b[38;5;241m.\u001b[39mInlineData(values\u001b[38;5;241m=\u001b[39m[{}])\n\u001b[0;32m   2019\u001b[0m     \u001b[38;5;28;01mreturn\u001b[39;00m \u001b[38;5;28msuper\u001b[39m(Chart, copy)\u001b[38;5;241m.\u001b[39mto_dict(\u001b[38;5;241m*\u001b[39margs, \u001b[38;5;241m*\u001b[39m\u001b[38;5;241m*\u001b[39mkwargs)\n\u001b[1;32m-> 2020\u001b[0m \u001b[38;5;28;01mreturn\u001b[39;00m \u001b[38;5;28;43msuper\u001b[39;49m\u001b[43m(\u001b[49m\u001b[43m)\u001b[49m\u001b[38;5;241;43m.\u001b[39;49m\u001b[43mto_dict\u001b[49m\u001b[43m(\u001b[49m\u001b[38;5;241;43m*\u001b[39;49m\u001b[43margs\u001b[49m\u001b[43m,\u001b[49m\u001b[43m \u001b[49m\u001b[38;5;241;43m*\u001b[39;49m\u001b[38;5;241;43m*\u001b[39;49m\u001b[43mkwargs\u001b[49m\u001b[43m)\u001b[49m\n",
      "File \u001b[1;32m~\\.virtualenvs\\prism_forge-4W6YNPXR\\lib\\site-packages\\altair\\vegalite\\v4\\api.py:393\u001b[0m, in \u001b[0;36mTopLevelMixin.to_dict\u001b[1;34m(self, *args, **kwargs)\u001b[0m\n\u001b[0;32m    391\u001b[0m \u001b[38;5;28;01mif\u001b[39;00m dct \u001b[38;5;129;01mis\u001b[39;00m \u001b[38;5;28;01mNone\u001b[39;00m:\n\u001b[0;32m    392\u001b[0m     kwargs[\u001b[38;5;124m\"\u001b[39m\u001b[38;5;124mvalidate\u001b[39m\u001b[38;5;124m\"\u001b[39m] \u001b[38;5;241m=\u001b[39m \u001b[38;5;124m\"\u001b[39m\u001b[38;5;124mdeep\u001b[39m\u001b[38;5;124m\"\u001b[39m\n\u001b[1;32m--> 393\u001b[0m     dct \u001b[38;5;241m=\u001b[39m \u001b[38;5;28;43msuper\u001b[39;49m\u001b[43m(\u001b[49m\u001b[43mTopLevelMixin\u001b[49m\u001b[43m,\u001b[49m\u001b[43m \u001b[49m\u001b[43mcopy\u001b[49m\u001b[43m)\u001b[49m\u001b[38;5;241;43m.\u001b[39;49m\u001b[43mto_dict\u001b[49m\u001b[43m(\u001b[49m\u001b[38;5;241;43m*\u001b[39;49m\u001b[43margs\u001b[49m\u001b[43m,\u001b[49m\u001b[43m \u001b[49m\u001b[38;5;241;43m*\u001b[39;49m\u001b[38;5;241;43m*\u001b[39;49m\u001b[43mkwargs\u001b[49m\u001b[43m)\u001b[49m\n\u001b[0;32m    395\u001b[0m \u001b[38;5;66;03m# TODO: following entries are added after validation. Should they be validated?\u001b[39;00m\n\u001b[0;32m    396\u001b[0m \u001b[38;5;28;01mif\u001b[39;00m is_top_level:\n\u001b[0;32m    397\u001b[0m     \u001b[38;5;66;03m# since this is top-level we add $schema if it's missing\u001b[39;00m\n",
      "File \u001b[1;32m~\\.virtualenvs\\prism_forge-4W6YNPXR\\lib\\site-packages\\altair\\utils\\schemapi.py:326\u001b[0m, in \u001b[0;36mSchemaBase.to_dict\u001b[1;34m(self, validate, ignore, context)\u001b[0m\n\u001b[0;32m    324\u001b[0m     result \u001b[38;5;241m=\u001b[39m _todict(\u001b[38;5;28mself\u001b[39m\u001b[38;5;241m.\u001b[39m_args[\u001b[38;5;241m0\u001b[39m], validate\u001b[38;5;241m=\u001b[39msub_validate, context\u001b[38;5;241m=\u001b[39mcontext)\n\u001b[0;32m    325\u001b[0m \u001b[38;5;28;01melif\u001b[39;00m \u001b[38;5;129;01mnot\u001b[39;00m \u001b[38;5;28mself\u001b[39m\u001b[38;5;241m.\u001b[39m_args:\n\u001b[1;32m--> 326\u001b[0m     result \u001b[38;5;241m=\u001b[39m \u001b[43m_todict\u001b[49m\u001b[43m(\u001b[49m\n\u001b[0;32m    327\u001b[0m \u001b[43m        \u001b[49m\u001b[43m{\u001b[49m\u001b[43mk\u001b[49m\u001b[43m:\u001b[49m\u001b[43m \u001b[49m\u001b[43mv\u001b[49m\u001b[43m \u001b[49m\u001b[38;5;28;43;01mfor\u001b[39;49;00m\u001b[43m \u001b[49m\u001b[43mk\u001b[49m\u001b[43m,\u001b[49m\u001b[43m \u001b[49m\u001b[43mv\u001b[49m\u001b[43m \u001b[49m\u001b[38;5;129;43;01min\u001b[39;49;00m\u001b[43m \u001b[49m\u001b[38;5;28;43mself\u001b[39;49m\u001b[38;5;241;43m.\u001b[39;49m\u001b[43m_kwds\u001b[49m\u001b[38;5;241;43m.\u001b[39;49m\u001b[43mitems\u001b[49m\u001b[43m(\u001b[49m\u001b[43m)\u001b[49m\u001b[43m \u001b[49m\u001b[38;5;28;43;01mif\u001b[39;49;00m\u001b[43m \u001b[49m\u001b[43mk\u001b[49m\u001b[43m \u001b[49m\u001b[38;5;129;43;01mnot\u001b[39;49;00m\u001b[43m \u001b[49m\u001b[38;5;129;43;01min\u001b[39;49;00m\u001b[43m \u001b[49m\u001b[43mignore\u001b[49m\u001b[43m}\u001b[49m\u001b[43m,\u001b[49m\n\u001b[0;32m    328\u001b[0m \u001b[43m        \u001b[49m\u001b[43mvalidate\u001b[49m\u001b[38;5;241;43m=\u001b[39;49m\u001b[43msub_validate\u001b[49m\u001b[43m,\u001b[49m\n\u001b[0;32m    329\u001b[0m \u001b[43m        \u001b[49m\u001b[43mcontext\u001b[49m\u001b[38;5;241;43m=\u001b[39;49m\u001b[43mcontext\u001b[49m\u001b[43m,\u001b[49m\n\u001b[0;32m    330\u001b[0m \u001b[43m    \u001b[49m\u001b[43m)\u001b[49m\n\u001b[0;32m    331\u001b[0m \u001b[38;5;28;01melse\u001b[39;00m:\n\u001b[0;32m    332\u001b[0m     \u001b[38;5;28;01mraise\u001b[39;00m \u001b[38;5;167;01mValueError\u001b[39;00m(\n\u001b[0;32m    333\u001b[0m         \u001b[38;5;124m\"\u001b[39m\u001b[38;5;132;01m{}\u001b[39;00m\u001b[38;5;124m instance has both a value and properties : \u001b[39m\u001b[38;5;124m\"\u001b[39m\n\u001b[0;32m    334\u001b[0m         \u001b[38;5;124m\"\u001b[39m\u001b[38;5;124mcannot serialize to dict\u001b[39m\u001b[38;5;124m\"\u001b[39m\u001b[38;5;241m.\u001b[39mformat(\u001b[38;5;28mself\u001b[39m\u001b[38;5;241m.\u001b[39m\u001b[38;5;18m__class__\u001b[39m)\n\u001b[0;32m    335\u001b[0m     )\n",
      "File \u001b[1;32m~\\.virtualenvs\\prism_forge-4W6YNPXR\\lib\\site-packages\\altair\\utils\\schemapi.py:60\u001b[0m, in \u001b[0;36m_todict\u001b[1;34m(obj, validate, context)\u001b[0m\n\u001b[0;32m     58\u001b[0m     \u001b[38;5;28;01mreturn\u001b[39;00m [_todict(v, validate, context) \u001b[38;5;28;01mfor\u001b[39;00m v \u001b[38;5;129;01min\u001b[39;00m obj]\n\u001b[0;32m     59\u001b[0m \u001b[38;5;28;01melif\u001b[39;00m \u001b[38;5;28misinstance\u001b[39m(obj, \u001b[38;5;28mdict\u001b[39m):\n\u001b[1;32m---> 60\u001b[0m     \u001b[38;5;28;01mreturn\u001b[39;00m {\n\u001b[0;32m     61\u001b[0m         k: _todict(v, validate, context)\n\u001b[0;32m     62\u001b[0m         \u001b[38;5;28;01mfor\u001b[39;00m k, v \u001b[38;5;129;01min\u001b[39;00m obj\u001b[38;5;241m.\u001b[39mitems()\n\u001b[0;32m     63\u001b[0m         \u001b[38;5;28;01mif\u001b[39;00m v \u001b[38;5;129;01mis\u001b[39;00m \u001b[38;5;129;01mnot\u001b[39;00m Undefined\n\u001b[0;32m     64\u001b[0m     }\n\u001b[0;32m     65\u001b[0m \u001b[38;5;28;01melif\u001b[39;00m \u001b[38;5;28mhasattr\u001b[39m(obj, \u001b[38;5;124m\"\u001b[39m\u001b[38;5;124mto_dict\u001b[39m\u001b[38;5;124m\"\u001b[39m):\n\u001b[0;32m     66\u001b[0m     \u001b[38;5;28;01mreturn\u001b[39;00m obj\u001b[38;5;241m.\u001b[39mto_dict()\n",
      "File \u001b[1;32m~\\.virtualenvs\\prism_forge-4W6YNPXR\\lib\\site-packages\\altair\\utils\\schemapi.py:61\u001b[0m, in \u001b[0;36m<dictcomp>\u001b[1;34m(.0)\u001b[0m\n\u001b[0;32m     58\u001b[0m     \u001b[38;5;28;01mreturn\u001b[39;00m [_todict(v, validate, context) \u001b[38;5;28;01mfor\u001b[39;00m v \u001b[38;5;129;01min\u001b[39;00m obj]\n\u001b[0;32m     59\u001b[0m \u001b[38;5;28;01melif\u001b[39;00m \u001b[38;5;28misinstance\u001b[39m(obj, \u001b[38;5;28mdict\u001b[39m):\n\u001b[0;32m     60\u001b[0m     \u001b[38;5;28;01mreturn\u001b[39;00m {\n\u001b[1;32m---> 61\u001b[0m         k: \u001b[43m_todict\u001b[49m\u001b[43m(\u001b[49m\u001b[43mv\u001b[49m\u001b[43m,\u001b[49m\u001b[43m \u001b[49m\u001b[43mvalidate\u001b[49m\u001b[43m,\u001b[49m\u001b[43m \u001b[49m\u001b[43mcontext\u001b[49m\u001b[43m)\u001b[49m\n\u001b[0;32m     62\u001b[0m         \u001b[38;5;28;01mfor\u001b[39;00m k, v \u001b[38;5;129;01min\u001b[39;00m obj\u001b[38;5;241m.\u001b[39mitems()\n\u001b[0;32m     63\u001b[0m         \u001b[38;5;28;01mif\u001b[39;00m v \u001b[38;5;129;01mis\u001b[39;00m \u001b[38;5;129;01mnot\u001b[39;00m Undefined\n\u001b[0;32m     64\u001b[0m     }\n\u001b[0;32m     65\u001b[0m \u001b[38;5;28;01melif\u001b[39;00m \u001b[38;5;28mhasattr\u001b[39m(obj, \u001b[38;5;124m\"\u001b[39m\u001b[38;5;124mto_dict\u001b[39m\u001b[38;5;124m\"\u001b[39m):\n\u001b[0;32m     66\u001b[0m     \u001b[38;5;28;01mreturn\u001b[39;00m obj\u001b[38;5;241m.\u001b[39mto_dict()\n",
      "File \u001b[1;32m~\\.virtualenvs\\prism_forge-4W6YNPXR\\lib\\site-packages\\altair\\utils\\schemapi.py:56\u001b[0m, in \u001b[0;36m_todict\u001b[1;34m(obj, validate, context)\u001b[0m\n\u001b[0;32m     54\u001b[0m \u001b[38;5;124;03m\"\"\"Convert an object to a dict representation.\"\"\"\u001b[39;00m\n\u001b[0;32m     55\u001b[0m \u001b[38;5;28;01mif\u001b[39;00m \u001b[38;5;28misinstance\u001b[39m(obj, SchemaBase):\n\u001b[1;32m---> 56\u001b[0m     \u001b[38;5;28;01mreturn\u001b[39;00m \u001b[43mobj\u001b[49m\u001b[38;5;241;43m.\u001b[39;49m\u001b[43mto_dict\u001b[49m\u001b[43m(\u001b[49m\u001b[43mvalidate\u001b[49m\u001b[38;5;241;43m=\u001b[39;49m\u001b[43mvalidate\u001b[49m\u001b[43m,\u001b[49m\u001b[43m \u001b[49m\u001b[43mcontext\u001b[49m\u001b[38;5;241;43m=\u001b[39;49m\u001b[43mcontext\u001b[49m\u001b[43m)\u001b[49m\n\u001b[0;32m     57\u001b[0m \u001b[38;5;28;01melif\u001b[39;00m \u001b[38;5;28misinstance\u001b[39m(obj, (\u001b[38;5;28mlist\u001b[39m, \u001b[38;5;28mtuple\u001b[39m, np\u001b[38;5;241m.\u001b[39mndarray)):\n\u001b[0;32m     58\u001b[0m     \u001b[38;5;28;01mreturn\u001b[39;00m [_todict(v, validate, context) \u001b[38;5;28;01mfor\u001b[39;00m v \u001b[38;5;129;01min\u001b[39;00m obj]\n",
      "File \u001b[1;32m~\\.virtualenvs\\prism_forge-4W6YNPXR\\lib\\site-packages\\altair\\utils\\schemapi.py:340\u001b[0m, in \u001b[0;36mSchemaBase.to_dict\u001b[1;34m(self, validate, ignore, context)\u001b[0m\n\u001b[0;32m    338\u001b[0m         \u001b[38;5;28mself\u001b[39m\u001b[38;5;241m.\u001b[39mvalidate(result)\n\u001b[0;32m    339\u001b[0m     \u001b[38;5;28;01mexcept\u001b[39;00m jsonschema\u001b[38;5;241m.\u001b[39mValidationError \u001b[38;5;28;01mas\u001b[39;00m err:\n\u001b[1;32m--> 340\u001b[0m         \u001b[38;5;28;01mraise\u001b[39;00m SchemaValidationError(\u001b[38;5;28mself\u001b[39m, err)\n\u001b[0;32m    341\u001b[0m \u001b[38;5;28;01mreturn\u001b[39;00m result\n",
      "\u001b[1;31mSchemaValidationError\u001b[0m: Invalid specification\n\n        altair.vegalite.v4.schema.core.FacetedEncoding->2->items, validating 'type'\n\n        [{'field': 'Time', 'format': '%Y-%m-%d %H:%M', 'type': 'temporal'}] is not of type 'object'\n        "
     ]
    },
    {
     "data": {
      "text/plain": [
       "alt.Chart(...)"
      ]
     },
     "execution_count": 180,
     "metadata": {},
     "output_type": "execute_result"
    }
   ],
   "source": [
    "alt.Chart(p2_hourly_df.rename(columns=cols_dict)).mark_line(point=True).encode(\n",
    "    x=alt.X(cols_dict['HR']+':T', sort=alt.EncodingSortField(order='ascending')),\n",
    "    y=cols_dict['net_ust']+\":Q\",\n",
    "    tooltip=[alt.Tooltip([cols_dict['HR']+':T', format='%Y-%m-%d %H:%M'), alt.Tooltip(cols_dict['net_ust']+\":Q\")]\n",
    ").configure_mark(\n",
    "    color='#F1705F'\n",
    ").properties(width=700).configure_axisX(\n",
    ").configure_view(strokeOpacity=0)"
   ]
  },
  {
   "cell_type": "code",
   "execution_count": null,
   "metadata": {},
   "outputs": [],
   "source": []
  }
 ],
 "metadata": {
  "kernelspec": {
   "display_name": "Python 3 (ipykernel)",
   "language": "python",
   "name": "python3"
  },
  "language_info": {
   "codemirror_mode": {
    "name": "ipython",
    "version": 3
   },
   "file_extension": ".py",
   "mimetype": "text/x-python",
   "name": "python",
   "nbconvert_exporter": "python",
   "pygments_lexer": "ipython3",
   "version": "3.8.2"
  }
 },
 "nbformat": 4,
 "nbformat_minor": 4
}
