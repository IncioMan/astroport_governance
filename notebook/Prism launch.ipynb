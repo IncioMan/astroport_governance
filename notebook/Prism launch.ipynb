{
 "cells": [
  {
   "cell_type": "code",
   "execution_count": 1,
   "metadata": {},
   "outputs": [
    {
     "data": {
      "text/plain": [
       "RendererRegistry.enable('default')"
      ]
     },
     "execution_count": 1,
     "metadata": {},
     "output_type": "execute_result"
    }
   ],
   "source": [
    "import pandas as pd\n",
    "import altair as alt\n",
    "alt.renderers.set_embed_options(theme='dark')\n"
   ]
  },
  {
   "cell_type": "code",
   "execution_count": 2,
   "metadata": {},
   "outputs": [],
   "source": [
    "def claim(claim_hash, cols_claim):\n",
    "    try:\n",
    "        df_claim = pd.read_json(\n",
    "            f\"https://api.flipsidecrypto.com/api/v2/queries/{claim_hash}/data/latest\",\n",
    "            convert_dates=[\"BLOCK_TIMESTAMP\"],\n",
    "        )\n",
    "    except:\n",
    "        return pd.DataFrame(columns = cols_claim[claim_hash])\n",
    "    if(len(df_claim.columns)==0):\n",
    "        return pd.DataFrame(columns = cols_claim[claim_hash])\n",
    "    return df_claim"
   ]
  },
  {
   "cell_type": "code",
   "execution_count": 3,
   "metadata": {},
   "outputs": [],
   "source": [
    "p2_users = '07f87a6f-5bc6-49f3-a1bb-8e7d545ba95a'\n",
    "p2_hourly = 'de5232e1-5d57-4232-900d-1d09d2c9438e'"
   ]
  },
  {
   "cell_type": "code",
   "execution_count": 4,
   "metadata": {},
   "outputs": [],
   "source": [
    "cols_claim = {\n",
    "    p2_users: [\"DEPOSIT_AMOUNT\",\"HR\",\"NET_DEPOSITED_AMOUNT\",\"SENDER\",\"WITHDRAWN_AMOUNT\",\"WITHDRAWN_AMOUNT_PHASE2\"],\n",
    "    p2_hourly: ['HR', 'WITH_AMOUNT', 'WITH_TX', 'WITH_USERS']\n",
    "}"
   ]
  },
  {
   "cell_type": "code",
   "execution_count": 5,
   "metadata": {},
   "outputs": [],
   "source": [
    "p2_users_df = claim(p2_users, cols_claim)\n",
    "p2_hourly_df = claim(p2_hourly, cols_claim)"
   ]
  },
  {
   "cell_type": "code",
   "execution_count": 6,
   "metadata": {},
   "outputs": [],
   "source": [
    "cols_dict = {\n",
    "    \"DEPOSIT_AMOUNT\":\"Amount deposited\",\n",
    "    \"DEPOSIT_TXS\":\"N° of deposit txs\",\n",
    "    \"DEP_USERS\":\"N° of depositing users\",\n",
    "    \"HR\":\"Time\",\n",
    "    \"NET_AMOUNT\":\"Net amount deposited\",\n",
    "    \"TOT_TXS\":\"N° of txs\",\n",
    "    \"TOT_USERS\":\"N° of users\",\n",
    "    \"WITH_AMOUNT\":\"Withdrawn amount\",\n",
    "    \"WITH_TXS\":\"N° of withdraw txs\",\n",
    "    \"WITH_USERS\":\"N° of withdrawing users\",\n",
    "    'AMOUNT':'Amount deposited (UST)',\n",
    "    'AVG_BALANCE_USD':'Average balance in the last 30 days (UST)',\n",
    "    'N_TXS':'N° of txs',\n",
    "    'SENDER':'User address',\n",
    "    'N_USERS':'N° of users',\n",
    "    'BUCKET':'Deposit range',\n",
    "    'bucket_name':'Deposit bucket',\n",
    "    'cumsum_ust':'Cumulative UST amount',\n",
    "    'MIN_DATE':'Date wallet creation',\n",
    "    'ADDRESS_COUNT':'Number of wallets',\n",
    "    'PERC_WITHDRAWN':'% withdrawn of the deposited amount',\n",
    "    'net_ust': 'Amount UST'\n",
    "}"
   ]
  },
  {
   "cell_type": "code",
   "execution_count": 7,
   "metadata": {},
   "outputs": [
    {
     "data": {
      "text/plain": [
       "871030.5994549999"
      ]
     },
     "execution_count": 7,
     "metadata": {},
     "output_type": "execute_result"
    }
   ],
   "source": [
    "#Total withdrawn phase 2 UST\n",
    "tot_with_ust = p2_users_df['WITHDRAWN_AMOUNT_PHASE2'].sum()\n",
    "tot_with_ust"
   ]
  },
  {
   "cell_type": "code",
   "execution_count": 8,
   "metadata": {},
   "outputs": [
    {
     "data": {
      "text/plain": [
       "4394255.454423999"
      ]
     },
     "execution_count": 8,
     "metadata": {},
     "output_type": "execute_result"
    }
   ],
   "source": [
    "#Total net dep phase 1 UST\n",
    "tot_ust_p1 = p2_users_df['NET_DEPOSITED_AMOUNT'].sum()\n",
    "tot_ust_p1"
   ]
  },
  {
   "cell_type": "code",
   "execution_count": 9,
   "metadata": {},
   "outputs": [
    {
     "data": {
      "text/plain": [
       "3523224.8549689995"
      ]
     },
     "execution_count": 9,
     "metadata": {},
     "output_type": "execute_result"
    }
   ],
   "source": [
    "#Total left UST\n",
    "tot_net_ust = tot_ust_p1 - tot_with_ust\n",
    "tot_net_ust"
   ]
  },
  {
   "cell_type": "code",
   "execution_count": 10,
   "metadata": {},
   "outputs": [
    {
     "data": {
      "text/plain": [
       "19.82202920356106"
      ]
     },
     "execution_count": 10,
     "metadata": {},
     "output_type": "execute_result"
    }
   ],
   "source": [
    "#% withdrawn\n",
    "perc_with_p2 = tot_with_ust/tot_ust_p1 * 100\n",
    "perc_with_p2"
   ]
  },
  {
   "cell_type": "code",
   "execution_count": 11,
   "metadata": {},
   "outputs": [
    {
     "data": {
      "text/plain": [
       "0.05033178364241428"
      ]
     },
     "execution_count": 11,
     "metadata": {},
     "output_type": "execute_result"
    }
   ],
   "source": [
    "#current price\n",
    "curr_price = tot_net_ust/70000000\n",
    "curr_price"
   ]
  },
  {
   "cell_type": "code",
   "execution_count": 12,
   "metadata": {},
   "outputs": [
    {
     "data": {
      "text/plain": [
       "5.04246284501062"
      ]
     },
     "execution_count": 12,
     "metadata": {},
     "output_type": "execute_result"
    }
   ],
   "source": [
    "#% users with\n",
    "p_users_with_p2 = (1-p2_users_df['WITHDRAWN_AMOUNT_PHASE2'].isna().sum()/len(p2_users_df))*100\n",
    "p_users_with_p2"
   ]
  },
  {
   "cell_type": "code",
   "execution_count": 13,
   "metadata": {},
   "outputs": [],
   "source": [
    "#Floor price\n",
    "p2_users_df['max_with_hour'] = '2022-02-03 10:00:00.000'\n",
    "possible_with = p2_users_df[p2_users_df['WITHDRAWN_AMOUNT_PHASE2'].isna()]['NET_DEPOSITED_AMOUNT']"
   ]
  },
  {
   "cell_type": "code",
   "execution_count": 14,
   "metadata": {},
   "outputs": [
    {
     "data": {
      "text/html": [
       "<div>\n",
       "<style scoped>\n",
       "    .dataframe tbody tr th:only-of-type {\n",
       "        vertical-align: middle;\n",
       "    }\n",
       "\n",
       "    .dataframe tbody tr th {\n",
       "        vertical-align: top;\n",
       "    }\n",
       "\n",
       "    .dataframe thead th {\n",
       "        text-align: right;\n",
       "    }\n",
       "</style>\n",
       "<table border=\"1\" class=\"dataframe\">\n",
       "  <thead>\n",
       "    <tr style=\"text-align: right;\">\n",
       "      <th></th>\n",
       "      <th>DEPOSIT_AMOUNT</th>\n",
       "      <th>HR</th>\n",
       "      <th>NET_DEPOSITED_AMOUNT</th>\n",
       "      <th>SENDER</th>\n",
       "      <th>WITHDRAWN_AMOUNT</th>\n",
       "      <th>WITHDRAWN_AMOUNT_PHASE2</th>\n",
       "      <th>max_with_hour</th>\n",
       "    </tr>\n",
       "  </thead>\n",
       "  <tbody>\n",
       "    <tr>\n",
       "      <th>0</th>\n",
       "      <td>1000.0</td>\n",
       "      <td>2022-02-02 09:00:00.000</td>\n",
       "      <td>400.0</td>\n",
       "      <td>terra1v6ujue0uqd9nzgtqvuhwncaqd9q6hacvsfur7x</td>\n",
       "      <td>600.0</td>\n",
       "      <td>600.0</td>\n",
       "      <td>2022-02-03 10:00:00.000</td>\n",
       "    </tr>\n",
       "    <tr>\n",
       "      <th>1</th>\n",
       "      <td>101.0</td>\n",
       "      <td>2022-02-01 11:00:00.000</td>\n",
       "      <td>100.0</td>\n",
       "      <td>terra17js7wjaq8w80khztfa9ydz0etdgzy4l7t8yfsa</td>\n",
       "      <td>1.0</td>\n",
       "      <td>1.0</td>\n",
       "      <td>2022-02-03 10:00:00.000</td>\n",
       "    </tr>\n",
       "    <tr>\n",
       "      <th>2</th>\n",
       "      <td>99500.0</td>\n",
       "      <td>2022-02-01 20:00:00.000</td>\n",
       "      <td>0.0</td>\n",
       "      <td>terra1frsd6nayz25encp6w6m8z00g5ue4j6fp4q0pza</td>\n",
       "      <td>99500.0</td>\n",
       "      <td>99500.0</td>\n",
       "      <td>2022-02-03 10:00:00.000</td>\n",
       "    </tr>\n",
       "    <tr>\n",
       "      <th>3</th>\n",
       "      <td>185.0</td>\n",
       "      <td>2022-02-01 12:00:00.000</td>\n",
       "      <td>35.0</td>\n",
       "      <td>terra1lcrwyxn8apvxu9jdvu6jk6myeey0z64e22du4k</td>\n",
       "      <td>150.0</td>\n",
       "      <td>150.0</td>\n",
       "      <td>2022-02-03 10:00:00.000</td>\n",
       "    </tr>\n",
       "    <tr>\n",
       "      <th>4</th>\n",
       "      <td>100.0</td>\n",
       "      <td>2022-02-01 22:00:00.000</td>\n",
       "      <td>0.0</td>\n",
       "      <td>terra1nrg8s0wtd2z0xyl26u669qh87qcn2ql0wepvhj</td>\n",
       "      <td>100.0</td>\n",
       "      <td>100.0</td>\n",
       "      <td>2022-02-03 10:00:00.000</td>\n",
       "    </tr>\n",
       "  </tbody>\n",
       "</table>\n",
       "</div>"
      ],
      "text/plain": [
       "   DEPOSIT_AMOUNT                       HR  NET_DEPOSITED_AMOUNT  \\\n",
       "0          1000.0  2022-02-02 09:00:00.000                 400.0   \n",
       "1           101.0  2022-02-01 11:00:00.000                 100.0   \n",
       "2         99500.0  2022-02-01 20:00:00.000                   0.0   \n",
       "3           185.0  2022-02-01 12:00:00.000                  35.0   \n",
       "4           100.0  2022-02-01 22:00:00.000                   0.0   \n",
       "\n",
       "                                         SENDER  WITHDRAWN_AMOUNT  \\\n",
       "0  terra1v6ujue0uqd9nzgtqvuhwncaqd9q6hacvsfur7x             600.0   \n",
       "1  terra17js7wjaq8w80khztfa9ydz0etdgzy4l7t8yfsa               1.0   \n",
       "2  terra1frsd6nayz25encp6w6m8z00g5ue4j6fp4q0pza           99500.0   \n",
       "3  terra1lcrwyxn8apvxu9jdvu6jk6myeey0z64e22du4k             150.0   \n",
       "4  terra1nrg8s0wtd2z0xyl26u669qh87qcn2ql0wepvhj             100.0   \n",
       "\n",
       "   WITHDRAWN_AMOUNT_PHASE2            max_with_hour  \n",
       "0                    600.0  2022-02-03 10:00:00.000  \n",
       "1                      1.0  2022-02-03 10:00:00.000  \n",
       "2                  99500.0  2022-02-03 10:00:00.000  \n",
       "3                    150.0  2022-02-03 10:00:00.000  \n",
       "4                    100.0  2022-02-03 10:00:00.000  "
      ]
     },
     "execution_count": 14,
     "metadata": {},
     "output_type": "execute_result"
    }
   ],
   "source": [
    "p2_users_df.head()"
   ]
  },
  {
   "cell_type": "code",
   "execution_count": 15,
   "metadata": {},
   "outputs": [
    {
     "name": "stderr",
     "output_type": "stream",
     "text": [
      "C:\\Users\\aincerti\\AppData\\Local\\Temp\\ipykernel_16196\\2705070969.py:4: SettingWithCopyWarning: \n",
      "A value is trying to be set on a copy of a slice from a DataFrame.\n",
      "Try using .loc[row_indexer,col_indexer] = value instead\n",
      "\n",
      "See the caveats in the documentation: https://pandas.pydata.org/pandas-docs/stable/user_guide/indexing.html#returning-a-view-versus-a-copy\n",
      "  df['hours_til_end_p2'] = delta.dt.days * 24 + delta.dt.seconds/3600\n",
      "C:\\Users\\aincerti\\AppData\\Local\\Temp\\ipykernel_16196\\2705070969.py:5: SettingWithCopyWarning: \n",
      "A value is trying to be set on a copy of a slice from a DataFrame.\n",
      "Try using .loc[row_indexer,col_indexer] = value instead\n",
      "\n",
      "See the caveats in the documentation: https://pandas.pydata.org/pandas-docs/stable/user_guide/indexing.html#returning-a-view-versus-a-copy\n",
      "  df['left_to_with'] = 24/df['hours_til_end_p2'] * df['NET_DEPOSITED_AMOUNT']\n"
     ]
    },
    {
     "data": {
      "text/plain": [
       "66673.06104211377"
      ]
     },
     "execution_count": 15,
     "metadata": {},
     "output_type": "execute_result"
    }
   ],
   "source": [
    "#UST left to be withdrawn\n",
    "df = p2_users_df[p2_users_df['HR'].notna()]\n",
    "delta = pd.to_datetime(df['max_with_hour']) - pd.to_datetime(df['HR'])\n",
    "df['hours_til_end_p2'] = delta.dt.days * 24 + delta.dt.seconds/3600\n",
    "df['left_to_with'] = 24/df['hours_til_end_p2'] * df['NET_DEPOSITED_AMOUNT']\n",
    "left_to_with = df['left_to_with'].sum()\n",
    "left_to_with"
   ]
  },
  {
   "cell_type": "code",
   "execution_count": 16,
   "metadata": {},
   "outputs": [
    {
     "data": {
      "text/plain": [
       "0.04937931134181266"
      ]
     },
     "execution_count": 16,
     "metadata": {},
     "output_type": "execute_result"
    }
   ],
   "source": [
    "#Floor price\n",
    "floor_price = (tot_net_ust - left_to_with)/70000000\n",
    "floor_price"
   ]
  },
  {
   "cell_type": "code",
   "execution_count": 17,
   "metadata": {},
   "outputs": [
    {
     "data": {
      "text/html": [
       "<div>\n",
       "<style scoped>\n",
       "    .dataframe tbody tr th:only-of-type {\n",
       "        vertical-align: middle;\n",
       "    }\n",
       "\n",
       "    .dataframe tbody tr th {\n",
       "        vertical-align: top;\n",
       "    }\n",
       "\n",
       "    .dataframe thead th {\n",
       "        text-align: right;\n",
       "    }\n",
       "</style>\n",
       "<table border=\"1\" class=\"dataframe\">\n",
       "  <thead>\n",
       "    <tr style=\"text-align: right;\">\n",
       "      <th></th>\n",
       "      <th>HR</th>\n",
       "      <th>WITH_AMOUNT</th>\n",
       "      <th>WITH_TX</th>\n",
       "      <th>WITH_USERS</th>\n",
       "    </tr>\n",
       "  </thead>\n",
       "  <tbody>\n",
       "    <tr>\n",
       "      <th>0</th>\n",
       "      <td>2022/02/02  11:00:00</td>\n",
       "      <td>1070.000000</td>\n",
       "      <td>2</td>\n",
       "      <td>2</td>\n",
       "    </tr>\n",
       "    <tr>\n",
       "      <th>1</th>\n",
       "      <td>2022/02/02  09:00:00</td>\n",
       "      <td>1150.000000</td>\n",
       "      <td>4</td>\n",
       "      <td>4</td>\n",
       "    </tr>\n",
       "    <tr>\n",
       "      <th>2</th>\n",
       "      <td>2022/02/01  20:00:00</td>\n",
       "      <td>104711.479309</td>\n",
       "      <td>5</td>\n",
       "      <td>5</td>\n",
       "    </tr>\n",
       "    <tr>\n",
       "      <th>3</th>\n",
       "      <td>2022/02/01  12:00:00</td>\n",
       "      <td>857.670794</td>\n",
       "      <td>3</td>\n",
       "      <td>3</td>\n",
       "    </tr>\n",
       "    <tr>\n",
       "      <th>4</th>\n",
       "      <td>2022/02/01  10:00:00</td>\n",
       "      <td>19312.000000</td>\n",
       "      <td>3</td>\n",
       "      <td>3</td>\n",
       "    </tr>\n",
       "  </tbody>\n",
       "</table>\n",
       "</div>"
      ],
      "text/plain": [
       "                     HR    WITH_AMOUNT  WITH_TX  WITH_USERS\n",
       "0  2022/02/02  11:00:00    1070.000000        2           2\n",
       "1  2022/02/02  09:00:00    1150.000000        4           4\n",
       "2  2022/02/01  20:00:00  104711.479309        5           5\n",
       "3  2022/02/01  12:00:00     857.670794        3           3\n",
       "4  2022/02/01  10:00:00   19312.000000        3           3"
      ]
     },
     "execution_count": 17,
     "metadata": {},
     "output_type": "execute_result"
    }
   ],
   "source": [
    "p2_hourly_df['HR'] = '2022/' + p2_hourly_df['HR'] + ':00'\n",
    "p2_hourly_df.head()"
   ]
  },
  {
   "cell_type": "code",
   "execution_count": 18,
   "metadata": {},
   "outputs": [
    {
     "data": {
      "text/html": [
       "\n",
       "<div id=\"altair-viz-b06d98f8aa194e6e9d4fc7080642e6bc\"></div>\n",
       "<script type=\"text/javascript\">\n",
       "  var VEGA_DEBUG = (typeof VEGA_DEBUG == \"undefined\") ? {} : VEGA_DEBUG;\n",
       "  (function(spec, embedOpt){\n",
       "    let outputDiv = document.currentScript.previousElementSibling;\n",
       "    if (outputDiv.id !== \"altair-viz-b06d98f8aa194e6e9d4fc7080642e6bc\") {\n",
       "      outputDiv = document.getElementById(\"altair-viz-b06d98f8aa194e6e9d4fc7080642e6bc\");\n",
       "    }\n",
       "    const paths = {\n",
       "      \"vega\": \"https://cdn.jsdelivr.net/npm//vega@5?noext\",\n",
       "      \"vega-lib\": \"https://cdn.jsdelivr.net/npm//vega-lib?noext\",\n",
       "      \"vega-lite\": \"https://cdn.jsdelivr.net/npm//vega-lite@4.17.0?noext\",\n",
       "      \"vega-embed\": \"https://cdn.jsdelivr.net/npm//vega-embed@6?noext\",\n",
       "    };\n",
       "\n",
       "    function maybeLoadScript(lib, version) {\n",
       "      var key = `${lib.replace(\"-\", \"\")}_version`;\n",
       "      return (VEGA_DEBUG[key] == version) ?\n",
       "        Promise.resolve(paths[lib]) :\n",
       "        new Promise(function(resolve, reject) {\n",
       "          var s = document.createElement('script');\n",
       "          document.getElementsByTagName(\"head\")[0].appendChild(s);\n",
       "          s.async = true;\n",
       "          s.onload = () => {\n",
       "            VEGA_DEBUG[key] = version;\n",
       "            return resolve(paths[lib]);\n",
       "          };\n",
       "          s.onerror = () => reject(`Error loading script: ${paths[lib]}`);\n",
       "          s.src = paths[lib];\n",
       "        });\n",
       "    }\n",
       "\n",
       "    function showError(err) {\n",
       "      outputDiv.innerHTML = `<div class=\"error\" style=\"color:red;\">${err}</div>`;\n",
       "      throw err;\n",
       "    }\n",
       "\n",
       "    function displayChart(vegaEmbed) {\n",
       "      vegaEmbed(outputDiv, spec, embedOpt)\n",
       "        .catch(err => showError(`Javascript Error: ${err.message}<br>This usually means there's a typo in your chart specification. See the javascript console for the full traceback.`));\n",
       "    }\n",
       "\n",
       "    if(typeof define === \"function\" && define.amd) {\n",
       "      requirejs.config({paths});\n",
       "      require([\"vega-embed\"], displayChart, err => showError(`Error loading script: ${err.message}`));\n",
       "    } else {\n",
       "      maybeLoadScript(\"vega\", \"5\")\n",
       "        .then(() => maybeLoadScript(\"vega-lite\", \"4.17.0\"))\n",
       "        .then(() => maybeLoadScript(\"vega-embed\", \"6\"))\n",
       "        .catch(showError)\n",
       "        .then(() => displayChart(vegaEmbed));\n",
       "    }\n",
       "  })({\"config\": {\"view\": {\"continuousWidth\": 400, \"continuousHeight\": 300, \"strokeOpacity\": 0}, \"axisX\": {\"labelAngle\": 30}, \"mark\": {\"color\": \"#fab0ba\"}}, \"data\": {\"name\": \"data-0dc651d25483e8fd49dfd8e7e2d7c545\"}, \"mark\": \"bar\", \"encoding\": {\"tooltip\": [{\"field\": \"Time\", \"type\": \"temporal\"}, {\"field\": \"Withdrawn amount\", \"type\": \"quantitative\"}], \"x\": {\"field\": \"Time\", \"type\": \"temporal\"}, \"y\": {\"field\": \"Withdrawn amount\", \"type\": \"quantitative\"}}, \"width\": 700, \"$schema\": \"https://vega.github.io/schema/vega-lite/v4.17.0.json\", \"datasets\": {\"data-0dc651d25483e8fd49dfd8e7e2d7c545\": [{\"Time\": \"2022/02/02  11:00:00\", \"Withdrawn amount\": 1070.0, \"WITH_TX\": 2, \"N\\u00b0 of withdrawing users\": 2}, {\"Time\": \"2022/02/02  09:00:00\", \"Withdrawn amount\": 1150.0, \"WITH_TX\": 4, \"N\\u00b0 of withdrawing users\": 4}, {\"Time\": \"2022/02/01  20:00:00\", \"Withdrawn amount\": 104711.479309, \"WITH_TX\": 5, \"N\\u00b0 of withdrawing users\": 5}, {\"Time\": \"2022/02/01  12:00:00\", \"Withdrawn amount\": 857.670794, \"WITH_TX\": 3, \"N\\u00b0 of withdrawing users\": 3}, {\"Time\": \"2022/02/01  10:00:00\", \"Withdrawn amount\": 19312.0, \"WITH_TX\": 3, \"N\\u00b0 of withdrawing users\": 3}, {\"Time\": \"2022/02/01  19:00:00\", \"Withdrawn amount\": 1787.665637, \"WITH_TX\": 4, \"N\\u00b0 of withdrawing users\": 4}, {\"Time\": \"2022/02/01  23:00:00\", \"Withdrawn amount\": 4211.0, \"WITH_TX\": 5, \"N\\u00b0 of withdrawing users\": 5}, {\"Time\": \"2022/02/01  14:00:00\", \"Withdrawn amount\": 14000.0, \"WITH_TX\": 2, \"N\\u00b0 of withdrawing users\": 2}, {\"Time\": \"2022/02/01  15:00:00\", \"Withdrawn amount\": 7635.881191, \"WITH_TX\": 5, \"N\\u00b0 of withdrawing users\": 5}, {\"Time\": \"2022/02/01  17:00:00\", \"Withdrawn amount\": 4949.462797, \"WITH_TX\": 4, \"N\\u00b0 of withdrawing users\": 3}, {\"Time\": \"2022/02/01  22:00:00\", \"Withdrawn amount\": 1300.0, \"WITH_TX\": 3, \"N\\u00b0 of withdrawing users\": 3}, {\"Time\": \"2022/02/01  11:00:00\", \"Withdrawn amount\": 24691.0, \"WITH_TX\": 7, \"N\\u00b0 of withdrawing users\": 7}, {\"Time\": \"2022/02/02  02:00:00\", \"Withdrawn amount\": 1043.150932, \"WITH_TX\": 3, \"N\\u00b0 of withdrawing users\": 3}, {\"Time\": \"2022/02/01  18:00:00\", \"Withdrawn amount\": 1470.0, \"WITH_TX\": 2, \"N\\u00b0 of withdrawing users\": 2}, {\"Time\": \"2022/02/01  08:00:00\", \"Withdrawn amount\": 5923.464239, \"WITH_TX\": 3, \"N\\u00b0 of withdrawing users\": 3}, {\"Time\": \"2022/02/01  16:00:00\", \"Withdrawn amount\": 39640.0, \"WITH_TX\": 7, \"N\\u00b0 of withdrawing users\": 7}, {\"Time\": \"2022/02/02  03:00:00\", \"Withdrawn amount\": 3107.74, \"WITH_TX\": 2, \"N\\u00b0 of withdrawing users\": 2}, {\"Time\": \"2022/02/02  00:00:00\", \"Withdrawn amount\": 11500.0, \"WITH_TX\": 3, \"N\\u00b0 of withdrawing users\": 3}, {\"Time\": \"2022/02/02  06:00:00\", \"Withdrawn amount\": 1100.0, \"WITH_TX\": 1, \"N\\u00b0 of withdrawing users\": 1}, {\"Time\": \"2022/02/02  08:00:00\", \"Withdrawn amount\": 61028.0, \"WITH_TX\": 5, \"N\\u00b0 of withdrawing users\": 5}, {\"Time\": \"2022/02/02  07:00:00\", \"Withdrawn amount\": 2445.084556, \"WITH_TX\": 3, \"N\\u00b0 of withdrawing users\": 3}, {\"Time\": \"2022/02/02  04:00:00\", \"Withdrawn amount\": 16219.0, \"WITH_TX\": 4, \"N\\u00b0 of withdrawing users\": 4}, {\"Time\": \"2022/02/01  07:00:00\", \"Withdrawn amount\": 501183.642552, \"WITH_TX\": 11, \"N\\u00b0 of withdrawing users\": 11}, {\"Time\": \"2022/02/02  12:00:00\", \"Withdrawn amount\": 12291.0, \"WITH_TX\": 6, \"N\\u00b0 of withdrawing users\": 5}, {\"Time\": \"2022/02/01  21:00:00\", \"Withdrawn amount\": 2642.0, \"WITH_TX\": 5, \"N\\u00b0 of withdrawing users\": 5}, {\"Time\": \"2022/02/02  05:00:00\", \"Withdrawn amount\": 515900.0, \"WITH_TX\": 2, \"N\\u00b0 of withdrawing users\": 2}, {\"Time\": \"2022/02/02  10:00:00\", \"Withdrawn amount\": 2850.0, \"WITH_TX\": 4, \"N\\u00b0 of withdrawing users\": 4}, {\"Time\": \"2022/02/01  09:00:00\", \"Withdrawn amount\": 1250.0, \"WITH_TX\": 2, \"N\\u00b0 of withdrawing users\": 2}, {\"Time\": \"2022/02/01  13:00:00\", \"Withdrawn amount\": 1930.0, \"WITH_TX\": 2, \"N\\u00b0 of withdrawing users\": 2}]}}, {\"theme\": \"dark\", \"mode\": \"vega-lite\"});\n",
       "</script>"
      ],
      "text/plain": [
       "alt.Chart(...)"
      ]
     },
     "execution_count": 18,
     "metadata": {},
     "output_type": "execute_result"
    }
   ],
   "source": [
    "alt.Chart(p2_hourly_df.rename(columns=cols_dict)).mark_bar().encode(\n",
    "    x=cols_dict['HR']+':T',\n",
    "    y=cols_dict['WITH_AMOUNT']+\":Q\",\n",
    "    tooltip=[cols_dict['HR']+':T',cols_dict['WITH_AMOUNT']+\":Q\"]\n",
    ").configure_mark(\n",
    "    color='#fab0ba'\n",
    ").properties(width=700).configure_axisX(\n",
    "    labelAngle=30\n",
    ").configure_view(strokeOpacity=0)"
   ]
  },
  {
   "cell_type": "code",
   "execution_count": 19,
   "metadata": {},
   "outputs": [
    {
     "data": {
      "text/html": [
       "\n",
       "<div id=\"altair-viz-58c26d50ebb7469a82a5af56a71ed6f6\"></div>\n",
       "<script type=\"text/javascript\">\n",
       "  var VEGA_DEBUG = (typeof VEGA_DEBUG == \"undefined\") ? {} : VEGA_DEBUG;\n",
       "  (function(spec, embedOpt){\n",
       "    let outputDiv = document.currentScript.previousElementSibling;\n",
       "    if (outputDiv.id !== \"altair-viz-58c26d50ebb7469a82a5af56a71ed6f6\") {\n",
       "      outputDiv = document.getElementById(\"altair-viz-58c26d50ebb7469a82a5af56a71ed6f6\");\n",
       "    }\n",
       "    const paths = {\n",
       "      \"vega\": \"https://cdn.jsdelivr.net/npm//vega@5?noext\",\n",
       "      \"vega-lib\": \"https://cdn.jsdelivr.net/npm//vega-lib?noext\",\n",
       "      \"vega-lite\": \"https://cdn.jsdelivr.net/npm//vega-lite@4.17.0?noext\",\n",
       "      \"vega-embed\": \"https://cdn.jsdelivr.net/npm//vega-embed@6?noext\",\n",
       "    };\n",
       "\n",
       "    function maybeLoadScript(lib, version) {\n",
       "      var key = `${lib.replace(\"-\", \"\")}_version`;\n",
       "      return (VEGA_DEBUG[key] == version) ?\n",
       "        Promise.resolve(paths[lib]) :\n",
       "        new Promise(function(resolve, reject) {\n",
       "          var s = document.createElement('script');\n",
       "          document.getElementsByTagName(\"head\")[0].appendChild(s);\n",
       "          s.async = true;\n",
       "          s.onload = () => {\n",
       "            VEGA_DEBUG[key] = version;\n",
       "            return resolve(paths[lib]);\n",
       "          };\n",
       "          s.onerror = () => reject(`Error loading script: ${paths[lib]}`);\n",
       "          s.src = paths[lib];\n",
       "        });\n",
       "    }\n",
       "\n",
       "    function showError(err) {\n",
       "      outputDiv.innerHTML = `<div class=\"error\" style=\"color:red;\">${err}</div>`;\n",
       "      throw err;\n",
       "    }\n",
       "\n",
       "    function displayChart(vegaEmbed) {\n",
       "      vegaEmbed(outputDiv, spec, embedOpt)\n",
       "        .catch(err => showError(`Javascript Error: ${err.message}<br>This usually means there's a typo in your chart specification. See the javascript console for the full traceback.`));\n",
       "    }\n",
       "\n",
       "    if(typeof define === \"function\" && define.amd) {\n",
       "      requirejs.config({paths});\n",
       "      require([\"vega-embed\"], displayChart, err => showError(`Error loading script: ${err.message}`));\n",
       "    } else {\n",
       "      maybeLoadScript(\"vega\", \"5\")\n",
       "        .then(() => maybeLoadScript(\"vega-lite\", \"4.17.0\"))\n",
       "        .then(() => maybeLoadScript(\"vega-embed\", \"6\"))\n",
       "        .catch(showError)\n",
       "        .then(() => displayChart(vegaEmbed));\n",
       "    }\n",
       "  })({\"config\": {\"view\": {\"continuousWidth\": 400, \"continuousHeight\": 300, \"strokeOpacity\": 0}, \"axisX\": {\"labelAngle\": 30}, \"mark\": {\"color\": \"#fab0ba\"}}, \"data\": {\"name\": \"data-0dc651d25483e8fd49dfd8e7e2d7c545\"}, \"mark\": \"bar\", \"encoding\": {\"tooltip\": [{\"field\": \"Time\", \"type\": \"temporal\"}, {\"field\": \"N\\u00b0 of withdrawing users\", \"type\": \"quantitative\"}], \"x\": {\"field\": \"Time\", \"type\": \"temporal\"}, \"y\": {\"field\": \"N\\u00b0 of withdrawing users\", \"type\": \"quantitative\"}}, \"width\": 700, \"$schema\": \"https://vega.github.io/schema/vega-lite/v4.17.0.json\", \"datasets\": {\"data-0dc651d25483e8fd49dfd8e7e2d7c545\": [{\"Time\": \"2022/02/02  11:00:00\", \"Withdrawn amount\": 1070.0, \"WITH_TX\": 2, \"N\\u00b0 of withdrawing users\": 2}, {\"Time\": \"2022/02/02  09:00:00\", \"Withdrawn amount\": 1150.0, \"WITH_TX\": 4, \"N\\u00b0 of withdrawing users\": 4}, {\"Time\": \"2022/02/01  20:00:00\", \"Withdrawn amount\": 104711.479309, \"WITH_TX\": 5, \"N\\u00b0 of withdrawing users\": 5}, {\"Time\": \"2022/02/01  12:00:00\", \"Withdrawn amount\": 857.670794, \"WITH_TX\": 3, \"N\\u00b0 of withdrawing users\": 3}, {\"Time\": \"2022/02/01  10:00:00\", \"Withdrawn amount\": 19312.0, \"WITH_TX\": 3, \"N\\u00b0 of withdrawing users\": 3}, {\"Time\": \"2022/02/01  19:00:00\", \"Withdrawn amount\": 1787.665637, \"WITH_TX\": 4, \"N\\u00b0 of withdrawing users\": 4}, {\"Time\": \"2022/02/01  23:00:00\", \"Withdrawn amount\": 4211.0, \"WITH_TX\": 5, \"N\\u00b0 of withdrawing users\": 5}, {\"Time\": \"2022/02/01  14:00:00\", \"Withdrawn amount\": 14000.0, \"WITH_TX\": 2, \"N\\u00b0 of withdrawing users\": 2}, {\"Time\": \"2022/02/01  15:00:00\", \"Withdrawn amount\": 7635.881191, \"WITH_TX\": 5, \"N\\u00b0 of withdrawing users\": 5}, {\"Time\": \"2022/02/01  17:00:00\", \"Withdrawn amount\": 4949.462797, \"WITH_TX\": 4, \"N\\u00b0 of withdrawing users\": 3}, {\"Time\": \"2022/02/01  22:00:00\", \"Withdrawn amount\": 1300.0, \"WITH_TX\": 3, \"N\\u00b0 of withdrawing users\": 3}, {\"Time\": \"2022/02/01  11:00:00\", \"Withdrawn amount\": 24691.0, \"WITH_TX\": 7, \"N\\u00b0 of withdrawing users\": 7}, {\"Time\": \"2022/02/02  02:00:00\", \"Withdrawn amount\": 1043.150932, \"WITH_TX\": 3, \"N\\u00b0 of withdrawing users\": 3}, {\"Time\": \"2022/02/01  18:00:00\", \"Withdrawn amount\": 1470.0, \"WITH_TX\": 2, \"N\\u00b0 of withdrawing users\": 2}, {\"Time\": \"2022/02/01  08:00:00\", \"Withdrawn amount\": 5923.464239, \"WITH_TX\": 3, \"N\\u00b0 of withdrawing users\": 3}, {\"Time\": \"2022/02/01  16:00:00\", \"Withdrawn amount\": 39640.0, \"WITH_TX\": 7, \"N\\u00b0 of withdrawing users\": 7}, {\"Time\": \"2022/02/02  03:00:00\", \"Withdrawn amount\": 3107.74, \"WITH_TX\": 2, \"N\\u00b0 of withdrawing users\": 2}, {\"Time\": \"2022/02/02  00:00:00\", \"Withdrawn amount\": 11500.0, \"WITH_TX\": 3, \"N\\u00b0 of withdrawing users\": 3}, {\"Time\": \"2022/02/02  06:00:00\", \"Withdrawn amount\": 1100.0, \"WITH_TX\": 1, \"N\\u00b0 of withdrawing users\": 1}, {\"Time\": \"2022/02/02  08:00:00\", \"Withdrawn amount\": 61028.0, \"WITH_TX\": 5, \"N\\u00b0 of withdrawing users\": 5}, {\"Time\": \"2022/02/02  07:00:00\", \"Withdrawn amount\": 2445.084556, \"WITH_TX\": 3, \"N\\u00b0 of withdrawing users\": 3}, {\"Time\": \"2022/02/02  04:00:00\", \"Withdrawn amount\": 16219.0, \"WITH_TX\": 4, \"N\\u00b0 of withdrawing users\": 4}, {\"Time\": \"2022/02/01  07:00:00\", \"Withdrawn amount\": 501183.642552, \"WITH_TX\": 11, \"N\\u00b0 of withdrawing users\": 11}, {\"Time\": \"2022/02/02  12:00:00\", \"Withdrawn amount\": 12291.0, \"WITH_TX\": 6, \"N\\u00b0 of withdrawing users\": 5}, {\"Time\": \"2022/02/01  21:00:00\", \"Withdrawn amount\": 2642.0, \"WITH_TX\": 5, \"N\\u00b0 of withdrawing users\": 5}, {\"Time\": \"2022/02/02  05:00:00\", \"Withdrawn amount\": 515900.0, \"WITH_TX\": 2, \"N\\u00b0 of withdrawing users\": 2}, {\"Time\": \"2022/02/02  10:00:00\", \"Withdrawn amount\": 2850.0, \"WITH_TX\": 4, \"N\\u00b0 of withdrawing users\": 4}, {\"Time\": \"2022/02/01  09:00:00\", \"Withdrawn amount\": 1250.0, \"WITH_TX\": 2, \"N\\u00b0 of withdrawing users\": 2}, {\"Time\": \"2022/02/01  13:00:00\", \"Withdrawn amount\": 1930.0, \"WITH_TX\": 2, \"N\\u00b0 of withdrawing users\": 2}]}}, {\"theme\": \"dark\", \"mode\": \"vega-lite\"});\n",
       "</script>"
      ],
      "text/plain": [
       "alt.Chart(...)"
      ]
     },
     "execution_count": 19,
     "metadata": {},
     "output_type": "execute_result"
    }
   ],
   "source": [
    "alt.Chart(p2_hourly_df.rename(columns=cols_dict)).mark_bar().encode(\n",
    "    x=cols_dict['HR']+':T',\n",
    "    y=cols_dict['WITH_USERS']+\":Q\",\n",
    "    tooltip=[cols_dict['HR']+':T',cols_dict['WITH_USERS']+\":Q\"]\n",
    ").configure_mark(\n",
    "    color='#fab0ba'\n",
    ").properties(width=700).configure_axisX(\n",
    "    labelAngle=30\n",
    ").configure_view(strokeOpacity=0)"
   ]
  },
  {
   "cell_type": "code",
   "execution_count": 32,
   "metadata": {},
   "outputs": [
    {
     "name": "stderr",
     "output_type": "stream",
     "text": [
      "C:\\Users\\aincerti\\AppData\\Local\\Temp\\ipykernel_16196\\1346942249.py:2: SettingWithCopyWarning: \n",
      "A value is trying to be set on a copy of a slice from a DataFrame.\n",
      "Try using .loc[row_indexer,col_indexer] = value instead\n",
      "\n",
      "See the caveats in the documentation: https://pandas.pydata.org/pandas-docs/stable/user_guide/indexing.html#returning-a-view-versus-a-copy\n",
      "  with_users_df['perc_withdrawn'] = with_users_df[with_users_df['HR'].notna()]['WITHDRAWN_AMOUNT']/with_users_df['NET_DEPOSITED_AMOUNT']*100\n",
      "C:\\Users\\aincerti\\AppData\\Local\\Temp\\ipykernel_16196\\1346942249.py:3: SettingWithCopyWarning: \n",
      "A value is trying to be set on a copy of a slice from a DataFrame.\n",
      "Try using .loc[row_indexer,col_indexer] = value instead\n",
      "\n",
      "See the caveats in the documentation: https://pandas.pydata.org/pandas-docs/stable/user_guide/indexing.html#returning-a-view-versus-a-copy\n",
      "  with_users_df['perc_withdrawn_cat'] = (with_users_df['perc_withdrawn']/100).apply(lambda x: int(x))\n"
     ]
    }
   ],
   "source": [
    "with_users_df = p2_users_df[p2_users_df['HR'].notna()&p2_users_df['NET_DEPOSITED_AMOUNT']>0]\n",
    "with_users_df['perc_withdrawn'] = with_users_df[with_users_df['HR'].notna()]['WITHDRAWN_AMOUNT']/with_users_df['NET_DEPOSITED_AMOUNT']*100\n",
    "with_users_df['perc_withdrawn_cat'] = (with_users_df['perc_withdrawn']/100).apply(lambda x: int(x))\n",
    "df2 = with_users_df.groupby('perc_withdrawn_cat').SENDER.count()"
   ]
  },
  {
   "cell_type": "code",
   "execution_count": 27,
   "metadata": {},
   "outputs": [],
   "source": [
    "perc_cat = list(range(10))\n",
    "cat = pd.DataFrame([0]*10,perc_cat)\n",
    "df3 = cat.join(df2,how='outer')\n",
    "df3.index =  ['0%-10%','10%-20%','20%-30%','30%-40%','40%-50%','50%-60%','60%-70%','70%-80%','80%-90%','90%-100%']\n",
    "df3 = df3.SENDER.fillna(0).reset_index()\n",
    "df3=df3.rename(columns={'index':'PERC_WITHDRAWN','SENDER':'TOT_USERS'})"
   ]
  },
  {
   "cell_type": "code",
   "execution_count": 28,
   "metadata": {},
   "outputs": [
    {
     "data": {
      "text/html": [
       "\n",
       "<div id=\"altair-viz-df185dca829648e2839a947e374ac6e2\"></div>\n",
       "<script type=\"text/javascript\">\n",
       "  var VEGA_DEBUG = (typeof VEGA_DEBUG == \"undefined\") ? {} : VEGA_DEBUG;\n",
       "  (function(spec, embedOpt){\n",
       "    let outputDiv = document.currentScript.previousElementSibling;\n",
       "    if (outputDiv.id !== \"altair-viz-df185dca829648e2839a947e374ac6e2\") {\n",
       "      outputDiv = document.getElementById(\"altair-viz-df185dca829648e2839a947e374ac6e2\");\n",
       "    }\n",
       "    const paths = {\n",
       "      \"vega\": \"https://cdn.jsdelivr.net/npm//vega@5?noext\",\n",
       "      \"vega-lib\": \"https://cdn.jsdelivr.net/npm//vega-lib?noext\",\n",
       "      \"vega-lite\": \"https://cdn.jsdelivr.net/npm//vega-lite@4.17.0?noext\",\n",
       "      \"vega-embed\": \"https://cdn.jsdelivr.net/npm//vega-embed@6?noext\",\n",
       "    };\n",
       "\n",
       "    function maybeLoadScript(lib, version) {\n",
       "      var key = `${lib.replace(\"-\", \"\")}_version`;\n",
       "      return (VEGA_DEBUG[key] == version) ?\n",
       "        Promise.resolve(paths[lib]) :\n",
       "        new Promise(function(resolve, reject) {\n",
       "          var s = document.createElement('script');\n",
       "          document.getElementsByTagName(\"head\")[0].appendChild(s);\n",
       "          s.async = true;\n",
       "          s.onload = () => {\n",
       "            VEGA_DEBUG[key] = version;\n",
       "            return resolve(paths[lib]);\n",
       "          };\n",
       "          s.onerror = () => reject(`Error loading script: ${paths[lib]}`);\n",
       "          s.src = paths[lib];\n",
       "        });\n",
       "    }\n",
       "\n",
       "    function showError(err) {\n",
       "      outputDiv.innerHTML = `<div class=\"error\" style=\"color:red;\">${err}</div>`;\n",
       "      throw err;\n",
       "    }\n",
       "\n",
       "    function displayChart(vegaEmbed) {\n",
       "      vegaEmbed(outputDiv, spec, embedOpt)\n",
       "        .catch(err => showError(`Javascript Error: ${err.message}<br>This usually means there's a typo in your chart specification. See the javascript console for the full traceback.`));\n",
       "    }\n",
       "\n",
       "    if(typeof define === \"function\" && define.amd) {\n",
       "      requirejs.config({paths});\n",
       "      require([\"vega-embed\"], displayChart, err => showError(`Error loading script: ${err.message}`));\n",
       "    } else {\n",
       "      maybeLoadScript(\"vega\", \"5\")\n",
       "        .then(() => maybeLoadScript(\"vega-lite\", \"4.17.0\"))\n",
       "        .then(() => maybeLoadScript(\"vega-embed\", \"6\"))\n",
       "        .catch(showError)\n",
       "        .then(() => displayChart(vegaEmbed));\n",
       "    }\n",
       "  })({\"config\": {\"view\": {\"continuousWidth\": 400, \"continuousHeight\": 300, \"strokeOpacity\": 0}, \"axisX\": {\"labelAngle\": 0}, \"mark\": {\"color\": \"#F1705F\"}}, \"data\": {\"name\": \"data-20d17f4187f3f863594f4bd8cc1ccab2\"}, \"mark\": \"bar\", \"encoding\": {\"tooltip\": [{\"field\": \"% withdrawn of the deposited amount\", \"type\": \"nominal\"}, {\"field\": \"N\\u00b0 of users\", \"type\": \"quantitative\"}], \"x\": {\"field\": \"N\\u00b0 of users\", \"type\": \"quantitative\"}, \"y\": {\"field\": \"% withdrawn of the deposited amount\", \"sort\": {\"order\": \"ascending\"}, \"type\": \"nominal\"}}, \"height\": 300, \"$schema\": \"https://vega.github.io/schema/vega-lite/v4.17.0.json\", \"datasets\": {\"data-20d17f4187f3f863594f4bd8cc1ccab2\": [{\"% withdrawn of the deposited amount\": \"0%-10%\", \"N\\u00b0 of users\": 18.0}, {\"% withdrawn of the deposited amount\": \"10%-20%\", \"N\\u00b0 of users\": 8.0}, {\"% withdrawn of the deposited amount\": \"20%-30%\", \"N\\u00b0 of users\": 1.0}, {\"% withdrawn of the deposited amount\": \"30%-40%\", \"N\\u00b0 of users\": 2.0}, {\"% withdrawn of the deposited amount\": \"40%-50%\", \"N\\u00b0 of users\": 2.0}, {\"% withdrawn of the deposited amount\": \"50%-60%\", \"N\\u00b0 of users\": 1.0}, {\"% withdrawn of the deposited amount\": \"60%-70%\", \"N\\u00b0 of users\": 0.0}, {\"% withdrawn of the deposited amount\": \"70%-80%\", \"N\\u00b0 of users\": 0.0}, {\"% withdrawn of the deposited amount\": \"80%-90%\", \"N\\u00b0 of users\": 1.0}, {\"% withdrawn of the deposited amount\": \"90%-100%\", \"N\\u00b0 of users\": 0.0}]}}, {\"theme\": \"dark\", \"mode\": \"vega-lite\"});\n",
       "</script>"
      ],
      "text/plain": [
       "alt.Chart(...)"
      ]
     },
     "execution_count": 28,
     "metadata": {},
     "output_type": "execute_result"
    }
   ],
   "source": [
    "alt.Chart(df3.sort_values(by='PERC_WITHDRAWN').rename(columns=cols_dict)).mark_bar().encode(\n",
    "    y=alt.X(cols_dict['PERC_WITHDRAWN']+\":N\", sort=alt.EncodingSortField(order='ascending')),\n",
    "    x=cols_dict['TOT_USERS']+\":Q\",\n",
    "    tooltip=[cols_dict['PERC_WITHDRAWN']+\":N\",cols_dict['TOT_USERS']+\":Q\"]\n",
    ").configure_mark(\n",
    "    color='#F1705F'\n",
    ").properties(height=300).configure_axisX(\n",
    "    labelAngle=0\n",
    ").configure_view(strokeOpacity=0)"
   ]
  },
  {
   "cell_type": "code",
   "execution_count": 29,
   "metadata": {},
   "outputs": [
    {
     "data": {
      "text/html": [
       "<div>\n",
       "<style scoped>\n",
       "    .dataframe tbody tr th:only-of-type {\n",
       "        vertical-align: middle;\n",
       "    }\n",
       "\n",
       "    .dataframe tbody tr th {\n",
       "        vertical-align: top;\n",
       "    }\n",
       "\n",
       "    .dataframe thead th {\n",
       "        text-align: right;\n",
       "    }\n",
       "</style>\n",
       "<table border=\"1\" class=\"dataframe\">\n",
       "  <thead>\n",
       "    <tr style=\"text-align: right;\">\n",
       "      <th></th>\n",
       "      <th>HR</th>\n",
       "      <th>WITH_AMOUNT</th>\n",
       "      <th>WITH_TX</th>\n",
       "      <th>WITH_USERS</th>\n",
       "      <th>cumsum_with</th>\n",
       "      <th>net_ust</th>\n",
       "    </tr>\n",
       "  </thead>\n",
       "  <tbody>\n",
       "    <tr>\n",
       "      <th>22</th>\n",
       "      <td>2022/02/01  07:00:00</td>\n",
       "      <td>501183.642552</td>\n",
       "      <td>11</td>\n",
       "      <td>11</td>\n",
       "      <td>501183.642552</td>\n",
       "      <td>3.893072e+06</td>\n",
       "    </tr>\n",
       "    <tr>\n",
       "      <th>14</th>\n",
       "      <td>2022/02/01  08:00:00</td>\n",
       "      <td>5923.464239</td>\n",
       "      <td>3</td>\n",
       "      <td>3</td>\n",
       "      <td>507107.106791</td>\n",
       "      <td>3.887148e+06</td>\n",
       "    </tr>\n",
       "    <tr>\n",
       "      <th>27</th>\n",
       "      <td>2022/02/01  09:00:00</td>\n",
       "      <td>1250.000000</td>\n",
       "      <td>2</td>\n",
       "      <td>2</td>\n",
       "      <td>508357.106791</td>\n",
       "      <td>3.885898e+06</td>\n",
       "    </tr>\n",
       "    <tr>\n",
       "      <th>4</th>\n",
       "      <td>2022/02/01  10:00:00</td>\n",
       "      <td>19312.000000</td>\n",
       "      <td>3</td>\n",
       "      <td>3</td>\n",
       "      <td>527669.106791</td>\n",
       "      <td>3.866586e+06</td>\n",
       "    </tr>\n",
       "    <tr>\n",
       "      <th>11</th>\n",
       "      <td>2022/02/01  11:00:00</td>\n",
       "      <td>24691.000000</td>\n",
       "      <td>7</td>\n",
       "      <td>7</td>\n",
       "      <td>552360.106791</td>\n",
       "      <td>3.841895e+06</td>\n",
       "    </tr>\n",
       "  </tbody>\n",
       "</table>\n",
       "</div>"
      ],
      "text/plain": [
       "                      HR    WITH_AMOUNT  WITH_TX  WITH_USERS    cumsum_with  \\\n",
       "22  2022/02/01  07:00:00  501183.642552       11          11  501183.642552   \n",
       "14  2022/02/01  08:00:00    5923.464239        3           3  507107.106791   \n",
       "27  2022/02/01  09:00:00    1250.000000        2           2  508357.106791   \n",
       "4   2022/02/01  10:00:00   19312.000000        3           3  527669.106791   \n",
       "11  2022/02/01  11:00:00   24691.000000        7           7  552360.106791   \n",
       "\n",
       "         net_ust  \n",
       "22  3.893072e+06  \n",
       "14  3.887148e+06  \n",
       "27  3.885898e+06  \n",
       "4   3.866586e+06  \n",
       "11  3.841895e+06  "
      ]
     },
     "execution_count": 29,
     "metadata": {},
     "output_type": "execute_result"
    }
   ],
   "source": [
    "p2_hourly_df = p2_hourly_df.sort_values(by='HR')\n",
    "p2_hourly_df['cumsum_with'] = p2_hourly_df.sort_values(by='HR').WITH_AMOUNT.cumsum()\n",
    "p2_hourly_df['net_ust'] = tot_ust_p1 - p2_hourly_df['cumsum_with']\n",
    "p2_hourly_df.head()"
   ]
  },
  {
   "cell_type": "code",
   "execution_count": 30,
   "metadata": {},
   "outputs": [
    {
     "data": {
      "text/html": [
       "\n",
       "<div id=\"altair-viz-798404e0a64a4530acb5b9df2233bf2c\"></div>\n",
       "<script type=\"text/javascript\">\n",
       "  var VEGA_DEBUG = (typeof VEGA_DEBUG == \"undefined\") ? {} : VEGA_DEBUG;\n",
       "  (function(spec, embedOpt){\n",
       "    let outputDiv = document.currentScript.previousElementSibling;\n",
       "    if (outputDiv.id !== \"altair-viz-798404e0a64a4530acb5b9df2233bf2c\") {\n",
       "      outputDiv = document.getElementById(\"altair-viz-798404e0a64a4530acb5b9df2233bf2c\");\n",
       "    }\n",
       "    const paths = {\n",
       "      \"vega\": \"https://cdn.jsdelivr.net/npm//vega@5?noext\",\n",
       "      \"vega-lib\": \"https://cdn.jsdelivr.net/npm//vega-lib?noext\",\n",
       "      \"vega-lite\": \"https://cdn.jsdelivr.net/npm//vega-lite@4.17.0?noext\",\n",
       "      \"vega-embed\": \"https://cdn.jsdelivr.net/npm//vega-embed@6?noext\",\n",
       "    };\n",
       "\n",
       "    function maybeLoadScript(lib, version) {\n",
       "      var key = `${lib.replace(\"-\", \"\")}_version`;\n",
       "      return (VEGA_DEBUG[key] == version) ?\n",
       "        Promise.resolve(paths[lib]) :\n",
       "        new Promise(function(resolve, reject) {\n",
       "          var s = document.createElement('script');\n",
       "          document.getElementsByTagName(\"head\")[0].appendChild(s);\n",
       "          s.async = true;\n",
       "          s.onload = () => {\n",
       "            VEGA_DEBUG[key] = version;\n",
       "            return resolve(paths[lib]);\n",
       "          };\n",
       "          s.onerror = () => reject(`Error loading script: ${paths[lib]}`);\n",
       "          s.src = paths[lib];\n",
       "        });\n",
       "    }\n",
       "\n",
       "    function showError(err) {\n",
       "      outputDiv.innerHTML = `<div class=\"error\" style=\"color:red;\">${err}</div>`;\n",
       "      throw err;\n",
       "    }\n",
       "\n",
       "    function displayChart(vegaEmbed) {\n",
       "      vegaEmbed(outputDiv, spec, embedOpt)\n",
       "        .catch(err => showError(`Javascript Error: ${err.message}<br>This usually means there's a typo in your chart specification. See the javascript console for the full traceback.`));\n",
       "    }\n",
       "\n",
       "    if(typeof define === \"function\" && define.amd) {\n",
       "      requirejs.config({paths});\n",
       "      require([\"vega-embed\"], displayChart, err => showError(`Error loading script: ${err.message}`));\n",
       "    } else {\n",
       "      maybeLoadScript(\"vega\", \"5\")\n",
       "        .then(() => maybeLoadScript(\"vega-lite\", \"4.17.0\"))\n",
       "        .then(() => maybeLoadScript(\"vega-embed\", \"6\"))\n",
       "        .catch(showError)\n",
       "        .then(() => displayChart(vegaEmbed));\n",
       "    }\n",
       "  })({\"config\": {\"view\": {\"continuousWidth\": 400, \"continuousHeight\": 300, \"strokeOpacity\": 0}, \"axisX\": {}, \"mark\": {\"color\": \"#F1705F\"}}, \"data\": {\"name\": \"data-3fb60733b20150d4609eca4e41b473cd\"}, \"mark\": {\"type\": \"line\", \"point\": true}, \"encoding\": {\"tooltip\": [{\"field\": \"Time\", \"format\": \"%Y-%m-%d %H:%M\", \"type\": \"temporal\"}, {\"field\": \"Amount UST\", \"type\": \"quantitative\"}], \"x\": {\"field\": \"Time\", \"sort\": {\"order\": \"ascending\"}, \"type\": \"temporal\"}, \"y\": {\"field\": \"Amount UST\", \"type\": \"quantitative\"}}, \"width\": 700, \"$schema\": \"https://vega.github.io/schema/vega-lite/v4.17.0.json\", \"datasets\": {\"data-3fb60733b20150d4609eca4e41b473cd\": [{\"Time\": \"2022/02/01  07:00:00\", \"Withdrawn amount\": 501183.642552, \"WITH_TX\": 11, \"N\\u00b0 of withdrawing users\": 11, \"cumsum_with\": 501183.642552, \"Amount UST\": 3893071.8118719994}, {\"Time\": \"2022/02/01  08:00:00\", \"Withdrawn amount\": 5923.464239, \"WITH_TX\": 3, \"N\\u00b0 of withdrawing users\": 3, \"cumsum_with\": 507107.106791, \"Amount UST\": 3887148.3476329995}, {\"Time\": \"2022/02/01  09:00:00\", \"Withdrawn amount\": 1250.0, \"WITH_TX\": 2, \"N\\u00b0 of withdrawing users\": 2, \"cumsum_with\": 508357.106791, \"Amount UST\": 3885898.3476329995}, {\"Time\": \"2022/02/01  10:00:00\", \"Withdrawn amount\": 19312.0, \"WITH_TX\": 3, \"N\\u00b0 of withdrawing users\": 3, \"cumsum_with\": 527669.106791, \"Amount UST\": 3866586.3476329995}, {\"Time\": \"2022/02/01  11:00:00\", \"Withdrawn amount\": 24691.0, \"WITH_TX\": 7, \"N\\u00b0 of withdrawing users\": 7, \"cumsum_with\": 552360.106791, \"Amount UST\": 3841895.3476329995}, {\"Time\": \"2022/02/01  12:00:00\", \"Withdrawn amount\": 857.670794, \"WITH_TX\": 3, \"N\\u00b0 of withdrawing users\": 3, \"cumsum_with\": 553217.777585, \"Amount UST\": 3841037.6768389996}, {\"Time\": \"2022/02/01  13:00:00\", \"Withdrawn amount\": 1930.0, \"WITH_TX\": 2, \"N\\u00b0 of withdrawing users\": 2, \"cumsum_with\": 555147.777585, \"Amount UST\": 3839107.6768389996}, {\"Time\": \"2022/02/01  14:00:00\", \"Withdrawn amount\": 14000.0, \"WITH_TX\": 2, \"N\\u00b0 of withdrawing users\": 2, \"cumsum_with\": 569147.777585, \"Amount UST\": 3825107.6768389996}, {\"Time\": \"2022/02/01  15:00:00\", \"Withdrawn amount\": 7635.881191, \"WITH_TX\": 5, \"N\\u00b0 of withdrawing users\": 5, \"cumsum_with\": 576783.658776, \"Amount UST\": 3817471.7956479993}, {\"Time\": \"2022/02/01  16:00:00\", \"Withdrawn amount\": 39640.0, \"WITH_TX\": 7, \"N\\u00b0 of withdrawing users\": 7, \"cumsum_with\": 616423.658776, \"Amount UST\": 3777831.7956479993}, {\"Time\": \"2022/02/01  17:00:00\", \"Withdrawn amount\": 4949.462797, \"WITH_TX\": 4, \"N\\u00b0 of withdrawing users\": 3, \"cumsum_with\": 621373.121573, \"Amount UST\": 3772882.332850999}, {\"Time\": \"2022/02/01  18:00:00\", \"Withdrawn amount\": 1470.0, \"WITH_TX\": 2, \"N\\u00b0 of withdrawing users\": 2, \"cumsum_with\": 622843.121573, \"Amount UST\": 3771412.332850999}, {\"Time\": \"2022/02/01  19:00:00\", \"Withdrawn amount\": 1787.665637, \"WITH_TX\": 4, \"N\\u00b0 of withdrawing users\": 4, \"cumsum_with\": 624630.78721, \"Amount UST\": 3769624.6672139997}, {\"Time\": \"2022/02/01  20:00:00\", \"Withdrawn amount\": 104711.479309, \"WITH_TX\": 5, \"N\\u00b0 of withdrawing users\": 5, \"cumsum_with\": 729342.2665189999, \"Amount UST\": 3664913.1879049996}, {\"Time\": \"2022/02/01  21:00:00\", \"Withdrawn amount\": 2642.0, \"WITH_TX\": 5, \"N\\u00b0 of withdrawing users\": 5, \"cumsum_with\": 731984.2665189999, \"Amount UST\": 3662271.1879049996}, {\"Time\": \"2022/02/01  22:00:00\", \"Withdrawn amount\": 1300.0, \"WITH_TX\": 3, \"N\\u00b0 of withdrawing users\": 3, \"cumsum_with\": 733284.2665189999, \"Amount UST\": 3660971.1879049996}, {\"Time\": \"2022/02/01  23:00:00\", \"Withdrawn amount\": 4211.0, \"WITH_TX\": 5, \"N\\u00b0 of withdrawing users\": 5, \"cumsum_with\": 737495.2665189999, \"Amount UST\": 3656760.1879049996}, {\"Time\": \"2022/02/02  00:00:00\", \"Withdrawn amount\": 11500.0, \"WITH_TX\": 3, \"N\\u00b0 of withdrawing users\": 3, \"cumsum_with\": 748995.2665189999, \"Amount UST\": 3645260.1879049996}, {\"Time\": \"2022/02/02  02:00:00\", \"Withdrawn amount\": 1043.150932, \"WITH_TX\": 3, \"N\\u00b0 of withdrawing users\": 3, \"cumsum_with\": 750038.417451, \"Amount UST\": 3644217.0369729996}, {\"Time\": \"2022/02/02  03:00:00\", \"Withdrawn amount\": 3107.74, \"WITH_TX\": 2, \"N\\u00b0 of withdrawing users\": 2, \"cumsum_with\": 753146.157451, \"Amount UST\": 3641109.2969729993}, {\"Time\": \"2022/02/02  04:00:00\", \"Withdrawn amount\": 16219.0, \"WITH_TX\": 4, \"N\\u00b0 of withdrawing users\": 4, \"cumsum_with\": 769365.157451, \"Amount UST\": 3624890.2969729993}, {\"Time\": \"2022/02/02  05:00:00\", \"Withdrawn amount\": 515900.0, \"WITH_TX\": 2, \"N\\u00b0 of withdrawing users\": 2, \"cumsum_with\": 1285265.157451, \"Amount UST\": 3108990.2969729993}, {\"Time\": \"2022/02/02  06:00:00\", \"Withdrawn amount\": 1100.0, \"WITH_TX\": 1, \"N\\u00b0 of withdrawing users\": 1, \"cumsum_with\": 1286365.157451, \"Amount UST\": 3107890.2969729993}, {\"Time\": \"2022/02/02  07:00:00\", \"Withdrawn amount\": 2445.084556, \"WITH_TX\": 3, \"N\\u00b0 of withdrawing users\": 3, \"cumsum_with\": 1288810.2420070001, \"Amount UST\": 3105445.212416999}, {\"Time\": \"2022/02/02  08:00:00\", \"Withdrawn amount\": 61028.0, \"WITH_TX\": 5, \"N\\u00b0 of withdrawing users\": 5, \"cumsum_with\": 1349838.2420070001, \"Amount UST\": 3044417.212416999}, {\"Time\": \"2022/02/02  09:00:00\", \"Withdrawn amount\": 1150.0, \"WITH_TX\": 4, \"N\\u00b0 of withdrawing users\": 4, \"cumsum_with\": 1350988.2420070001, \"Amount UST\": 3043267.212416999}, {\"Time\": \"2022/02/02  10:00:00\", \"Withdrawn amount\": 2850.0, \"WITH_TX\": 4, \"N\\u00b0 of withdrawing users\": 4, \"cumsum_with\": 1353838.2420070001, \"Amount UST\": 3040417.212416999}, {\"Time\": \"2022/02/02  11:00:00\", \"Withdrawn amount\": 1070.0, \"WITH_TX\": 2, \"N\\u00b0 of withdrawing users\": 2, \"cumsum_with\": 1354908.2420070001, \"Amount UST\": 3039347.212416999}, {\"Time\": \"2022/02/02  12:00:00\", \"Withdrawn amount\": 12291.0, \"WITH_TX\": 6, \"N\\u00b0 of withdrawing users\": 5, \"cumsum_with\": 1367199.2420070001, \"Amount UST\": 3027056.212416999}]}}, {\"theme\": \"dark\", \"mode\": \"vega-lite\"});\n",
       "</script>"
      ],
      "text/plain": [
       "alt.Chart(...)"
      ]
     },
     "execution_count": 30,
     "metadata": {},
     "output_type": "execute_result"
    }
   ],
   "source": [
    "alt.Chart(p2_hourly_df.rename(columns=cols_dict)).mark_line(point=True).encode(\n",
    "    x=alt.X(cols_dict['HR']+':T', sort=alt.EncodingSortField(order='ascending')),\n",
    "    y=cols_dict['net_ust']+\":Q\",\n",
    "    tooltip=[alt.Tooltip(cols_dict['HR']+':T', format='%Y-%m-%d %H:%M'), alt.Tooltip(cols_dict['net_ust']+\":Q\")]\n",
    ").configure_mark(\n",
    "    color='#F1705F'\n",
    ").properties(width=700).configure_axisX(\n",
    ").configure_view(strokeOpacity=0)"
   ]
  },
  {
   "cell_type": "code",
   "execution_count": 71,
   "metadata": {},
   "outputs": [
    {
     "name": "stderr",
     "output_type": "stream",
     "text": [
      "C:\\Users\\aincerti\\AppData\\Local\\Temp\\ipykernel_16196\\875801285.py:1: SettingWithCopyWarning: \n",
      "A value is trying to be set on a copy of a slice from a DataFrame.\n",
      "Try using .loc[row_indexer,col_indexer] = value instead\n",
      "\n",
      "See the caveats in the documentation: https://pandas.pydata.org/pandas-docs/stable/user_guide/indexing.html#returning-a-view-versus-a-copy\n",
      "  with_users_df['DEP_CAT'] = (with_users_df['NET_DEPOSITED_AMOUNT']/1000).apply(int)\n"
     ]
    },
    {
     "data": {
      "text/html": [
       "<div>\n",
       "<style scoped>\n",
       "    .dataframe tbody tr th:only-of-type {\n",
       "        vertical-align: middle;\n",
       "    }\n",
       "\n",
       "    .dataframe tbody tr th {\n",
       "        vertical-align: top;\n",
       "    }\n",
       "\n",
       "    .dataframe thead th {\n",
       "        text-align: right;\n",
       "    }\n",
       "</style>\n",
       "<table border=\"1\" class=\"dataframe\">\n",
       "  <thead>\n",
       "    <tr style=\"text-align: right;\">\n",
       "      <th></th>\n",
       "      <th>DEP_CAT</th>\n",
       "      <th>perc_withdrawn_cat</th>\n",
       "      <th>SENDER</th>\n",
       "    </tr>\n",
       "  </thead>\n",
       "  <tbody>\n",
       "    <tr>\n",
       "      <th>0</th>\n",
       "      <td>0</td>\n",
       "      <td>0</td>\n",
       "      <td>9</td>\n",
       "    </tr>\n",
       "    <tr>\n",
       "      <th>1</th>\n",
       "      <td>0</td>\n",
       "      <td>1</td>\n",
       "      <td>5</td>\n",
       "    </tr>\n",
       "    <tr>\n",
       "      <th>2</th>\n",
       "      <td>0</td>\n",
       "      <td>2</td>\n",
       "      <td>1</td>\n",
       "    </tr>\n",
       "    <tr>\n",
       "      <th>3</th>\n",
       "      <td>0</td>\n",
       "      <td>3</td>\n",
       "      <td>2</td>\n",
       "    </tr>\n",
       "    <tr>\n",
       "      <th>4</th>\n",
       "      <td>0</td>\n",
       "      <td>4</td>\n",
       "      <td>2</td>\n",
       "    </tr>\n",
       "    <tr>\n",
       "      <th>5</th>\n",
       "      <td>0</td>\n",
       "      <td>5</td>\n",
       "      <td>1</td>\n",
       "    </tr>\n",
       "    <tr>\n",
       "      <th>6</th>\n",
       "      <td>0</td>\n",
       "      <td>8</td>\n",
       "      <td>1</td>\n",
       "    </tr>\n",
       "    <tr>\n",
       "      <th>7</th>\n",
       "      <td>1</td>\n",
       "      <td>0</td>\n",
       "      <td>6</td>\n",
       "    </tr>\n",
       "    <tr>\n",
       "      <th>8</th>\n",
       "      <td>1</td>\n",
       "      <td>1</td>\n",
       "      <td>2</td>\n",
       "    </tr>\n",
       "    <tr>\n",
       "      <th>9</th>\n",
       "      <td>2</td>\n",
       "      <td>0</td>\n",
       "      <td>1</td>\n",
       "    </tr>\n",
       "    <tr>\n",
       "      <th>10</th>\n",
       "      <td>2</td>\n",
       "      <td>1</td>\n",
       "      <td>1</td>\n",
       "    </tr>\n",
       "    <tr>\n",
       "      <th>11</th>\n",
       "      <td>24</td>\n",
       "      <td>0</td>\n",
       "      <td>1</td>\n",
       "    </tr>\n",
       "    <tr>\n",
       "      <th>12</th>\n",
       "      <td>53</td>\n",
       "      <td>0</td>\n",
       "      <td>1</td>\n",
       "    </tr>\n",
       "  </tbody>\n",
       "</table>\n",
       "</div>"
      ],
      "text/plain": [
       "    DEP_CAT  perc_withdrawn_cat  SENDER\n",
       "0         0                   0       9\n",
       "1         0                   1       5\n",
       "2         0                   2       1\n",
       "3         0                   3       2\n",
       "4         0                   4       2\n",
       "5         0                   5       1\n",
       "6         0                   8       1\n",
       "7         1                   0       6\n",
       "8         1                   1       2\n",
       "9         2                   0       1\n",
       "10        2                   1       1\n",
       "11       24                   0       1\n",
       "12       53                   0       1"
      ]
     },
     "execution_count": 71,
     "metadata": {},
     "output_type": "execute_result"
    }
   ],
   "source": [
    "with_users_df['DEP_CAT'] = (with_users_df['NET_DEPOSITED_AMOUNT']/1000).apply(int)\n",
    "df = with_users_df.groupby(['DEP_CAT','perc_withdrawn_cat']).SENDER.count()\n",
    "df = df.reset_index()\n",
    "df"
   ]
  },
  {
   "cell_type": "code",
   "execution_count": 72,
   "metadata": {},
   "outputs": [
    {
     "data": {
      "text/html": [
       "\n",
       "<div id=\"altair-viz-47a7dfa79ddc4028ab6a61f4ba6f10c3\"></div>\n",
       "<script type=\"text/javascript\">\n",
       "  var VEGA_DEBUG = (typeof VEGA_DEBUG == \"undefined\") ? {} : VEGA_DEBUG;\n",
       "  (function(spec, embedOpt){\n",
       "    let outputDiv = document.currentScript.previousElementSibling;\n",
       "    if (outputDiv.id !== \"altair-viz-47a7dfa79ddc4028ab6a61f4ba6f10c3\") {\n",
       "      outputDiv = document.getElementById(\"altair-viz-47a7dfa79ddc4028ab6a61f4ba6f10c3\");\n",
       "    }\n",
       "    const paths = {\n",
       "      \"vega\": \"https://cdn.jsdelivr.net/npm//vega@5?noext\",\n",
       "      \"vega-lib\": \"https://cdn.jsdelivr.net/npm//vega-lib?noext\",\n",
       "      \"vega-lite\": \"https://cdn.jsdelivr.net/npm//vega-lite@4.17.0?noext\",\n",
       "      \"vega-embed\": \"https://cdn.jsdelivr.net/npm//vega-embed@6?noext\",\n",
       "    };\n",
       "\n",
       "    function maybeLoadScript(lib, version) {\n",
       "      var key = `${lib.replace(\"-\", \"\")}_version`;\n",
       "      return (VEGA_DEBUG[key] == version) ?\n",
       "        Promise.resolve(paths[lib]) :\n",
       "        new Promise(function(resolve, reject) {\n",
       "          var s = document.createElement('script');\n",
       "          document.getElementsByTagName(\"head\")[0].appendChild(s);\n",
       "          s.async = true;\n",
       "          s.onload = () => {\n",
       "            VEGA_DEBUG[key] = version;\n",
       "            return resolve(paths[lib]);\n",
       "          };\n",
       "          s.onerror = () => reject(`Error loading script: ${paths[lib]}`);\n",
       "          s.src = paths[lib];\n",
       "        });\n",
       "    }\n",
       "\n",
       "    function showError(err) {\n",
       "      outputDiv.innerHTML = `<div class=\"error\" style=\"color:red;\">${err}</div>`;\n",
       "      throw err;\n",
       "    }\n",
       "\n",
       "    function displayChart(vegaEmbed) {\n",
       "      vegaEmbed(outputDiv, spec, embedOpt)\n",
       "        .catch(err => showError(`Javascript Error: ${err.message}<br>This usually means there's a typo in your chart specification. See the javascript console for the full traceback.`));\n",
       "    }\n",
       "\n",
       "    if(typeof define === \"function\" && define.amd) {\n",
       "      requirejs.config({paths});\n",
       "      require([\"vega-embed\"], displayChart, err => showError(`Error loading script: ${err.message}`));\n",
       "    } else {\n",
       "      maybeLoadScript(\"vega\", \"5\")\n",
       "        .then(() => maybeLoadScript(\"vega-lite\", \"4.17.0\"))\n",
       "        .then(() => maybeLoadScript(\"vega-embed\", \"6\"))\n",
       "        .catch(showError)\n",
       "        .then(() => displayChart(vegaEmbed));\n",
       "    }\n",
       "  })({\"config\": {\"view\": {\"continuousWidth\": 400, \"continuousHeight\": 300}}, \"data\": {\"name\": \"data-7f334987b2c60d247697781f01590f69\"}, \"mark\": \"rect\", \"encoding\": {\"color\": {\"field\": \"SENDER\", \"type\": \"quantitative\"}, \"x\": {\"field\": \"perc_withdrawn_cat\", \"sort\": {\"order\": \"ascending\"}, \"type\": \"ordinal\"}, \"y\": {\"field\": \"DEP_CAT\", \"sort\": {\"order\": \"descending\"}, \"type\": \"ordinal\"}}, \"$schema\": \"https://vega.github.io/schema/vega-lite/v4.17.0.json\", \"datasets\": {\"data-7f334987b2c60d247697781f01590f69\": [{\"DEP_CAT\": 0, \"perc_withdrawn_cat\": 0, \"SENDER\": 9}, {\"DEP_CAT\": 0, \"perc_withdrawn_cat\": 1, \"SENDER\": 5}, {\"DEP_CAT\": 0, \"perc_withdrawn_cat\": 2, \"SENDER\": 1}, {\"DEP_CAT\": 0, \"perc_withdrawn_cat\": 3, \"SENDER\": 2}, {\"DEP_CAT\": 0, \"perc_withdrawn_cat\": 4, \"SENDER\": 2}, {\"DEP_CAT\": 0, \"perc_withdrawn_cat\": 5, \"SENDER\": 1}, {\"DEP_CAT\": 0, \"perc_withdrawn_cat\": 8, \"SENDER\": 1}, {\"DEP_CAT\": 1, \"perc_withdrawn_cat\": 0, \"SENDER\": 6}, {\"DEP_CAT\": 1, \"perc_withdrawn_cat\": 1, \"SENDER\": 2}, {\"DEP_CAT\": 2, \"perc_withdrawn_cat\": 0, \"SENDER\": 1}, {\"DEP_CAT\": 2, \"perc_withdrawn_cat\": 1, \"SENDER\": 1}, {\"DEP_CAT\": 24, \"perc_withdrawn_cat\": 0, \"SENDER\": 1}, {\"DEP_CAT\": 53, \"perc_withdrawn_cat\": 0, \"SENDER\": 1}]}}, {\"theme\": \"dark\", \"mode\": \"vega-lite\"});\n",
       "</script>"
      ],
      "text/plain": [
       "alt.Chart(...)"
      ]
     },
     "execution_count": 72,
     "metadata": {},
     "output_type": "execute_result"
    }
   ],
   "source": [
    "alt.Chart(df).mark_rect().encode(\n",
    "    x=alt.X('perc_withdrawn_cat:O', sort=alt.EncodingSortField(order='ascending')),\n",
    "    y=alt.Y('DEP_CAT:O', sort=alt.EncodingSortField(order='descending')),\n",
    "    color='SENDER:Q'\n",
    ")"
   ]
  },
  {
   "cell_type": "code",
   "execution_count": 94,
   "metadata": {},
   "outputs": [],
   "source": [
    "import random\n",
    "df1 = pd.DataFrame([list(range(0,100,5))]).T\n",
    "df2 = pd.DataFrame([list(range(0,1000,50))]).T\n",
    "heatmap_val = df2.merge(df1, how='cross')\n",
    "heatmap_val.columns = ['DEP_CAT','perc_withdrawn_cat']\n",
    "df = heatmap_val.merge(df, on=['perc_withdrawn_cat', 'DEP_CAT'], how='left').fillna(0)\n",
    "df['SENDER'] = df['SENDER'].apply(lambda v: random.random() * 1000)\n",
    "df = df.sort_values(by=['perc_withdrawn_cat', 'DEP_CAT'], ascending=[True,False])"
   ]
  },
  {
   "cell_type": "code",
   "execution_count": 95,
   "metadata": {},
   "outputs": [],
   "source": [
    "df = df.sort_values(by=['perc_withdrawn_cat', 'DEP_CAT'], ascending=[True,False])"
   ]
  },
  {
   "cell_type": "code",
   "execution_count": 96,
   "metadata": {},
   "outputs": [
    {
     "data": {
      "text/html": [
       "\n",
       "<div id=\"altair-viz-c2caa7bb25194a80849e8fc7796cff65\"></div>\n",
       "<script type=\"text/javascript\">\n",
       "  var VEGA_DEBUG = (typeof VEGA_DEBUG == \"undefined\") ? {} : VEGA_DEBUG;\n",
       "  (function(spec, embedOpt){\n",
       "    let outputDiv = document.currentScript.previousElementSibling;\n",
       "    if (outputDiv.id !== \"altair-viz-c2caa7bb25194a80849e8fc7796cff65\") {\n",
       "      outputDiv = document.getElementById(\"altair-viz-c2caa7bb25194a80849e8fc7796cff65\");\n",
       "    }\n",
       "    const paths = {\n",
       "      \"vega\": \"https://cdn.jsdelivr.net/npm//vega@5?noext\",\n",
       "      \"vega-lib\": \"https://cdn.jsdelivr.net/npm//vega-lib?noext\",\n",
       "      \"vega-lite\": \"https://cdn.jsdelivr.net/npm//vega-lite@4.17.0?noext\",\n",
       "      \"vega-embed\": \"https://cdn.jsdelivr.net/npm//vega-embed@6?noext\",\n",
       "    };\n",
       "\n",
       "    function maybeLoadScript(lib, version) {\n",
       "      var key = `${lib.replace(\"-\", \"\")}_version`;\n",
       "      return (VEGA_DEBUG[key] == version) ?\n",
       "        Promise.resolve(paths[lib]) :\n",
       "        new Promise(function(resolve, reject) {\n",
       "          var s = document.createElement('script');\n",
       "          document.getElementsByTagName(\"head\")[0].appendChild(s);\n",
       "          s.async = true;\n",
       "          s.onload = () => {\n",
       "            VEGA_DEBUG[key] = version;\n",
       "            return resolve(paths[lib]);\n",
       "          };\n",
       "          s.onerror = () => reject(`Error loading script: ${paths[lib]}`);\n",
       "          s.src = paths[lib];\n",
       "        });\n",
       "    }\n",
       "\n",
       "    function showError(err) {\n",
       "      outputDiv.innerHTML = `<div class=\"error\" style=\"color:red;\">${err}</div>`;\n",
       "      throw err;\n",
       "    }\n",
       "\n",
       "    function displayChart(vegaEmbed) {\n",
       "      vegaEmbed(outputDiv, spec, embedOpt)\n",
       "        .catch(err => showError(`Javascript Error: ${err.message}<br>This usually means there's a typo in your chart specification. See the javascript console for the full traceback.`));\n",
       "    }\n",
       "\n",
       "    if(typeof define === \"function\" && define.amd) {\n",
       "      requirejs.config({paths});\n",
       "      require([\"vega-embed\"], displayChart, err => showError(`Error loading script: ${err.message}`));\n",
       "    } else {\n",
       "      maybeLoadScript(\"vega\", \"5\")\n",
       "        .then(() => maybeLoadScript(\"vega-lite\", \"4.17.0\"))\n",
       "        .then(() => maybeLoadScript(\"vega-embed\", \"6\"))\n",
       "        .catch(showError)\n",
       "        .then(() => displayChart(vegaEmbed));\n",
       "    }\n",
       "  })({\"config\": {\"view\": {\"continuousWidth\": 400, \"continuousHeight\": 300}}, \"data\": {\"name\": \"data-2bc6b0af576c294789a85e79239f3e5e\"}, \"mark\": \"rect\", \"encoding\": {\"color\": {\"field\": \"SENDER\", \"scale\": {\"scheme\": \"redpurple\"}, \"type\": \"quantitative\"}, \"tooltip\": [{\"field\": \"perc_withdrawn_cat\", \"type\": \"ordinal\"}, {\"field\": \"DEP_CAT\", \"type\": \"ordinal\"}], \"x\": {\"field\": \"perc_withdrawn_cat\", \"sort\": {\"order\": \"ascending\"}, \"type\": \"ordinal\"}, \"y\": {\"field\": \"DEP_CAT\", \"sort\": {\"order\": \"ascending\"}, \"type\": \"ordinal\"}}, \"$schema\": \"https://vega.github.io/schema/vega-lite/v4.17.0.json\", \"datasets\": {\"data-2bc6b0af576c294789a85e79239f3e5e\": [{\"DEP_CAT\": 950, \"perc_withdrawn_cat\": 0, \"SENDER\": 451.89627799372414}, {\"DEP_CAT\": 900, \"perc_withdrawn_cat\": 0, \"SENDER\": 678.1014767636991}, {\"DEP_CAT\": 850, \"perc_withdrawn_cat\": 0, \"SENDER\": 799.9493678096956}, {\"DEP_CAT\": 800, \"perc_withdrawn_cat\": 0, \"SENDER\": 426.79771065298365}, {\"DEP_CAT\": 750, \"perc_withdrawn_cat\": 0, \"SENDER\": 347.332982378205}, {\"DEP_CAT\": 700, \"perc_withdrawn_cat\": 0, \"SENDER\": 519.1818636585881}, {\"DEP_CAT\": 650, \"perc_withdrawn_cat\": 0, \"SENDER\": 962.188315859913}, {\"DEP_CAT\": 600, \"perc_withdrawn_cat\": 0, \"SENDER\": 747.2605284295742}, {\"DEP_CAT\": 550, \"perc_withdrawn_cat\": 0, \"SENDER\": 322.71450716621797}, {\"DEP_CAT\": 500, \"perc_withdrawn_cat\": 0, \"SENDER\": 142.43195753096128}, {\"DEP_CAT\": 450, \"perc_withdrawn_cat\": 0, \"SENDER\": 607.2063631138508}, {\"DEP_CAT\": 400, \"perc_withdrawn_cat\": 0, \"SENDER\": 425.4664654962281}, {\"DEP_CAT\": 350, \"perc_withdrawn_cat\": 0, \"SENDER\": 754.8486523623342}, {\"DEP_CAT\": 300, \"perc_withdrawn_cat\": 0, \"SENDER\": 841.1829828187363}, {\"DEP_CAT\": 250, \"perc_withdrawn_cat\": 0, \"SENDER\": 577.1188061119192}, {\"DEP_CAT\": 200, \"perc_withdrawn_cat\": 0, \"SENDER\": 277.01628495356647}, {\"DEP_CAT\": 150, \"perc_withdrawn_cat\": 0, \"SENDER\": 91.13910343534425}, {\"DEP_CAT\": 100, \"perc_withdrawn_cat\": 0, \"SENDER\": 289.7830948047268}, {\"DEP_CAT\": 50, \"perc_withdrawn_cat\": 0, \"SENDER\": 500.2803623308588}, {\"DEP_CAT\": 0, \"perc_withdrawn_cat\": 0, \"SENDER\": 379.76106063392757}, {\"DEP_CAT\": 950, \"perc_withdrawn_cat\": 5, \"SENDER\": 913.6588328445428}, {\"DEP_CAT\": 900, \"perc_withdrawn_cat\": 5, \"SENDER\": 104.52852900474218}, {\"DEP_CAT\": 850, \"perc_withdrawn_cat\": 5, \"SENDER\": 689.0419116238393}, {\"DEP_CAT\": 800, \"perc_withdrawn_cat\": 5, \"SENDER\": 454.78585092518074}, {\"DEP_CAT\": 750, \"perc_withdrawn_cat\": 5, \"SENDER\": 232.13570676171025}, {\"DEP_CAT\": 700, \"perc_withdrawn_cat\": 5, \"SENDER\": 265.6680792930117}, {\"DEP_CAT\": 650, \"perc_withdrawn_cat\": 5, \"SENDER\": 434.34187585861514}, {\"DEP_CAT\": 600, \"perc_withdrawn_cat\": 5, \"SENDER\": 652.0151736455008}, {\"DEP_CAT\": 550, \"perc_withdrawn_cat\": 5, \"SENDER\": 896.6998352256585}, {\"DEP_CAT\": 500, \"perc_withdrawn_cat\": 5, \"SENDER\": 786.7239884889664}, {\"DEP_CAT\": 450, \"perc_withdrawn_cat\": 5, \"SENDER\": 438.6089152070042}, {\"DEP_CAT\": 400, \"perc_withdrawn_cat\": 5, \"SENDER\": 411.88731479891203}, {\"DEP_CAT\": 350, \"perc_withdrawn_cat\": 5, \"SENDER\": 997.1086066364037}, {\"DEP_CAT\": 300, \"perc_withdrawn_cat\": 5, \"SENDER\": 390.3790501631187}, {\"DEP_CAT\": 250, \"perc_withdrawn_cat\": 5, \"SENDER\": 917.0478003582571}, {\"DEP_CAT\": 200, \"perc_withdrawn_cat\": 5, \"SENDER\": 95.43240403815656}, {\"DEP_CAT\": 150, \"perc_withdrawn_cat\": 5, \"SENDER\": 895.6626491618949}, {\"DEP_CAT\": 100, \"perc_withdrawn_cat\": 5, \"SENDER\": 969.0724125141124}, {\"DEP_CAT\": 50, \"perc_withdrawn_cat\": 5, \"SENDER\": 365.8805867982008}, {\"DEP_CAT\": 0, \"perc_withdrawn_cat\": 5, \"SENDER\": 122.36965399517597}, {\"DEP_CAT\": 950, \"perc_withdrawn_cat\": 10, \"SENDER\": 211.76498197341843}, {\"DEP_CAT\": 900, \"perc_withdrawn_cat\": 10, \"SENDER\": 447.33461405968535}, {\"DEP_CAT\": 850, \"perc_withdrawn_cat\": 10, \"SENDER\": 433.63832727142983}, {\"DEP_CAT\": 800, \"perc_withdrawn_cat\": 10, \"SENDER\": 153.76906923917744}, {\"DEP_CAT\": 750, \"perc_withdrawn_cat\": 10, \"SENDER\": 819.6359260645946}, {\"DEP_CAT\": 700, \"perc_withdrawn_cat\": 10, \"SENDER\": 18.65850243515077}, {\"DEP_CAT\": 650, \"perc_withdrawn_cat\": 10, \"SENDER\": 807.0975392988803}, {\"DEP_CAT\": 600, \"perc_withdrawn_cat\": 10, \"SENDER\": 636.7557574108422}, {\"DEP_CAT\": 550, \"perc_withdrawn_cat\": 10, \"SENDER\": 293.45326378734427}, {\"DEP_CAT\": 500, \"perc_withdrawn_cat\": 10, \"SENDER\": 446.777072087584}, {\"DEP_CAT\": 450, \"perc_withdrawn_cat\": 10, \"SENDER\": 754.4584215664781}, {\"DEP_CAT\": 400, \"perc_withdrawn_cat\": 10, \"SENDER\": 124.69744756377177}, {\"DEP_CAT\": 350, \"perc_withdrawn_cat\": 10, \"SENDER\": 254.32591578759468}, {\"DEP_CAT\": 300, \"perc_withdrawn_cat\": 10, \"SENDER\": 585.4750745498346}, {\"DEP_CAT\": 250, \"perc_withdrawn_cat\": 10, \"SENDER\": 218.30703310006928}, {\"DEP_CAT\": 200, \"perc_withdrawn_cat\": 10, \"SENDER\": 78.74577267585691}, {\"DEP_CAT\": 150, \"perc_withdrawn_cat\": 10, \"SENDER\": 831.1787080760605}, {\"DEP_CAT\": 100, \"perc_withdrawn_cat\": 10, \"SENDER\": 420.19727826627064}, {\"DEP_CAT\": 50, \"perc_withdrawn_cat\": 10, \"SENDER\": 274.9918657508237}, {\"DEP_CAT\": 0, \"perc_withdrawn_cat\": 10, \"SENDER\": 291.272798486818}, {\"DEP_CAT\": 950, \"perc_withdrawn_cat\": 15, \"SENDER\": 216.76926442100452}, {\"DEP_CAT\": 900, \"perc_withdrawn_cat\": 15, \"SENDER\": 940.6214635423729}, {\"DEP_CAT\": 850, \"perc_withdrawn_cat\": 15, \"SENDER\": 710.5152363691043}, {\"DEP_CAT\": 800, \"perc_withdrawn_cat\": 15, \"SENDER\": 575.7803060072468}, {\"DEP_CAT\": 750, \"perc_withdrawn_cat\": 15, \"SENDER\": 507.3880366012223}, {\"DEP_CAT\": 700, \"perc_withdrawn_cat\": 15, \"SENDER\": 546.7067676048309}, {\"DEP_CAT\": 650, \"perc_withdrawn_cat\": 15, \"SENDER\": 267.32975959450846}, {\"DEP_CAT\": 600, \"perc_withdrawn_cat\": 15, \"SENDER\": 208.19938927058078}, {\"DEP_CAT\": 550, \"perc_withdrawn_cat\": 15, \"SENDER\": 426.4109357848487}, {\"DEP_CAT\": 500, \"perc_withdrawn_cat\": 15, \"SENDER\": 56.22393361102329}, {\"DEP_CAT\": 450, \"perc_withdrawn_cat\": 15, \"SENDER\": 907.6615251710913}, {\"DEP_CAT\": 400, \"perc_withdrawn_cat\": 15, \"SENDER\": 261.82879144341354}, {\"DEP_CAT\": 350, \"perc_withdrawn_cat\": 15, \"SENDER\": 417.43208281366304}, {\"DEP_CAT\": 300, \"perc_withdrawn_cat\": 15, \"SENDER\": 184.7381486215951}, {\"DEP_CAT\": 250, \"perc_withdrawn_cat\": 15, \"SENDER\": 727.4358748086287}, {\"DEP_CAT\": 200, \"perc_withdrawn_cat\": 15, \"SENDER\": 816.9233484104928}, {\"DEP_CAT\": 150, \"perc_withdrawn_cat\": 15, \"SENDER\": 144.42292199243045}, {\"DEP_CAT\": 100, \"perc_withdrawn_cat\": 15, \"SENDER\": 929.9108929596598}, {\"DEP_CAT\": 50, \"perc_withdrawn_cat\": 15, \"SENDER\": 104.53775327125037}, {\"DEP_CAT\": 0, \"perc_withdrawn_cat\": 15, \"SENDER\": 102.46434554920425}, {\"DEP_CAT\": 950, \"perc_withdrawn_cat\": 20, \"SENDER\": 717.3388283773371}, {\"DEP_CAT\": 900, \"perc_withdrawn_cat\": 20, \"SENDER\": 102.208940431896}, {\"DEP_CAT\": 850, \"perc_withdrawn_cat\": 20, \"SENDER\": 363.8209973537818}, {\"DEP_CAT\": 800, \"perc_withdrawn_cat\": 20, \"SENDER\": 123.53124077999922}, {\"DEP_CAT\": 750, \"perc_withdrawn_cat\": 20, \"SENDER\": 117.57097450311494}, {\"DEP_CAT\": 700, \"perc_withdrawn_cat\": 20, \"SENDER\": 938.754791503189}, {\"DEP_CAT\": 650, \"perc_withdrawn_cat\": 20, \"SENDER\": 984.9027629934753}, {\"DEP_CAT\": 600, \"perc_withdrawn_cat\": 20, \"SENDER\": 510.1823034389281}, {\"DEP_CAT\": 550, \"perc_withdrawn_cat\": 20, \"SENDER\": 361.31897233958165}, {\"DEP_CAT\": 500, \"perc_withdrawn_cat\": 20, \"SENDER\": 685.8178019779192}, {\"DEP_CAT\": 450, \"perc_withdrawn_cat\": 20, \"SENDER\": 10.682047765381952}, {\"DEP_CAT\": 400, \"perc_withdrawn_cat\": 20, \"SENDER\": 454.84301280858494}, {\"DEP_CAT\": 350, \"perc_withdrawn_cat\": 20, \"SENDER\": 860.5164927864693}, {\"DEP_CAT\": 300, \"perc_withdrawn_cat\": 20, \"SENDER\": 104.9105896019843}, {\"DEP_CAT\": 250, \"perc_withdrawn_cat\": 20, \"SENDER\": 593.0519793003989}, {\"DEP_CAT\": 200, \"perc_withdrawn_cat\": 20, \"SENDER\": 763.3061031507706}, {\"DEP_CAT\": 150, \"perc_withdrawn_cat\": 20, \"SENDER\": 10.023827795556217}, {\"DEP_CAT\": 100, \"perc_withdrawn_cat\": 20, \"SENDER\": 854.609035226199}, {\"DEP_CAT\": 50, \"perc_withdrawn_cat\": 20, \"SENDER\": 896.3353755827122}, {\"DEP_CAT\": 0, \"perc_withdrawn_cat\": 20, \"SENDER\": 486.91811486192495}, {\"DEP_CAT\": 950, \"perc_withdrawn_cat\": 25, \"SENDER\": 389.11923272510927}, {\"DEP_CAT\": 900, \"perc_withdrawn_cat\": 25, \"SENDER\": 3.474371739767279}, {\"DEP_CAT\": 850, \"perc_withdrawn_cat\": 25, \"SENDER\": 658.2621046641865}, {\"DEP_CAT\": 800, \"perc_withdrawn_cat\": 25, \"SENDER\": 791.1333057148936}, {\"DEP_CAT\": 750, \"perc_withdrawn_cat\": 25, \"SENDER\": 968.1593360298742}, {\"DEP_CAT\": 700, \"perc_withdrawn_cat\": 25, \"SENDER\": 697.1828413267226}, {\"DEP_CAT\": 650, \"perc_withdrawn_cat\": 25, \"SENDER\": 748.6028907572922}, {\"DEP_CAT\": 600, \"perc_withdrawn_cat\": 25, \"SENDER\": 453.72899840338596}, {\"DEP_CAT\": 550, \"perc_withdrawn_cat\": 25, \"SENDER\": 407.1256496207146}, {\"DEP_CAT\": 500, \"perc_withdrawn_cat\": 25, \"SENDER\": 559.7484184991815}, {\"DEP_CAT\": 450, \"perc_withdrawn_cat\": 25, \"SENDER\": 738.6197835154861}, {\"DEP_CAT\": 400, \"perc_withdrawn_cat\": 25, \"SENDER\": 940.5551993317528}, {\"DEP_CAT\": 350, \"perc_withdrawn_cat\": 25, \"SENDER\": 456.5406786098659}, {\"DEP_CAT\": 300, \"perc_withdrawn_cat\": 25, \"SENDER\": 190.40836098043246}, {\"DEP_CAT\": 250, \"perc_withdrawn_cat\": 25, \"SENDER\": 240.3224793624732}, {\"DEP_CAT\": 200, \"perc_withdrawn_cat\": 25, \"SENDER\": 66.64381223947136}, {\"DEP_CAT\": 150, \"perc_withdrawn_cat\": 25, \"SENDER\": 218.50986461119226}, {\"DEP_CAT\": 100, \"perc_withdrawn_cat\": 25, \"SENDER\": 234.71999930472643}, {\"DEP_CAT\": 50, \"perc_withdrawn_cat\": 25, \"SENDER\": 570.7374517569986}, {\"DEP_CAT\": 0, \"perc_withdrawn_cat\": 25, \"SENDER\": 525.7077514398923}, {\"DEP_CAT\": 950, \"perc_withdrawn_cat\": 30, \"SENDER\": 926.892674213176}, {\"DEP_CAT\": 900, \"perc_withdrawn_cat\": 30, \"SENDER\": 586.2341185612883}, {\"DEP_CAT\": 850, \"perc_withdrawn_cat\": 30, \"SENDER\": 611.7163536722427}, {\"DEP_CAT\": 800, \"perc_withdrawn_cat\": 30, \"SENDER\": 886.8962153508263}, {\"DEP_CAT\": 750, \"perc_withdrawn_cat\": 30, \"SENDER\": 558.9534602816889}, {\"DEP_CAT\": 700, \"perc_withdrawn_cat\": 30, \"SENDER\": 180.32782109632484}, {\"DEP_CAT\": 650, \"perc_withdrawn_cat\": 30, \"SENDER\": 68.26512271491458}, {\"DEP_CAT\": 600, \"perc_withdrawn_cat\": 30, \"SENDER\": 590.995591375736}, {\"DEP_CAT\": 550, \"perc_withdrawn_cat\": 30, \"SENDER\": 247.98986671212054}, {\"DEP_CAT\": 500, \"perc_withdrawn_cat\": 30, \"SENDER\": 731.9616091200193}, {\"DEP_CAT\": 450, \"perc_withdrawn_cat\": 30, \"SENDER\": 617.2269937012059}, {\"DEP_CAT\": 400, \"perc_withdrawn_cat\": 30, \"SENDER\": 612.7481596661677}, {\"DEP_CAT\": 350, \"perc_withdrawn_cat\": 30, \"SENDER\": 202.95893787862207}, {\"DEP_CAT\": 300, \"perc_withdrawn_cat\": 30, \"SENDER\": 904.3276140596712}, {\"DEP_CAT\": 250, \"perc_withdrawn_cat\": 30, \"SENDER\": 305.94192764773976}, {\"DEP_CAT\": 200, \"perc_withdrawn_cat\": 30, \"SENDER\": 167.75171045061543}, {\"DEP_CAT\": 150, \"perc_withdrawn_cat\": 30, \"SENDER\": 28.84469380605581}, {\"DEP_CAT\": 100, \"perc_withdrawn_cat\": 30, \"SENDER\": 40.96363867276942}, {\"DEP_CAT\": 50, \"perc_withdrawn_cat\": 30, \"SENDER\": 249.037903831293}, {\"DEP_CAT\": 0, \"perc_withdrawn_cat\": 30, \"SENDER\": 275.85958398774045}, {\"DEP_CAT\": 950, \"perc_withdrawn_cat\": 35, \"SENDER\": 969.7504559420823}, {\"DEP_CAT\": 900, \"perc_withdrawn_cat\": 35, \"SENDER\": 364.8096106344074}, {\"DEP_CAT\": 850, \"perc_withdrawn_cat\": 35, \"SENDER\": 869.3426506212663}, {\"DEP_CAT\": 800, \"perc_withdrawn_cat\": 35, \"SENDER\": 154.2525179716877}, {\"DEP_CAT\": 750, \"perc_withdrawn_cat\": 35, \"SENDER\": 141.46250990696885}, {\"DEP_CAT\": 700, \"perc_withdrawn_cat\": 35, \"SENDER\": 101.39690031048765}, {\"DEP_CAT\": 650, \"perc_withdrawn_cat\": 35, \"SENDER\": 991.2744172093401}, {\"DEP_CAT\": 600, \"perc_withdrawn_cat\": 35, \"SENDER\": 699.1714480904993}, {\"DEP_CAT\": 550, \"perc_withdrawn_cat\": 35, \"SENDER\": 943.5959838036506}, {\"DEP_CAT\": 500, \"perc_withdrawn_cat\": 35, \"SENDER\": 268.95211708410784}, {\"DEP_CAT\": 450, \"perc_withdrawn_cat\": 35, \"SENDER\": 272.72430536261373}, {\"DEP_CAT\": 400, \"perc_withdrawn_cat\": 35, \"SENDER\": 735.1242397127252}, {\"DEP_CAT\": 350, \"perc_withdrawn_cat\": 35, \"SENDER\": 206.70556885768542}, {\"DEP_CAT\": 300, \"perc_withdrawn_cat\": 35, \"SENDER\": 524.1983106601197}, {\"DEP_CAT\": 250, \"perc_withdrawn_cat\": 35, \"SENDER\": 199.68991917304356}, {\"DEP_CAT\": 200, \"perc_withdrawn_cat\": 35, \"SENDER\": 836.2838181008101}, {\"DEP_CAT\": 150, \"perc_withdrawn_cat\": 35, \"SENDER\": 312.2816203498989}, {\"DEP_CAT\": 100, \"perc_withdrawn_cat\": 35, \"SENDER\": 312.17993231690446}, {\"DEP_CAT\": 50, \"perc_withdrawn_cat\": 35, \"SENDER\": 496.8662849780049}, {\"DEP_CAT\": 0, \"perc_withdrawn_cat\": 35, \"SENDER\": 607.7263338223694}, {\"DEP_CAT\": 950, \"perc_withdrawn_cat\": 40, \"SENDER\": 455.28953452162534}, {\"DEP_CAT\": 900, \"perc_withdrawn_cat\": 40, \"SENDER\": 696.1986383210412}, {\"DEP_CAT\": 850, \"perc_withdrawn_cat\": 40, \"SENDER\": 231.60745491175638}, {\"DEP_CAT\": 800, \"perc_withdrawn_cat\": 40, \"SENDER\": 681.58399222824}, {\"DEP_CAT\": 750, \"perc_withdrawn_cat\": 40, \"SENDER\": 785.6677778239439}, {\"DEP_CAT\": 700, \"perc_withdrawn_cat\": 40, \"SENDER\": 963.5660190761673}, {\"DEP_CAT\": 650, \"perc_withdrawn_cat\": 40, \"SENDER\": 293.6425257247375}, {\"DEP_CAT\": 600, \"perc_withdrawn_cat\": 40, \"SENDER\": 638.8728883446115}, {\"DEP_CAT\": 550, \"perc_withdrawn_cat\": 40, \"SENDER\": 626.4816621666995}, {\"DEP_CAT\": 500, \"perc_withdrawn_cat\": 40, \"SENDER\": 581.3913491448228}, {\"DEP_CAT\": 450, \"perc_withdrawn_cat\": 40, \"SENDER\": 15.329296260777724}, {\"DEP_CAT\": 400, \"perc_withdrawn_cat\": 40, \"SENDER\": 336.9327702599203}, {\"DEP_CAT\": 350, \"perc_withdrawn_cat\": 40, \"SENDER\": 318.04886133635733}, {\"DEP_CAT\": 300, \"perc_withdrawn_cat\": 40, \"SENDER\": 119.14061574520274}, {\"DEP_CAT\": 250, \"perc_withdrawn_cat\": 40, \"SENDER\": 647.6511858937264}, {\"DEP_CAT\": 200, \"perc_withdrawn_cat\": 40, \"SENDER\": 969.5761509153797}, {\"DEP_CAT\": 150, \"perc_withdrawn_cat\": 40, \"SENDER\": 297.63384171466635}, {\"DEP_CAT\": 100, \"perc_withdrawn_cat\": 40, \"SENDER\": 662.2923174895972}, {\"DEP_CAT\": 50, \"perc_withdrawn_cat\": 40, \"SENDER\": 59.47945339682747}, {\"DEP_CAT\": 0, \"perc_withdrawn_cat\": 40, \"SENDER\": 85.17397616811651}, {\"DEP_CAT\": 950, \"perc_withdrawn_cat\": 45, \"SENDER\": 118.35608940971676}, {\"DEP_CAT\": 900, \"perc_withdrawn_cat\": 45, \"SENDER\": 63.07589117601853}, {\"DEP_CAT\": 850, \"perc_withdrawn_cat\": 45, \"SENDER\": 306.1371979482337}, {\"DEP_CAT\": 800, \"perc_withdrawn_cat\": 45, \"SENDER\": 381.2926267679644}, {\"DEP_CAT\": 750, \"perc_withdrawn_cat\": 45, \"SENDER\": 252.69674997668935}, {\"DEP_CAT\": 700, \"perc_withdrawn_cat\": 45, \"SENDER\": 653.6855257835492}, {\"DEP_CAT\": 650, \"perc_withdrawn_cat\": 45, \"SENDER\": 125.64100363341967}, {\"DEP_CAT\": 600, \"perc_withdrawn_cat\": 45, \"SENDER\": 883.1317847292071}, {\"DEP_CAT\": 550, \"perc_withdrawn_cat\": 45, \"SENDER\": 564.831114173298}, {\"DEP_CAT\": 500, \"perc_withdrawn_cat\": 45, \"SENDER\": 998.7076258778336}, {\"DEP_CAT\": 450, \"perc_withdrawn_cat\": 45, \"SENDER\": 519.3336524567056}, {\"DEP_CAT\": 400, \"perc_withdrawn_cat\": 45, \"SENDER\": 692.4873140054148}, {\"DEP_CAT\": 350, \"perc_withdrawn_cat\": 45, \"SENDER\": 52.31891768303687}, {\"DEP_CAT\": 300, \"perc_withdrawn_cat\": 45, \"SENDER\": 238.72423138028088}, {\"DEP_CAT\": 250, \"perc_withdrawn_cat\": 45, \"SENDER\": 590.5452898882473}, {\"DEP_CAT\": 200, \"perc_withdrawn_cat\": 45, \"SENDER\": 657.940652455248}, {\"DEP_CAT\": 150, \"perc_withdrawn_cat\": 45, \"SENDER\": 31.478105997810314}, {\"DEP_CAT\": 100, \"perc_withdrawn_cat\": 45, \"SENDER\": 468.69862210104696}, {\"DEP_CAT\": 50, \"perc_withdrawn_cat\": 45, \"SENDER\": 346.5654589011441}, {\"DEP_CAT\": 0, \"perc_withdrawn_cat\": 45, \"SENDER\": 801.0386704641991}, {\"DEP_CAT\": 950, \"perc_withdrawn_cat\": 50, \"SENDER\": 218.16761972585397}, {\"DEP_CAT\": 900, \"perc_withdrawn_cat\": 50, \"SENDER\": 353.22501307452904}, {\"DEP_CAT\": 850, \"perc_withdrawn_cat\": 50, \"SENDER\": 288.99807191129355}, {\"DEP_CAT\": 800, \"perc_withdrawn_cat\": 50, \"SENDER\": 665.9661829178351}, {\"DEP_CAT\": 750, \"perc_withdrawn_cat\": 50, \"SENDER\": 109.9180077927342}, {\"DEP_CAT\": 700, \"perc_withdrawn_cat\": 50, \"SENDER\": 592.3215438864651}, {\"DEP_CAT\": 650, \"perc_withdrawn_cat\": 50, \"SENDER\": 55.573791846836976}, {\"DEP_CAT\": 600, \"perc_withdrawn_cat\": 50, \"SENDER\": 860.5698401871628}, {\"DEP_CAT\": 550, \"perc_withdrawn_cat\": 50, \"SENDER\": 152.5976554053563}, {\"DEP_CAT\": 500, \"perc_withdrawn_cat\": 50, \"SENDER\": 389.65488455954636}, {\"DEP_CAT\": 450, \"perc_withdrawn_cat\": 50, \"SENDER\": 855.0522306287467}, {\"DEP_CAT\": 400, \"perc_withdrawn_cat\": 50, \"SENDER\": 453.0529384006757}, {\"DEP_CAT\": 350, \"perc_withdrawn_cat\": 50, \"SENDER\": 898.0034962418376}, {\"DEP_CAT\": 300, \"perc_withdrawn_cat\": 50, \"SENDER\": 543.472785865742}, {\"DEP_CAT\": 250, \"perc_withdrawn_cat\": 50, \"SENDER\": 676.4129109988099}, {\"DEP_CAT\": 200, \"perc_withdrawn_cat\": 50, \"SENDER\": 328.3943547062868}, {\"DEP_CAT\": 150, \"perc_withdrawn_cat\": 50, \"SENDER\": 857.5963234072726}, {\"DEP_CAT\": 100, \"perc_withdrawn_cat\": 50, \"SENDER\": 120.90486240262499}, {\"DEP_CAT\": 50, \"perc_withdrawn_cat\": 50, \"SENDER\": 928.8898962600352}, {\"DEP_CAT\": 0, \"perc_withdrawn_cat\": 50, \"SENDER\": 230.6092951395431}, {\"DEP_CAT\": 950, \"perc_withdrawn_cat\": 55, \"SENDER\": 250.68680270751676}, {\"DEP_CAT\": 900, \"perc_withdrawn_cat\": 55, \"SENDER\": 206.05129677223488}, {\"DEP_CAT\": 850, \"perc_withdrawn_cat\": 55, \"SENDER\": 404.0047725870598}, {\"DEP_CAT\": 800, \"perc_withdrawn_cat\": 55, \"SENDER\": 992.4750801609174}, {\"DEP_CAT\": 750, \"perc_withdrawn_cat\": 55, \"SENDER\": 733.8982373543339}, {\"DEP_CAT\": 700, \"perc_withdrawn_cat\": 55, \"SENDER\": 979.7960664444064}, {\"DEP_CAT\": 650, \"perc_withdrawn_cat\": 55, \"SENDER\": 637.9884987714604}, {\"DEP_CAT\": 600, \"perc_withdrawn_cat\": 55, \"SENDER\": 321.22227286913585}, {\"DEP_CAT\": 550, \"perc_withdrawn_cat\": 55, \"SENDER\": 316.5726163857717}, {\"DEP_CAT\": 500, \"perc_withdrawn_cat\": 55, \"SENDER\": 765.5377184611696}, {\"DEP_CAT\": 450, \"perc_withdrawn_cat\": 55, \"SENDER\": 662.4040407685654}, {\"DEP_CAT\": 400, \"perc_withdrawn_cat\": 55, \"SENDER\": 342.31460716856145}, {\"DEP_CAT\": 350, \"perc_withdrawn_cat\": 55, \"SENDER\": 775.3847159445992}, {\"DEP_CAT\": 300, \"perc_withdrawn_cat\": 55, \"SENDER\": 136.33541383528348}, {\"DEP_CAT\": 250, \"perc_withdrawn_cat\": 55, \"SENDER\": 833.1498717849831}, {\"DEP_CAT\": 200, \"perc_withdrawn_cat\": 55, \"SENDER\": 528.3966343807206}, {\"DEP_CAT\": 150, \"perc_withdrawn_cat\": 55, \"SENDER\": 607.3984824569375}, {\"DEP_CAT\": 100, \"perc_withdrawn_cat\": 55, \"SENDER\": 437.2834448745073}, {\"DEP_CAT\": 50, \"perc_withdrawn_cat\": 55, \"SENDER\": 720.0443512372152}, {\"DEP_CAT\": 0, \"perc_withdrawn_cat\": 55, \"SENDER\": 598.9388124468961}, {\"DEP_CAT\": 950, \"perc_withdrawn_cat\": 60, \"SENDER\": 866.5079288192269}, {\"DEP_CAT\": 900, \"perc_withdrawn_cat\": 60, \"SENDER\": 222.00938329421106}, {\"DEP_CAT\": 850, \"perc_withdrawn_cat\": 60, \"SENDER\": 364.22089606793753}, {\"DEP_CAT\": 800, \"perc_withdrawn_cat\": 60, \"SENDER\": 744.0008165131873}, {\"DEP_CAT\": 750, \"perc_withdrawn_cat\": 60, \"SENDER\": 681.3731210378941}, {\"DEP_CAT\": 700, \"perc_withdrawn_cat\": 60, \"SENDER\": 584.4455586925121}, {\"DEP_CAT\": 650, \"perc_withdrawn_cat\": 60, \"SENDER\": 902.910088310979}, {\"DEP_CAT\": 600, \"perc_withdrawn_cat\": 60, \"SENDER\": 712.1882850511325}, {\"DEP_CAT\": 550, \"perc_withdrawn_cat\": 60, \"SENDER\": 355.6445702115448}, {\"DEP_CAT\": 500, \"perc_withdrawn_cat\": 60, \"SENDER\": 957.0108120782176}, {\"DEP_CAT\": 450, \"perc_withdrawn_cat\": 60, \"SENDER\": 149.39961170963812}, {\"DEP_CAT\": 400, \"perc_withdrawn_cat\": 60, \"SENDER\": 317.00555986669974}, {\"DEP_CAT\": 350, \"perc_withdrawn_cat\": 60, \"SENDER\": 927.282016715932}, {\"DEP_CAT\": 300, \"perc_withdrawn_cat\": 60, \"SENDER\": 836.1173861923642}, {\"DEP_CAT\": 250, \"perc_withdrawn_cat\": 60, \"SENDER\": 405.5099537289363}, {\"DEP_CAT\": 200, \"perc_withdrawn_cat\": 60, \"SENDER\": 765.4221352560464}, {\"DEP_CAT\": 150, \"perc_withdrawn_cat\": 60, \"SENDER\": 592.5028070727101}, {\"DEP_CAT\": 100, \"perc_withdrawn_cat\": 60, \"SENDER\": 91.67912832972358}, {\"DEP_CAT\": 50, \"perc_withdrawn_cat\": 60, \"SENDER\": 54.03414510732285}, {\"DEP_CAT\": 0, \"perc_withdrawn_cat\": 60, \"SENDER\": 458.89383168526666}, {\"DEP_CAT\": 950, \"perc_withdrawn_cat\": 65, \"SENDER\": 461.51071045152713}, {\"DEP_CAT\": 900, \"perc_withdrawn_cat\": 65, \"SENDER\": 477.6256924323332}, {\"DEP_CAT\": 850, \"perc_withdrawn_cat\": 65, \"SENDER\": 833.680447031798}, {\"DEP_CAT\": 800, \"perc_withdrawn_cat\": 65, \"SENDER\": 507.0088281014189}, {\"DEP_CAT\": 750, \"perc_withdrawn_cat\": 65, \"SENDER\": 618.6766985065435}, {\"DEP_CAT\": 700, \"perc_withdrawn_cat\": 65, \"SENDER\": 914.0031327077884}, {\"DEP_CAT\": 650, \"perc_withdrawn_cat\": 65, \"SENDER\": 237.87195760178682}, {\"DEP_CAT\": 600, \"perc_withdrawn_cat\": 65, \"SENDER\": 503.60995530649564}, {\"DEP_CAT\": 550, \"perc_withdrawn_cat\": 65, \"SENDER\": 864.5204184469122}, {\"DEP_CAT\": 500, \"perc_withdrawn_cat\": 65, \"SENDER\": 5.226917359161032}, {\"DEP_CAT\": 450, \"perc_withdrawn_cat\": 65, \"SENDER\": 15.804245739992172}, {\"DEP_CAT\": 400, \"perc_withdrawn_cat\": 65, \"SENDER\": 746.7433293798024}, {\"DEP_CAT\": 350, \"perc_withdrawn_cat\": 65, \"SENDER\": 554.8743420240096}, {\"DEP_CAT\": 300, \"perc_withdrawn_cat\": 65, \"SENDER\": 408.6721233895674}, {\"DEP_CAT\": 250, \"perc_withdrawn_cat\": 65, \"SENDER\": 663.269381245941}, {\"DEP_CAT\": 200, \"perc_withdrawn_cat\": 65, \"SENDER\": 582.8968782361732}, {\"DEP_CAT\": 150, \"perc_withdrawn_cat\": 65, \"SENDER\": 376.6316814127407}, {\"DEP_CAT\": 100, \"perc_withdrawn_cat\": 65, \"SENDER\": 831.3334854282851}, {\"DEP_CAT\": 50, \"perc_withdrawn_cat\": 65, \"SENDER\": 585.3097018639183}, {\"DEP_CAT\": 0, \"perc_withdrawn_cat\": 65, \"SENDER\": 562.7954786214577}, {\"DEP_CAT\": 950, \"perc_withdrawn_cat\": 70, \"SENDER\": 722.6562044061959}, {\"DEP_CAT\": 900, \"perc_withdrawn_cat\": 70, \"SENDER\": 825.0235189068687}, {\"DEP_CAT\": 850, \"perc_withdrawn_cat\": 70, \"SENDER\": 280.57357033149367}, {\"DEP_CAT\": 800, \"perc_withdrawn_cat\": 70, \"SENDER\": 573.4401197608738}, {\"DEP_CAT\": 750, \"perc_withdrawn_cat\": 70, \"SENDER\": 650.7535345243653}, {\"DEP_CAT\": 700, \"perc_withdrawn_cat\": 70, \"SENDER\": 995.6226458750023}, {\"DEP_CAT\": 650, \"perc_withdrawn_cat\": 70, \"SENDER\": 24.476832317963492}, {\"DEP_CAT\": 600, \"perc_withdrawn_cat\": 70, \"SENDER\": 345.0847781300237}, {\"DEP_CAT\": 550, \"perc_withdrawn_cat\": 70, \"SENDER\": 646.148669142229}, {\"DEP_CAT\": 500, \"perc_withdrawn_cat\": 70, \"SENDER\": 303.967469207385}, {\"DEP_CAT\": 450, \"perc_withdrawn_cat\": 70, \"SENDER\": 266.033335811639}, {\"DEP_CAT\": 400, \"perc_withdrawn_cat\": 70, \"SENDER\": 769.1722337861252}, {\"DEP_CAT\": 350, \"perc_withdrawn_cat\": 70, \"SENDER\": 264.5026730116589}, {\"DEP_CAT\": 300, \"perc_withdrawn_cat\": 70, \"SENDER\": 996.0609169862778}, {\"DEP_CAT\": 250, \"perc_withdrawn_cat\": 70, \"SENDER\": 809.5540614738543}, {\"DEP_CAT\": 200, \"perc_withdrawn_cat\": 70, \"SENDER\": 910.0185595507543}, {\"DEP_CAT\": 150, \"perc_withdrawn_cat\": 70, \"SENDER\": 980.5560893858805}, {\"DEP_CAT\": 100, \"perc_withdrawn_cat\": 70, \"SENDER\": 739.811326021033}, {\"DEP_CAT\": 50, \"perc_withdrawn_cat\": 70, \"SENDER\": 23.316373293778337}, {\"DEP_CAT\": 0, \"perc_withdrawn_cat\": 70, \"SENDER\": 454.19740882297566}, {\"DEP_CAT\": 950, \"perc_withdrawn_cat\": 75, \"SENDER\": 825.7135155220917}, {\"DEP_CAT\": 900, \"perc_withdrawn_cat\": 75, \"SENDER\": 792.4589941088612}, {\"DEP_CAT\": 850, \"perc_withdrawn_cat\": 75, \"SENDER\": 846.6982340218626}, {\"DEP_CAT\": 800, \"perc_withdrawn_cat\": 75, \"SENDER\": 49.12138357011342}, {\"DEP_CAT\": 750, \"perc_withdrawn_cat\": 75, \"SENDER\": 607.6345084476183}, {\"DEP_CAT\": 700, \"perc_withdrawn_cat\": 75, \"SENDER\": 586.5674703667006}, {\"DEP_CAT\": 650, \"perc_withdrawn_cat\": 75, \"SENDER\": 94.5750591236939}, {\"DEP_CAT\": 600, \"perc_withdrawn_cat\": 75, \"SENDER\": 90.19834700979334}, {\"DEP_CAT\": 550, \"perc_withdrawn_cat\": 75, \"SENDER\": 511.8728136234676}, {\"DEP_CAT\": 500, \"perc_withdrawn_cat\": 75, \"SENDER\": 117.87309585504013}, {\"DEP_CAT\": 450, \"perc_withdrawn_cat\": 75, \"SENDER\": 979.4407288653325}, {\"DEP_CAT\": 400, \"perc_withdrawn_cat\": 75, \"SENDER\": 674.0216050173275}, {\"DEP_CAT\": 350, \"perc_withdrawn_cat\": 75, \"SENDER\": 542.0697780422994}, {\"DEP_CAT\": 300, \"perc_withdrawn_cat\": 75, \"SENDER\": 624.1197783394948}, {\"DEP_CAT\": 250, \"perc_withdrawn_cat\": 75, \"SENDER\": 43.49850515364917}, {\"DEP_CAT\": 200, \"perc_withdrawn_cat\": 75, \"SENDER\": 37.851788487107015}, {\"DEP_CAT\": 150, \"perc_withdrawn_cat\": 75, \"SENDER\": 736.3070432450996}, {\"DEP_CAT\": 100, \"perc_withdrawn_cat\": 75, \"SENDER\": 139.56573570460097}, {\"DEP_CAT\": 50, \"perc_withdrawn_cat\": 75, \"SENDER\": 901.3661811894665}, {\"DEP_CAT\": 0, \"perc_withdrawn_cat\": 75, \"SENDER\": 91.50347810448056}, {\"DEP_CAT\": 950, \"perc_withdrawn_cat\": 80, \"SENDER\": 774.5715939224299}, {\"DEP_CAT\": 900, \"perc_withdrawn_cat\": 80, \"SENDER\": 579.0350808650071}, {\"DEP_CAT\": 850, \"perc_withdrawn_cat\": 80, \"SENDER\": 277.89161687228835}, {\"DEP_CAT\": 800, \"perc_withdrawn_cat\": 80, \"SENDER\": 452.3812356715205}, {\"DEP_CAT\": 750, \"perc_withdrawn_cat\": 80, \"SENDER\": 453.9054606917272}, {\"DEP_CAT\": 700, \"perc_withdrawn_cat\": 80, \"SENDER\": 820.4715337157772}, {\"DEP_CAT\": 650, \"perc_withdrawn_cat\": 80, \"SENDER\": 718.5139024266505}, {\"DEP_CAT\": 600, \"perc_withdrawn_cat\": 80, \"SENDER\": 563.647573853465}, {\"DEP_CAT\": 550, \"perc_withdrawn_cat\": 80, \"SENDER\": 324.85163224142985}, {\"DEP_CAT\": 500, \"perc_withdrawn_cat\": 80, \"SENDER\": 117.65971684117326}, {\"DEP_CAT\": 450, \"perc_withdrawn_cat\": 80, \"SENDER\": 699.053402220175}, {\"DEP_CAT\": 400, \"perc_withdrawn_cat\": 80, \"SENDER\": 272.7916174194268}, {\"DEP_CAT\": 350, \"perc_withdrawn_cat\": 80, \"SENDER\": 754.893575612182}, {\"DEP_CAT\": 300, \"perc_withdrawn_cat\": 80, \"SENDER\": 999.0119300452218}, {\"DEP_CAT\": 250, \"perc_withdrawn_cat\": 80, \"SENDER\": 715.2220110510134}, {\"DEP_CAT\": 200, \"perc_withdrawn_cat\": 80, \"SENDER\": 252.21780559832996}, {\"DEP_CAT\": 150, \"perc_withdrawn_cat\": 80, \"SENDER\": 744.9877037023771}, {\"DEP_CAT\": 100, \"perc_withdrawn_cat\": 80, \"SENDER\": 802.1589358050445}, {\"DEP_CAT\": 50, \"perc_withdrawn_cat\": 80, \"SENDER\": 335.7882858714433}, {\"DEP_CAT\": 0, \"perc_withdrawn_cat\": 80, \"SENDER\": 36.6128404773729}, {\"DEP_CAT\": 950, \"perc_withdrawn_cat\": 85, \"SENDER\": 802.5394724701059}, {\"DEP_CAT\": 900, \"perc_withdrawn_cat\": 85, \"SENDER\": 737.403847526299}, {\"DEP_CAT\": 850, \"perc_withdrawn_cat\": 85, \"SENDER\": 789.2575897589611}, {\"DEP_CAT\": 800, \"perc_withdrawn_cat\": 85, \"SENDER\": 683.1316491337262}, {\"DEP_CAT\": 750, \"perc_withdrawn_cat\": 85, \"SENDER\": 232.02371248460685}, {\"DEP_CAT\": 700, \"perc_withdrawn_cat\": 85, \"SENDER\": 703.4734122386965}, {\"DEP_CAT\": 650, \"perc_withdrawn_cat\": 85, \"SENDER\": 853.2818820284149}, {\"DEP_CAT\": 600, \"perc_withdrawn_cat\": 85, \"SENDER\": 604.9435368653507}, {\"DEP_CAT\": 550, \"perc_withdrawn_cat\": 85, \"SENDER\": 833.8406722901942}, {\"DEP_CAT\": 500, \"perc_withdrawn_cat\": 85, \"SENDER\": 588.2221009408014}, {\"DEP_CAT\": 450, \"perc_withdrawn_cat\": 85, \"SENDER\": 515.4447794192988}, {\"DEP_CAT\": 400, \"perc_withdrawn_cat\": 85, \"SENDER\": 538.4197687889252}, {\"DEP_CAT\": 350, \"perc_withdrawn_cat\": 85, \"SENDER\": 428.5426324878605}, {\"DEP_CAT\": 300, \"perc_withdrawn_cat\": 85, \"SENDER\": 383.52007666753383}, {\"DEP_CAT\": 250, \"perc_withdrawn_cat\": 85, \"SENDER\": 878.6964853929604}, {\"DEP_CAT\": 200, \"perc_withdrawn_cat\": 85, \"SENDER\": 548.8789900563571}, {\"DEP_CAT\": 150, \"perc_withdrawn_cat\": 85, \"SENDER\": 920.8211819083139}, {\"DEP_CAT\": 100, \"perc_withdrawn_cat\": 85, \"SENDER\": 192.30845064431568}, {\"DEP_CAT\": 50, \"perc_withdrawn_cat\": 85, \"SENDER\": 256.79053435350363}, {\"DEP_CAT\": 0, \"perc_withdrawn_cat\": 85, \"SENDER\": 728.2653604706003}, {\"DEP_CAT\": 950, \"perc_withdrawn_cat\": 90, \"SENDER\": 406.5711509826576}, {\"DEP_CAT\": 900, \"perc_withdrawn_cat\": 90, \"SENDER\": 166.92452858180263}, {\"DEP_CAT\": 850, \"perc_withdrawn_cat\": 90, \"SENDER\": 308.80769359345396}, {\"DEP_CAT\": 800, \"perc_withdrawn_cat\": 90, \"SENDER\": 898.5218498081931}, {\"DEP_CAT\": 750, \"perc_withdrawn_cat\": 90, \"SENDER\": 230.96153911238193}, {\"DEP_CAT\": 700, \"perc_withdrawn_cat\": 90, \"SENDER\": 260.2874033638058}, {\"DEP_CAT\": 650, \"perc_withdrawn_cat\": 90, \"SENDER\": 875.5484936863907}, {\"DEP_CAT\": 600, \"perc_withdrawn_cat\": 90, \"SENDER\": 668.2558144994082}, {\"DEP_CAT\": 550, \"perc_withdrawn_cat\": 90, \"SENDER\": 849.6222872707315}, {\"DEP_CAT\": 500, \"perc_withdrawn_cat\": 90, \"SENDER\": 699.167809044542}, {\"DEP_CAT\": 450, \"perc_withdrawn_cat\": 90, \"SENDER\": 411.11281703240485}, {\"DEP_CAT\": 400, \"perc_withdrawn_cat\": 90, \"SENDER\": 559.372237057091}, {\"DEP_CAT\": 350, \"perc_withdrawn_cat\": 90, \"SENDER\": 32.33962154388226}, {\"DEP_CAT\": 300, \"perc_withdrawn_cat\": 90, \"SENDER\": 844.5260524860323}, {\"DEP_CAT\": 250, \"perc_withdrawn_cat\": 90, \"SENDER\": 640.9275034158169}, {\"DEP_CAT\": 200, \"perc_withdrawn_cat\": 90, \"SENDER\": 627.8022490257761}, {\"DEP_CAT\": 150, \"perc_withdrawn_cat\": 90, \"SENDER\": 413.83058544736616}, {\"DEP_CAT\": 100, \"perc_withdrawn_cat\": 90, \"SENDER\": 194.6946888570884}, {\"DEP_CAT\": 50, \"perc_withdrawn_cat\": 90, \"SENDER\": 464.066447626463}, {\"DEP_CAT\": 0, \"perc_withdrawn_cat\": 90, \"SENDER\": 168.45479891556013}, {\"DEP_CAT\": 950, \"perc_withdrawn_cat\": 95, \"SENDER\": 616.0015949800418}, {\"DEP_CAT\": 900, \"perc_withdrawn_cat\": 95, \"SENDER\": 895.8897166541892}, {\"DEP_CAT\": 850, \"perc_withdrawn_cat\": 95, \"SENDER\": 251.3268147287192}, {\"DEP_CAT\": 800, \"perc_withdrawn_cat\": 95, \"SENDER\": 835.9565041458113}, {\"DEP_CAT\": 750, \"perc_withdrawn_cat\": 95, \"SENDER\": 737.4830010707288}, {\"DEP_CAT\": 700, \"perc_withdrawn_cat\": 95, \"SENDER\": 334.6098069357305}, {\"DEP_CAT\": 650, \"perc_withdrawn_cat\": 95, \"SENDER\": 808.3746475600534}, {\"DEP_CAT\": 600, \"perc_withdrawn_cat\": 95, \"SENDER\": 474.5770074377866}, {\"DEP_CAT\": 550, \"perc_withdrawn_cat\": 95, \"SENDER\": 788.5690060013604}, {\"DEP_CAT\": 500, \"perc_withdrawn_cat\": 95, \"SENDER\": 623.2075748230238}, {\"DEP_CAT\": 450, \"perc_withdrawn_cat\": 95, \"SENDER\": 112.09229676023624}, {\"DEP_CAT\": 400, \"perc_withdrawn_cat\": 95, \"SENDER\": 40.52023148424588}, {\"DEP_CAT\": 350, \"perc_withdrawn_cat\": 95, \"SENDER\": 906.7637361573579}, {\"DEP_CAT\": 300, \"perc_withdrawn_cat\": 95, \"SENDER\": 562.3706256473783}, {\"DEP_CAT\": 250, \"perc_withdrawn_cat\": 95, \"SENDER\": 525.994270056362}, {\"DEP_CAT\": 200, \"perc_withdrawn_cat\": 95, \"SENDER\": 227.17088917142624}, {\"DEP_CAT\": 150, \"perc_withdrawn_cat\": 95, \"SENDER\": 797.3412676705029}, {\"DEP_CAT\": 100, \"perc_withdrawn_cat\": 95, \"SENDER\": 934.4811806743752}, {\"DEP_CAT\": 50, \"perc_withdrawn_cat\": 95, \"SENDER\": 143.18297026793957}, {\"DEP_CAT\": 0, \"perc_withdrawn_cat\": 95, \"SENDER\": 626.6140695681231}]}}, {\"theme\": \"dark\", \"mode\": \"vega-lite\"});\n",
       "</script>"
      ],
      "text/plain": [
       "alt.Chart(...)"
      ]
     },
     "execution_count": 96,
     "metadata": {},
     "output_type": "execute_result"
    }
   ],
   "source": [
    "alt.Chart(df).mark_rect().encode(\n",
    "    x=alt.X('perc_withdrawn_cat:O', sort=alt.EncodingSortField(order='ascending')),\n",
    "    y=alt.Y('DEP_CAT:O', sort=alt.EncodingSortField(order='ascending')),\n",
    "    color=alt.Color('SENDER:Q',\n",
    "            scale=alt.Scale(scheme='redpurple')),\n",
    "    tooltip=['perc_withdrawn_cat:O','DEP_CAT:O']\n",
    ")"
   ]
  }
 ],
 "metadata": {
  "kernelspec": {
   "display_name": "Python 3 (ipykernel)",
   "language": "python",
   "name": "python3"
  },
  "language_info": {
   "codemirror_mode": {
    "name": "ipython",
    "version": 3
   },
   "file_extension": ".py",
   "mimetype": "text/x-python",
   "name": "python",
   "nbconvert_exporter": "python",
   "pygments_lexer": "ipython3",
   "version": "3.8.2"
  }
 },
 "nbformat": 4,
 "nbformat_minor": 4
}
