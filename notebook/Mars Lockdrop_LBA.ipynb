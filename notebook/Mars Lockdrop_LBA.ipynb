{
 "cells": [
  {
   "cell_type": "code",
   "execution_count": 254,
   "metadata": {},
   "outputs": [],
   "source": [
    "import pandas as pd\n",
    "import altair as alt\n",
    "from urllib.error import HTTPError"
   ]
  },
  {
   "cell_type": "code",
   "execution_count": 255,
   "metadata": {},
   "outputs": [],
   "source": [
    "def claim(claim_hash, cols_claim, data_claim):\n",
    "    try:\n",
    "        df_claim = pd.read_json(\n",
    "            f\"https://api.flipsidecrypto.com/api/v2/queries/{claim_hash}/data/latest\",\n",
    "            convert_dates=[\"BLOCK_TIMESTAMP\"],\n",
    "        )\n",
    "    except:\n",
    "        return pd.DataFrame(data_claim[claim_hash],columns=cols_claim[claim_hash])\n",
    "    if(len(df_claim.columns)==0):\n",
    "        return pd.DataFrame(data_claim[claim_hash],columns=cols_claim[claim_hash])\n",
    "    return df_claim"
   ]
  },
  {
   "cell_type": "code",
   "execution_count": 256,
   "metadata": {},
   "outputs": [],
   "source": [
    "def get_url(url):\n",
    "    return pd.read_csv(url, index_col=0)"
   ]
  },
  {
   "cell_type": "code",
   "execution_count": 257,
   "metadata": {},
   "outputs": [],
   "source": [
    "user_stats = '1'\n",
    "airdrop_claims = '2'\n",
    "lba_deposits = '3'"
   ]
  },
  {
   "cell_type": "code",
   "execution_count": 258,
   "metadata": {},
   "outputs": [],
   "source": [
    "cols_claim = {\n",
    "    user_stats : ['SENDER', 'DURATION', 'AMOUNT'],\n",
    "    airdrop_claims : ['SENDER','AMOUNT','TIME'],\n",
    "    lba_deposits : ['SENDER','AMOUNT','DENOM','ACTION','TIME']\n",
    "}"
   ]
  },
  {
   "cell_type": "code",
   "execution_count": 307,
   "metadata": {},
   "outputs": [],
   "source": [
    "data_claim = {\n",
    "    user_stats : [['user1_1',3,10],\n",
    "                  ['user1_2',3,3],\n",
    "                  ['user1_3',3,4],\n",
    "                  ['user1_4',3,67],\n",
    "                  ['user1_5',3,33],\n",
    "                 ['user1',9,20],\n",
    "                 ['user1',18,15],\n",
    "                 ['user2',3,10],\n",
    "                 ['user2',6,120],\n",
    "                 ['user2',18,13],\n",
    "                 ['user2',3,10],\n",
    "                 ['user3',6,120],\n",
    "                 ['user3',18,13]],\n",
    "    airdrop_claims :\n",
    "        [\n",
    "            ['user1',300,'2021-09-21T07:00:00Z'],\n",
    "            ['user2',70,'2021-09-21T07:00:00Z'],\n",
    "            ['user3',34,'2021-09-21T07:00:00Z'],\n",
    "            ['user1_1',132,'2021-09-21T07:00:00Z'],\n",
    "            ['user4',132,'2021-09-21T07:00:00Z']\n",
    "        ],\n",
    "    lba_deposits : [['user1_1',20,'MARS','deposit','2021-09-21T08:00:00Z'],\n",
    "                    ['user1_1',50,'UST','deposit','2021-09-21T08:00:00Z'],\n",
    "                    ['user2',70,'MARS','deposit','2021-09-21T08:00:00Z'],\n",
    "                    ['user2',80,'UST','deposit','2021-09-21T08:00:00Z'],\n",
    "                    ['user2',10,'UST','withdraw','2021-09-21T09:00:00Z'],\n",
    "                    ['user1',70,'MARS','deposit','2021-09-21T08:00:00Z'],\n",
    "                    ['user4',132,'MARS','deposit','2021-09-21T09:00:00Z'],\n",
    "                    ['user1_5',132,'MARS','deposit','2021-09-21T09:00:00Z']]}"
   ]
  },
  {
   "cell_type": "markdown",
   "metadata": {},
   "source": [
    "### Data"
   ]
  },
  {
   "cell_type": "markdown",
   "metadata": {},
   "source": [
    "**User stats**"
   ]
  },
  {
   "cell_type": "code",
   "execution_count": 308,
   "metadata": {},
   "outputs": [
    {
     "data": {
      "text/html": [
       "<div>\n",
       "<style scoped>\n",
       "    .dataframe tbody tr th:only-of-type {\n",
       "        vertical-align: middle;\n",
       "    }\n",
       "\n",
       "    .dataframe tbody tr th {\n",
       "        vertical-align: top;\n",
       "    }\n",
       "\n",
       "    .dataframe thead th {\n",
       "        text-align: right;\n",
       "    }\n",
       "</style>\n",
       "<table border=\"1\" class=\"dataframe\">\n",
       "  <thead>\n",
       "    <tr style=\"text-align: right;\">\n",
       "      <th></th>\n",
       "      <th>sender</th>\n",
       "      <th>duration</th>\n",
       "      <th>amount</th>\n",
       "    </tr>\n",
       "  </thead>\n",
       "  <tbody>\n",
       "    <tr>\n",
       "      <th>0</th>\n",
       "      <td>user1_1</td>\n",
       "      <td>3</td>\n",
       "      <td>10</td>\n",
       "    </tr>\n",
       "    <tr>\n",
       "      <th>1</th>\n",
       "      <td>user1_2</td>\n",
       "      <td>3</td>\n",
       "      <td>3</td>\n",
       "    </tr>\n",
       "    <tr>\n",
       "      <th>2</th>\n",
       "      <td>user1_3</td>\n",
       "      <td>3</td>\n",
       "      <td>4</td>\n",
       "    </tr>\n",
       "    <tr>\n",
       "      <th>3</th>\n",
       "      <td>user1_4</td>\n",
       "      <td>3</td>\n",
       "      <td>67</td>\n",
       "    </tr>\n",
       "    <tr>\n",
       "      <th>4</th>\n",
       "      <td>user1_5</td>\n",
       "      <td>3</td>\n",
       "      <td>33</td>\n",
       "    </tr>\n",
       "    <tr>\n",
       "      <th>5</th>\n",
       "      <td>user1</td>\n",
       "      <td>9</td>\n",
       "      <td>20</td>\n",
       "    </tr>\n",
       "    <tr>\n",
       "      <th>6</th>\n",
       "      <td>user1</td>\n",
       "      <td>18</td>\n",
       "      <td>15</td>\n",
       "    </tr>\n",
       "    <tr>\n",
       "      <th>7</th>\n",
       "      <td>user2</td>\n",
       "      <td>3</td>\n",
       "      <td>10</td>\n",
       "    </tr>\n",
       "    <tr>\n",
       "      <th>8</th>\n",
       "      <td>user2</td>\n",
       "      <td>6</td>\n",
       "      <td>120</td>\n",
       "    </tr>\n",
       "    <tr>\n",
       "      <th>9</th>\n",
       "      <td>user2</td>\n",
       "      <td>18</td>\n",
       "      <td>13</td>\n",
       "    </tr>\n",
       "    <tr>\n",
       "      <th>10</th>\n",
       "      <td>user2</td>\n",
       "      <td>3</td>\n",
       "      <td>10</td>\n",
       "    </tr>\n",
       "    <tr>\n",
       "      <th>11</th>\n",
       "      <td>user3</td>\n",
       "      <td>6</td>\n",
       "      <td>120</td>\n",
       "    </tr>\n",
       "    <tr>\n",
       "      <th>12</th>\n",
       "      <td>user3</td>\n",
       "      <td>18</td>\n",
       "      <td>13</td>\n",
       "    </tr>\n",
       "  </tbody>\n",
       "</table>\n",
       "</div>"
      ],
      "text/plain": [
       "     sender  duration  amount\n",
       "0   user1_1         3      10\n",
       "1   user1_2         3       3\n",
       "2   user1_3         3       4\n",
       "3   user1_4         3      67\n",
       "4   user1_5         3      33\n",
       "5     user1         9      20\n",
       "6     user1        18      15\n",
       "7     user2         3      10\n",
       "8     user2         6     120\n",
       "9     user2        18      13\n",
       "10    user2         3      10\n",
       "11    user3         6     120\n",
       "12    user3        18      13"
      ]
     },
     "execution_count": 308,
     "metadata": {},
     "output_type": "execute_result"
    }
   ],
   "source": [
    "user_stats_df = claim(user_stats,cols_claim,data_claim)\n",
    "user_stats_df.columns = [c.lower() for c in user_stats_df.columns]\n",
    "user_stats_df"
   ]
  },
  {
   "cell_type": "markdown",
   "metadata": {},
   "source": [
    "**Airdrop**"
   ]
  },
  {
   "cell_type": "code",
   "execution_count": 309,
   "metadata": {},
   "outputs": [
    {
     "data": {
      "text/html": [
       "<div>\n",
       "<style scoped>\n",
       "    .dataframe tbody tr th:only-of-type {\n",
       "        vertical-align: middle;\n",
       "    }\n",
       "\n",
       "    .dataframe tbody tr th {\n",
       "        vertical-align: top;\n",
       "    }\n",
       "\n",
       "    .dataframe thead th {\n",
       "        text-align: right;\n",
       "    }\n",
       "</style>\n",
       "<table border=\"1\" class=\"dataframe\">\n",
       "  <thead>\n",
       "    <tr style=\"text-align: right;\">\n",
       "      <th></th>\n",
       "      <th>sender</th>\n",
       "      <th>amount</th>\n",
       "      <th>time</th>\n",
       "    </tr>\n",
       "  </thead>\n",
       "  <tbody>\n",
       "    <tr>\n",
       "      <th>0</th>\n",
       "      <td>user1</td>\n",
       "      <td>300</td>\n",
       "      <td>2021-09-21T07:00:00Z</td>\n",
       "    </tr>\n",
       "    <tr>\n",
       "      <th>1</th>\n",
       "      <td>user2</td>\n",
       "      <td>70</td>\n",
       "      <td>2021-09-21T07:00:00Z</td>\n",
       "    </tr>\n",
       "    <tr>\n",
       "      <th>2</th>\n",
       "      <td>user3</td>\n",
       "      <td>34</td>\n",
       "      <td>2021-09-21T07:00:00Z</td>\n",
       "    </tr>\n",
       "    <tr>\n",
       "      <th>3</th>\n",
       "      <td>user1_1</td>\n",
       "      <td>132</td>\n",
       "      <td>2021-09-21T07:00:00Z</td>\n",
       "    </tr>\n",
       "    <tr>\n",
       "      <th>4</th>\n",
       "      <td>user4</td>\n",
       "      <td>132</td>\n",
       "      <td>2021-09-21T07:00:00Z</td>\n",
       "    </tr>\n",
       "  </tbody>\n",
       "</table>\n",
       "</div>"
      ],
      "text/plain": [
       "    sender  amount                  time\n",
       "0    user1     300  2021-09-21T07:00:00Z\n",
       "1    user2      70  2021-09-21T07:00:00Z\n",
       "2    user3      34  2021-09-21T07:00:00Z\n",
       "3  user1_1     132  2021-09-21T07:00:00Z\n",
       "4    user4     132  2021-09-21T07:00:00Z"
      ]
     },
     "execution_count": 309,
     "metadata": {},
     "output_type": "execute_result"
    }
   ],
   "source": [
    "airdrop_claims_df = claim(airdrop_claims,cols_claim,data_claim)\n",
    "airdrop_claims_df.columns = [c.lower() for c in airdrop_claims_df.columns]\n",
    "airdrop_claims_df"
   ]
  },
  {
   "cell_type": "markdown",
   "metadata": {},
   "source": [
    "**LBA deposits**"
   ]
  },
  {
   "cell_type": "code",
   "execution_count": 310,
   "metadata": {},
   "outputs": [
    {
     "data": {
      "text/html": [
       "<div>\n",
       "<style scoped>\n",
       "    .dataframe tbody tr th:only-of-type {\n",
       "        vertical-align: middle;\n",
       "    }\n",
       "\n",
       "    .dataframe tbody tr th {\n",
       "        vertical-align: top;\n",
       "    }\n",
       "\n",
       "    .dataframe thead th {\n",
       "        text-align: right;\n",
       "    }\n",
       "</style>\n",
       "<table border=\"1\" class=\"dataframe\">\n",
       "  <thead>\n",
       "    <tr style=\"text-align: right;\">\n",
       "      <th></th>\n",
       "      <th>sender</th>\n",
       "      <th>amount</th>\n",
       "      <th>denom</th>\n",
       "      <th>action</th>\n",
       "      <th>time</th>\n",
       "    </tr>\n",
       "  </thead>\n",
       "  <tbody>\n",
       "    <tr>\n",
       "      <th>0</th>\n",
       "      <td>user1_1</td>\n",
       "      <td>20</td>\n",
       "      <td>MARS</td>\n",
       "      <td>deposit</td>\n",
       "      <td>2021-09-21 08:00:00+00:00</td>\n",
       "    </tr>\n",
       "    <tr>\n",
       "      <th>1</th>\n",
       "      <td>user1_1</td>\n",
       "      <td>50</td>\n",
       "      <td>UST</td>\n",
       "      <td>deposit</td>\n",
       "      <td>2021-09-21 08:00:00+00:00</td>\n",
       "    </tr>\n",
       "    <tr>\n",
       "      <th>2</th>\n",
       "      <td>user2</td>\n",
       "      <td>70</td>\n",
       "      <td>MARS</td>\n",
       "      <td>deposit</td>\n",
       "      <td>2021-09-21 08:00:00+00:00</td>\n",
       "    </tr>\n",
       "    <tr>\n",
       "      <th>3</th>\n",
       "      <td>user2</td>\n",
       "      <td>80</td>\n",
       "      <td>UST</td>\n",
       "      <td>deposit</td>\n",
       "      <td>2021-09-21 08:00:00+00:00</td>\n",
       "    </tr>\n",
       "    <tr>\n",
       "      <th>4</th>\n",
       "      <td>user2</td>\n",
       "      <td>-10</td>\n",
       "      <td>UST</td>\n",
       "      <td>withdraw</td>\n",
       "      <td>2021-09-21 09:00:00+00:00</td>\n",
       "    </tr>\n",
       "    <tr>\n",
       "      <th>5</th>\n",
       "      <td>user1</td>\n",
       "      <td>70</td>\n",
       "      <td>MARS</td>\n",
       "      <td>deposit</td>\n",
       "      <td>2021-09-21 08:00:00+00:00</td>\n",
       "    </tr>\n",
       "    <tr>\n",
       "      <th>6</th>\n",
       "      <td>user4</td>\n",
       "      <td>132</td>\n",
       "      <td>MARS</td>\n",
       "      <td>deposit</td>\n",
       "      <td>2021-09-21 09:00:00+00:00</td>\n",
       "    </tr>\n",
       "    <tr>\n",
       "      <th>7</th>\n",
       "      <td>user1_5</td>\n",
       "      <td>132</td>\n",
       "      <td>MARS</td>\n",
       "      <td>deposit</td>\n",
       "      <td>2021-09-21 09:00:00+00:00</td>\n",
       "    </tr>\n",
       "  </tbody>\n",
       "</table>\n",
       "</div>"
      ],
      "text/plain": [
       "    sender  amount denom    action                      time\n",
       "0  user1_1      20  MARS   deposit 2021-09-21 08:00:00+00:00\n",
       "1  user1_1      50   UST   deposit 2021-09-21 08:00:00+00:00\n",
       "2    user2      70  MARS   deposit 2021-09-21 08:00:00+00:00\n",
       "3    user2      80   UST   deposit 2021-09-21 08:00:00+00:00\n",
       "4    user2     -10   UST  withdraw 2021-09-21 09:00:00+00:00\n",
       "5    user1      70  MARS   deposit 2021-09-21 08:00:00+00:00\n",
       "6    user4     132  MARS   deposit 2021-09-21 09:00:00+00:00\n",
       "7  user1_5     132  MARS   deposit 2021-09-21 09:00:00+00:00"
      ]
     },
     "execution_count": 310,
     "metadata": {},
     "output_type": "execute_result"
    }
   ],
   "source": [
    "lba_deposits_df = claim(lba_deposits,cols_claim,data_claim)\n",
    "lba_deposits_df.columns = [c.lower() for c in lba_deposits_df.columns]\n",
    "lba_deposits_df['time'] = pd.to_datetime(lba_deposits_df.time)\n",
    "lba_deposits_df['amount'] = lba_deposits_df.apply(lambda row: -row.amount if row.action=='withdraw' else row.amount, axis=1)\n",
    "lba_deposits_df"
   ]
  },
  {
   "cell_type": "markdown",
   "metadata": {},
   "source": [
    "**Hourly Airdrops**"
   ]
  },
  {
   "cell_type": "code",
   "execution_count": 311,
   "metadata": {},
   "outputs": [],
   "source": [
    "lba_deposits_df['hour'] = lba_deposits_df.time.dt.strftime(\"%Y-%m-%d %H:00\")"
   ]
  },
  {
   "cell_type": "code",
   "execution_count": 312,
   "metadata": {},
   "outputs": [],
   "source": [
    "mars = lba_deposits_df[lba_deposits_df.denom=='MARS']\n",
    "ust = lba_deposits_df[lba_deposits_df.denom=='UST']"
   ]
  },
  {
   "cell_type": "code",
   "execution_count": 313,
   "metadata": {},
   "outputs": [
    {
     "name": "stderr",
     "output_type": "stream",
     "text": [
      "C:\\Users\\aincerti\\AppData\\Local\\Temp\\ipykernel_6020\\1845166223.py:5: FutureWarning: The frame.append method is deprecated and will be removed from pandas in a future version. Use pandas.concat instead.\n",
      "  lba_deposits_hourly_df = df_ust.append(df_mars)\n"
     ]
    },
    {
     "data": {
      "text/html": [
       "<div>\n",
       "<style scoped>\n",
       "    .dataframe tbody tr th:only-of-type {\n",
       "        vertical-align: middle;\n",
       "    }\n",
       "\n",
       "    .dataframe tbody tr th {\n",
       "        vertical-align: top;\n",
       "    }\n",
       "\n",
       "    .dataframe thead th {\n",
       "        text-align: right;\n",
       "    }\n",
       "</style>\n",
       "<table border=\"1\" class=\"dataframe\">\n",
       "  <thead>\n",
       "    <tr style=\"text-align: right;\">\n",
       "      <th></th>\n",
       "      <th>denom</th>\n",
       "      <th>hour</th>\n",
       "      <th>amount</th>\n",
       "      <th>cumsum</th>\n",
       "    </tr>\n",
       "  </thead>\n",
       "  <tbody>\n",
       "    <tr>\n",
       "      <th>0</th>\n",
       "      <td>UST</td>\n",
       "      <td>2021-09-21 08:00</td>\n",
       "      <td>130</td>\n",
       "      <td>130</td>\n",
       "    </tr>\n",
       "    <tr>\n",
       "      <th>1</th>\n",
       "      <td>UST</td>\n",
       "      <td>2021-09-21 09:00</td>\n",
       "      <td>-10</td>\n",
       "      <td>120</td>\n",
       "    </tr>\n",
       "    <tr>\n",
       "      <th>0</th>\n",
       "      <td>MARS</td>\n",
       "      <td>2021-09-21 08:00</td>\n",
       "      <td>160</td>\n",
       "      <td>160</td>\n",
       "    </tr>\n",
       "    <tr>\n",
       "      <th>1</th>\n",
       "      <td>MARS</td>\n",
       "      <td>2021-09-21 09:00</td>\n",
       "      <td>264</td>\n",
       "      <td>424</td>\n",
       "    </tr>\n",
       "  </tbody>\n",
       "</table>\n",
       "</div>"
      ],
      "text/plain": [
       "  denom              hour  amount  cumsum\n",
       "0   UST  2021-09-21 08:00     130     130\n",
       "1   UST  2021-09-21 09:00     -10     120\n",
       "0  MARS  2021-09-21 08:00     160     160\n",
       "1  MARS  2021-09-21 09:00     264     424"
      ]
     },
     "execution_count": 313,
     "metadata": {},
     "output_type": "execute_result"
    }
   ],
   "source": [
    "df_mars = mars.groupby(['denom','hour']).amount.sum().reset_index().sort_values(by='hour')\n",
    "df_mars['cumsum'] = df_mars.amount.cumsum()\n",
    "df_ust = ust.groupby(['denom','hour']).amount.sum().reset_index().sort_values(by='hour')\n",
    "df_ust['cumsum'] = df_ust.amount.cumsum()\n",
    "lba_deposits_hourly_df = df_ust.append(df_mars)\n",
    "lba_deposits_hourly_df"
   ]
  },
  {
   "cell_type": "markdown",
   "metadata": {},
   "source": [
    "**Users partecipation**"
   ]
  },
  {
   "cell_type": "code",
   "execution_count": 314,
   "metadata": {},
   "outputs": [],
   "source": [
    "aidrop_users = airdrop_claims_df.sender.unique()"
   ]
  },
  {
   "cell_type": "code",
   "execution_count": 315,
   "metadata": {},
   "outputs": [],
   "source": [
    "aidrop_users_df = pd.DataFrame(aidrop_users, columns=['sender'])\n",
    "aidrop_users_df['type'] = 'Airdrop'"
   ]
  },
  {
   "cell_type": "code",
   "execution_count": 316,
   "metadata": {},
   "outputs": [],
   "source": [
    "p1_users = user_stats_df.sender.unique()\n",
    "p1_users_df = pd.DataFrame(p1_users, columns=['sender'])\n",
    "p1_users_df['type'] = 'Phase1'"
   ]
  },
  {
   "cell_type": "code",
   "execution_count": 317,
   "metadata": {},
   "outputs": [
    {
     "name": "stderr",
     "output_type": "stream",
     "text": [
      "C:\\Users\\aincerti\\AppData\\Local\\Temp\\ipykernel_6020\\669479942.py:1: FutureWarning: The frame.append method is deprecated and will be removed from pandas in a future version. Use pandas.concat instead.\n",
      "  users_type = aidrop_users_df.append(p1_users_df)\n"
     ]
    },
    {
     "data": {
      "text/html": [
       "<div>\n",
       "<style scoped>\n",
       "    .dataframe tbody tr th:only-of-type {\n",
       "        vertical-align: middle;\n",
       "    }\n",
       "\n",
       "    .dataframe tbody tr th {\n",
       "        vertical-align: top;\n",
       "    }\n",
       "\n",
       "    .dataframe thead th {\n",
       "        text-align: right;\n",
       "    }\n",
       "</style>\n",
       "<table border=\"1\" class=\"dataframe\">\n",
       "  <thead>\n",
       "    <tr style=\"text-align: right;\">\n",
       "      <th></th>\n",
       "      <th>sender</th>\n",
       "      <th>new_type</th>\n",
       "    </tr>\n",
       "  </thead>\n",
       "  <tbody>\n",
       "    <tr>\n",
       "      <th>0</th>\n",
       "      <td>user1</td>\n",
       "      <td>Airdrop/Phase1</td>\n",
       "    </tr>\n",
       "    <tr>\n",
       "      <th>1</th>\n",
       "      <td>user2</td>\n",
       "      <td>Airdrop/Phase1</td>\n",
       "    </tr>\n",
       "    <tr>\n",
       "      <th>2</th>\n",
       "      <td>user3</td>\n",
       "      <td>Airdrop/Phase1</td>\n",
       "    </tr>\n",
       "    <tr>\n",
       "      <th>3</th>\n",
       "      <td>user1_1</td>\n",
       "      <td>Airdrop/Phase1</td>\n",
       "    </tr>\n",
       "    <tr>\n",
       "      <th>4</th>\n",
       "      <td>user4</td>\n",
       "      <td>Airdrop</td>\n",
       "    </tr>\n",
       "    <tr>\n",
       "      <th>6</th>\n",
       "      <td>user1_2</td>\n",
       "      <td>Phase1</td>\n",
       "    </tr>\n",
       "    <tr>\n",
       "      <th>7</th>\n",
       "      <td>user1_3</td>\n",
       "      <td>Phase1</td>\n",
       "    </tr>\n",
       "    <tr>\n",
       "      <th>8</th>\n",
       "      <td>user1_4</td>\n",
       "      <td>Phase1</td>\n",
       "    </tr>\n",
       "    <tr>\n",
       "      <th>9</th>\n",
       "      <td>user1_5</td>\n",
       "      <td>Phase1</td>\n",
       "    </tr>\n",
       "  </tbody>\n",
       "</table>\n",
       "</div>"
      ],
      "text/plain": [
       "    sender        new_type\n",
       "0    user1  Airdrop/Phase1\n",
       "1    user2  Airdrop/Phase1\n",
       "2    user3  Airdrop/Phase1\n",
       "3  user1_1  Airdrop/Phase1\n",
       "4    user4         Airdrop\n",
       "6  user1_2          Phase1\n",
       "7  user1_3          Phase1\n",
       "8  user1_4          Phase1\n",
       "9  user1_5          Phase1"
      ]
     },
     "execution_count": 317,
     "metadata": {},
     "output_type": "execute_result"
    }
   ],
   "source": [
    "users_type = aidrop_users_df.append(p1_users_df)\n",
    "users_type = users_type.merge(users_type.groupby('sender').type.count().rename('n_types').reset_index(), on=['sender'], how='left')\n",
    "users_type['new_type'] = users_type.apply(lambda row: row.type if row.n_types==1 else 'Airdrop/Phase1', axis=1)\n",
    "users_type = users_type[[\"sender\",\"new_type\"]].drop_duplicates()\n",
    "users_type"
   ]
  },
  {
   "cell_type": "markdown",
   "metadata": {},
   "source": [
    "**LBA Mars origin**"
   ]
  },
  {
   "cell_type": "code",
   "execution_count": 318,
   "metadata": {},
   "outputs": [
    {
     "data": {
      "text/html": [
       "<div>\n",
       "<style scoped>\n",
       "    .dataframe tbody tr th:only-of-type {\n",
       "        vertical-align: middle;\n",
       "    }\n",
       "\n",
       "    .dataframe tbody tr th {\n",
       "        vertical-align: top;\n",
       "    }\n",
       "\n",
       "    .dataframe thead th {\n",
       "        text-align: right;\n",
       "    }\n",
       "</style>\n",
       "<table border=\"1\" class=\"dataframe\">\n",
       "  <thead>\n",
       "    <tr style=\"text-align: right;\">\n",
       "      <th></th>\n",
       "      <th>new_type</th>\n",
       "      <th>amount</th>\n",
       "    </tr>\n",
       "  </thead>\n",
       "  <tbody>\n",
       "    <tr>\n",
       "      <th>0</th>\n",
       "      <td>Airdrop</td>\n",
       "      <td>132</td>\n",
       "    </tr>\n",
       "    <tr>\n",
       "      <th>1</th>\n",
       "      <td>Airdrop/Phase1</td>\n",
       "      <td>160</td>\n",
       "    </tr>\n",
       "    <tr>\n",
       "      <th>2</th>\n",
       "      <td>Phase1</td>\n",
       "      <td>132</td>\n",
       "    </tr>\n",
       "  </tbody>\n",
       "</table>\n",
       "</div>"
      ],
      "text/plain": [
       "         new_type  amount\n",
       "0         Airdrop     132\n",
       "1  Airdrop/Phase1     160\n",
       "2          Phase1     132"
      ]
     },
     "execution_count": 318,
     "metadata": {},
     "output_type": "execute_result"
    }
   ],
   "source": [
    "mars_source = users_type.merge(lba_deposits_df[lba_deposits_df.denom=='MARS'], on='sender').groupby('new_type').amount.sum()\n",
    "mars_source = mars_source.reset_index()\n",
    "mars_source"
   ]
  },
  {
   "cell_type": "markdown",
   "metadata": {},
   "source": [
    "**Metrics**"
   ]
  },
  {
   "cell_type": "code",
   "execution_count": 319,
   "metadata": {},
   "outputs": [
    {
     "data": {
      "text/plain": [
       "7.56395322451326e-05"
      ]
     },
     "execution_count": 319,
     "metadata": {},
     "output_type": "execute_result"
    }
   ],
   "source": [
    "users_aidrop_eligible = 66103\n",
    "perc_airdrop_eligible = len(airdrop_claims_df.sender.unique())/users_aidrop_eligible\n",
    "perc_airdrop_eligible"
   ]
  },
  {
   "cell_type": "code",
   "execution_count": 320,
   "metadata": {},
   "outputs": [
    {
     "data": {
      "text/plain": [
       "7.066666666666667e-06"
      ]
     },
     "execution_count": 320,
     "metadata": {},
     "output_type": "execute_result"
    }
   ],
   "source": [
    "#Phase 1 + airdrop\n",
    "mars_total = 60000000\n",
    "mars = lba_deposits_hourly_df[lba_deposits_hourly_df.denom=='MARS']\n",
    "act_mars_lba = mars[mars.hour == mars.hour.max()][\"cumsum\"].values[0]\n",
    "perc_mars_in_lba = act_mars_lba/mars_total\n",
    "perc_mars_in_lba"
   ]
  },
  {
   "cell_type": "code",
   "execution_count": 321,
   "metadata": {},
   "outputs": [
    {
     "data": {
      "text/plain": [
       "3.533333333333333"
      ]
     },
     "execution_count": 321,
     "metadata": {},
     "output_type": "execute_result"
    }
   ],
   "source": [
    "usts = lba_deposits_hourly_df[lba_deposits_hourly_df.denom=='UST']\n",
    "act_usts_lba = usts[usts.hour == mars.hour.max()][\"cumsum\"].values[0]\n",
    "act_price = act_mars_lba/act_usts_lba\n",
    "act_price"
   ]
  },
  {
   "cell_type": "code",
   "execution_count": 322,
   "metadata": {},
   "outputs": [
    {
     "data": {
      "text/plain": [
       "0.5"
      ]
     },
     "execution_count": 322,
     "metadata": {},
     "output_type": "execute_result"
    }
   ],
   "source": [
    "users_p1 = len(user_stats_df.sender.unique())\n",
    "users_p1_lba = len(set(user_stats_df.sender.unique()).intersection(set(lba_deposits_df.sender.unique())))\n",
    "perc_p1_lba = users_p1_lba/users_p1\n",
    "perc_p1_lba"
   ]
  },
  {
   "cell_type": "markdown",
   "metadata": {},
   "source": [
    "**P1 MARS rewards**"
   ]
  },
  {
   "cell_type": "code",
   "execution_count": 323,
   "metadata": {},
   "outputs": [],
   "source": [
    "boost = pd.DataFrame([1,2.8,5.2,8,11.2,14.7],columns=['boost'],index=[3,6,9,12,15,18])"
   ]
  },
  {
   "cell_type": "code",
   "execution_count": 324,
   "metadata": {},
   "outputs": [],
   "source": [
    "boost = user_stats_df.groupby('duration').sum().join(boost)\n",
    "boost['amount_boosted'] = boost.amount * boost.boost"
   ]
  },
  {
   "cell_type": "code",
   "execution_count": 325,
   "metadata": {},
   "outputs": [],
   "source": [
    "boost['amount_boosted_mars'] = (boost['amount_boosted']/boost['amount_boosted'].sum())*50000000"
   ]
  },
  {
   "cell_type": "code",
   "execution_count": 326,
   "metadata": {},
   "outputs": [
    {
     "data": {
      "text/html": [
       "<div>\n",
       "<style scoped>\n",
       "    .dataframe tbody tr th:only-of-type {\n",
       "        vertical-align: middle;\n",
       "    }\n",
       "\n",
       "    .dataframe tbody tr th {\n",
       "        vertical-align: top;\n",
       "    }\n",
       "\n",
       "    .dataframe thead th {\n",
       "        text-align: right;\n",
       "    }\n",
       "</style>\n",
       "<table border=\"1\" class=\"dataframe\">\n",
       "  <thead>\n",
       "    <tr style=\"text-align: right;\">\n",
       "      <th></th>\n",
       "      <th>amount</th>\n",
       "      <th>boost</th>\n",
       "      <th>amount_boosted</th>\n",
       "      <th>amount_boosted_mars</th>\n",
       "      <th>amount_per_ust</th>\n",
       "    </tr>\n",
       "    <tr>\n",
       "      <th>duration</th>\n",
       "      <th></th>\n",
       "      <th></th>\n",
       "      <th></th>\n",
       "      <th></th>\n",
       "      <th></th>\n",
       "    </tr>\n",
       "  </thead>\n",
       "  <tbody>\n",
       "    <tr>\n",
       "      <th>3</th>\n",
       "      <td>137</td>\n",
       "      <td>1.0</td>\n",
       "      <td>137.0</td>\n",
       "      <td>4.519364e+06</td>\n",
       "      <td>32988.058323</td>\n",
       "    </tr>\n",
       "    <tr>\n",
       "      <th>6</th>\n",
       "      <td>240</td>\n",
       "      <td>2.8</td>\n",
       "      <td>672.0</td>\n",
       "      <td>2.216798e+07</td>\n",
       "      <td>92366.563304</td>\n",
       "    </tr>\n",
       "    <tr>\n",
       "      <th>9</th>\n",
       "      <td>20</td>\n",
       "      <td>5.2</td>\n",
       "      <td>104.0</td>\n",
       "      <td>3.430758e+06</td>\n",
       "      <td>171537.903279</td>\n",
       "    </tr>\n",
       "    <tr>\n",
       "      <th>18</th>\n",
       "      <td>41</td>\n",
       "      <td>14.7</td>\n",
       "      <td>602.7</td>\n",
       "      <td>1.988190e+07</td>\n",
       "      <td>484924.457346</td>\n",
       "    </tr>\n",
       "  </tbody>\n",
       "</table>\n",
       "</div>"
      ],
      "text/plain": [
       "          amount  boost  amount_boosted  amount_boosted_mars  amount_per_ust\n",
       "duration                                                                    \n",
       "3            137    1.0           137.0         4.519364e+06    32988.058323\n",
       "6            240    2.8           672.0         2.216798e+07    92366.563304\n",
       "9             20    5.2           104.0         3.430758e+06   171537.903279\n",
       "18            41   14.7           602.7         1.988190e+07   484924.457346"
      ]
     },
     "execution_count": 326,
     "metadata": {},
     "output_type": "execute_result"
    }
   ],
   "source": [
    "boost['amount_per_ust'] = boost['amount_boosted_mars']/boost.amount\n",
    "boost"
   ]
  },
  {
   "cell_type": "code",
   "execution_count": 327,
   "metadata": {},
   "outputs": [
    {
     "data": {
      "text/html": [
       "<div>\n",
       "<style scoped>\n",
       "    .dataframe tbody tr th:only-of-type {\n",
       "        vertical-align: middle;\n",
       "    }\n",
       "\n",
       "    .dataframe tbody tr th {\n",
       "        vertical-align: top;\n",
       "    }\n",
       "\n",
       "    .dataframe thead th {\n",
       "        text-align: right;\n",
       "    }\n",
       "</style>\n",
       "<table border=\"1\" class=\"dataframe\">\n",
       "  <thead>\n",
       "    <tr style=\"text-align: right;\">\n",
       "      <th></th>\n",
       "      <th>sender</th>\n",
       "      <th>duration</th>\n",
       "      <th>amount</th>\n",
       "      <th>amount_per_ust</th>\n",
       "      <th>mars</th>\n",
       "    </tr>\n",
       "  </thead>\n",
       "  <tbody>\n",
       "    <tr>\n",
       "      <th>0</th>\n",
       "      <td>user1_1</td>\n",
       "      <td>3</td>\n",
       "      <td>10</td>\n",
       "      <td>32988.058323</td>\n",
       "      <td>3.298806e+05</td>\n",
       "    </tr>\n",
       "    <tr>\n",
       "      <th>1</th>\n",
       "      <td>user1_2</td>\n",
       "      <td>3</td>\n",
       "      <td>3</td>\n",
       "      <td>32988.058323</td>\n",
       "      <td>9.896417e+04</td>\n",
       "    </tr>\n",
       "    <tr>\n",
       "      <th>2</th>\n",
       "      <td>user1_3</td>\n",
       "      <td>3</td>\n",
       "      <td>4</td>\n",
       "      <td>32988.058323</td>\n",
       "      <td>1.319522e+05</td>\n",
       "    </tr>\n",
       "    <tr>\n",
       "      <th>3</th>\n",
       "      <td>user1_4</td>\n",
       "      <td>3</td>\n",
       "      <td>67</td>\n",
       "      <td>32988.058323</td>\n",
       "      <td>2.210200e+06</td>\n",
       "    </tr>\n",
       "    <tr>\n",
       "      <th>4</th>\n",
       "      <td>user1_5</td>\n",
       "      <td>3</td>\n",
       "      <td>33</td>\n",
       "      <td>32988.058323</td>\n",
       "      <td>1.088606e+06</td>\n",
       "    </tr>\n",
       "    <tr>\n",
       "      <th>5</th>\n",
       "      <td>user2</td>\n",
       "      <td>3</td>\n",
       "      <td>10</td>\n",
       "      <td>32988.058323</td>\n",
       "      <td>3.298806e+05</td>\n",
       "    </tr>\n",
       "    <tr>\n",
       "      <th>6</th>\n",
       "      <td>user2</td>\n",
       "      <td>3</td>\n",
       "      <td>10</td>\n",
       "      <td>32988.058323</td>\n",
       "      <td>3.298806e+05</td>\n",
       "    </tr>\n",
       "    <tr>\n",
       "      <th>7</th>\n",
       "      <td>user1</td>\n",
       "      <td>9</td>\n",
       "      <td>20</td>\n",
       "      <td>171537.903279</td>\n",
       "      <td>3.430758e+06</td>\n",
       "    </tr>\n",
       "    <tr>\n",
       "      <th>8</th>\n",
       "      <td>user1</td>\n",
       "      <td>18</td>\n",
       "      <td>15</td>\n",
       "      <td>484924.457346</td>\n",
       "      <td>7.273867e+06</td>\n",
       "    </tr>\n",
       "    <tr>\n",
       "      <th>9</th>\n",
       "      <td>user2</td>\n",
       "      <td>18</td>\n",
       "      <td>13</td>\n",
       "      <td>484924.457346</td>\n",
       "      <td>6.304018e+06</td>\n",
       "    </tr>\n",
       "    <tr>\n",
       "      <th>10</th>\n",
       "      <td>user3</td>\n",
       "      <td>18</td>\n",
       "      <td>13</td>\n",
       "      <td>484924.457346</td>\n",
       "      <td>6.304018e+06</td>\n",
       "    </tr>\n",
       "    <tr>\n",
       "      <th>11</th>\n",
       "      <td>user2</td>\n",
       "      <td>6</td>\n",
       "      <td>120</td>\n",
       "      <td>92366.563304</td>\n",
       "      <td>1.108399e+07</td>\n",
       "    </tr>\n",
       "    <tr>\n",
       "      <th>12</th>\n",
       "      <td>user3</td>\n",
       "      <td>6</td>\n",
       "      <td>120</td>\n",
       "      <td>92366.563304</td>\n",
       "      <td>1.108399e+07</td>\n",
       "    </tr>\n",
       "  </tbody>\n",
       "</table>\n",
       "</div>"
      ],
      "text/plain": [
       "     sender  duration  amount  amount_per_ust          mars\n",
       "0   user1_1         3      10    32988.058323  3.298806e+05\n",
       "1   user1_2         3       3    32988.058323  9.896417e+04\n",
       "2   user1_3         3       4    32988.058323  1.319522e+05\n",
       "3   user1_4         3      67    32988.058323  2.210200e+06\n",
       "4   user1_5         3      33    32988.058323  1.088606e+06\n",
       "5     user2         3      10    32988.058323  3.298806e+05\n",
       "6     user2         3      10    32988.058323  3.298806e+05\n",
       "7     user1         9      20   171537.903279  3.430758e+06\n",
       "8     user1        18      15   484924.457346  7.273867e+06\n",
       "9     user2        18      13   484924.457346  6.304018e+06\n",
       "10    user3        18      13   484924.457346  6.304018e+06\n",
       "11    user2         6     120    92366.563304  1.108399e+07\n",
       "12    user3         6     120    92366.563304  1.108399e+07"
      ]
     },
     "execution_count": 327,
     "metadata": {},
     "output_type": "execute_result"
    }
   ],
   "source": [
    "user_stats_df = user_stats_df.merge(boost.reset_index()[['duration','amount_per_ust']], on=['duration'])\n",
    "user_stats_df['mars'] = user_stats_df.amount * user_stats_df.amount_per_ust\n",
    "user_stats_df"
   ]
  },
  {
   "cell_type": "markdown",
   "metadata": {},
   "source": [
    "**% il LBA from P1 for each user**"
   ]
  },
  {
   "cell_type": "code",
   "execution_count": 328,
   "metadata": {},
   "outputs": [],
   "source": [
    "user_p1_mars = user_stats_df.groupby('sender').mars.sum()"
   ]
  },
  {
   "cell_type": "code",
   "execution_count": 329,
   "metadata": {},
   "outputs": [
    {
     "data": {
      "text/html": [
       "<div>\n",
       "<style scoped>\n",
       "    .dataframe tbody tr th:only-of-type {\n",
       "        vertical-align: middle;\n",
       "    }\n",
       "\n",
       "    .dataframe tbody tr th {\n",
       "        vertical-align: top;\n",
       "    }\n",
       "\n",
       "    .dataframe thead th {\n",
       "        text-align: right;\n",
       "    }\n",
       "</style>\n",
       "<table border=\"1\" class=\"dataframe\">\n",
       "  <thead>\n",
       "    <tr style=\"text-align: right;\">\n",
       "      <th></th>\n",
       "      <th>amount</th>\n",
       "      <th>mars</th>\n",
       "      <th>perc_p1_mars_lba</th>\n",
       "    </tr>\n",
       "    <tr>\n",
       "      <th>sender</th>\n",
       "      <th></th>\n",
       "      <th></th>\n",
       "      <th></th>\n",
       "    </tr>\n",
       "  </thead>\n",
       "  <tbody>\n",
       "    <tr>\n",
       "      <th>user1</th>\n",
       "      <td>70</td>\n",
       "      <td>1.070462e+07</td>\n",
       "      <td>0.000007</td>\n",
       "    </tr>\n",
       "    <tr>\n",
       "      <th>user1_1</th>\n",
       "      <td>20</td>\n",
       "      <td>3.298806e+05</td>\n",
       "      <td>0.000061</td>\n",
       "    </tr>\n",
       "    <tr>\n",
       "      <th>user1_5</th>\n",
       "      <td>132</td>\n",
       "      <td>1.088606e+06</td>\n",
       "      <td>0.000121</td>\n",
       "    </tr>\n",
       "    <tr>\n",
       "      <th>user2</th>\n",
       "      <td>70</td>\n",
       "      <td>1.804777e+07</td>\n",
       "      <td>0.000004</td>\n",
       "    </tr>\n",
       "    <tr>\n",
       "      <th>user4</th>\n",
       "      <td>132</td>\n",
       "      <td>0.000000e+00</td>\n",
       "      <td>0.000000</td>\n",
       "    </tr>\n",
       "  </tbody>\n",
       "</table>\n",
       "</div>"
      ],
      "text/plain": [
       "         amount          mars  perc_p1_mars_lba\n",
       "sender                                         \n",
       "user1        70  1.070462e+07          0.000007\n",
       "user1_1      20  3.298806e+05          0.000061\n",
       "user1_5     132  1.088606e+06          0.000121\n",
       "user2        70  1.804777e+07          0.000004\n",
       "user4       132  0.000000e+00          0.000000"
      ]
     },
     "execution_count": 329,
     "metadata": {},
     "output_type": "execute_result"
    }
   ],
   "source": [
    "user_p1_perc_mars = lba_deposits_df[lba_deposits_df.denom=='MARS'].groupby('sender').sum().join(user_p1_mars).fillna(0)\n",
    "user_p1_perc_mars['perc_p1_mars_lba'] = user_p1_perc_mars.apply(lambda row: 0 if ((row.mars == 0) or (row.amount==0)) else row.amount / row.mars,axis=1)\n",
    "user_p1_perc_mars"
   ]
  },
  {
   "cell_type": "markdown",
   "metadata": {},
   "source": [
    "**APR P2**"
   ]
  },
  {
   "cell_type": "code",
   "execution_count": 330,
   "metadata": {},
   "outputs": [],
   "source": [
    "tot_mars_rewards = 5000000\n",
    "tot_ust_rewards = 5000000\n",
    "price = 0.2\n",
    "amount_ust_input = 10\n",
    "amount_mars_input = 10"
   ]
  },
  {
   "cell_type": "code",
   "execution_count": 331,
   "metadata": {},
   "outputs": [
    {
     "data": {
      "text/plain": [
       "8333.333333333334"
      ]
     },
     "execution_count": 331,
     "metadata": {},
     "output_type": "execute_result"
    }
   ],
   "source": [
    "ust_apr = tot_ust_rewards*price/act_usts_lba\n",
    "ust_apr"
   ]
  },
  {
   "cell_type": "code",
   "execution_count": 332,
   "metadata": {},
   "outputs": [
    {
     "data": {
      "text/plain": [
       "11792.452830188678"
      ]
     },
     "execution_count": 332,
     "metadata": {},
     "output_type": "execute_result"
    }
   ],
   "source": [
    "mars_apr = tot_mars_rewards/act_mars_lba\n",
    "mars_apr"
   ]
  },
  {
   "cell_type": "code",
   "execution_count": 333,
   "metadata": {},
   "outputs": [
    {
     "data": {
      "text/plain": [
       "384615.3846153846"
      ]
     },
     "execution_count": 333,
     "metadata": {},
     "output_type": "execute_result"
    }
   ],
   "source": [
    "ust_rewards_input = tot_ust_rewards/(act_usts_lba+amount_ust_input)*amount_ust_input\n",
    "ust_rewards_input"
   ]
  },
  {
   "cell_type": "code",
   "execution_count": 334,
   "metadata": {},
   "outputs": [
    {
     "data": {
      "text/plain": [
       "115207.3732718894"
      ]
     },
     "execution_count": 334,
     "metadata": {},
     "output_type": "execute_result"
    }
   ],
   "source": [
    "mars_rewards_input = tot_mars_rewards/(act_mars_lba+amount_mars_input)*amount_mars_input\n",
    "mars_rewards_input"
   ]
  },
  {
   "cell_type": "markdown",
   "metadata": {},
   "source": [
    "**What have users deposited**"
   ]
  },
  {
   "cell_type": "code",
   "execution_count": 335,
   "metadata": {},
   "outputs": [],
   "source": [
    "df = lba_deposits_df.groupby(['sender','denom']).amount.sum().reset_index()\n",
    "df2 = df[df.amount>0].groupby('sender').denom.count().rename('n_denom')\n",
    "df3 = df.merge(df2.reset_index(), on='sender')\n",
    "df3['dep_type'] = df3.apply(lambda row: row.denom if row.n_denom==1 else 'MARS & UST', axis=1)"
   ]
  },
  {
   "cell_type": "code",
   "execution_count": 354,
   "metadata": {},
   "outputs": [
    {
     "data": {
      "text/html": [
       "<div>\n",
       "<style scoped>\n",
       "    .dataframe tbody tr th:only-of-type {\n",
       "        vertical-align: middle;\n",
       "    }\n",
       "\n",
       "    .dataframe tbody tr th {\n",
       "        vertical-align: top;\n",
       "    }\n",
       "\n",
       "    .dataframe thead th {\n",
       "        text-align: right;\n",
       "    }\n",
       "</style>\n",
       "<table border=\"1\" class=\"dataframe\">\n",
       "  <thead>\n",
       "    <tr style=\"text-align: right;\">\n",
       "      <th></th>\n",
       "      <th>dep_type</th>\n",
       "      <th>sender</th>\n",
       "    </tr>\n",
       "  </thead>\n",
       "  <tbody>\n",
       "    <tr>\n",
       "      <th>0</th>\n",
       "      <td>MARS</td>\n",
       "      <td>3</td>\n",
       "    </tr>\n",
       "    <tr>\n",
       "      <th>1</th>\n",
       "      <td>MARS &amp; UST</td>\n",
       "      <td>4</td>\n",
       "    </tr>\n",
       "  </tbody>\n",
       "</table>\n",
       "</div>"
      ],
      "text/plain": [
       "     dep_type  sender\n",
       "0        MARS       3\n",
       "1  MARS & UST       4"
      ]
     },
     "execution_count": 354,
     "metadata": {},
     "output_type": "execute_result"
    }
   ],
   "source": [
    "user_dep_type = df3.groupby(['dep_type']).sender.count().reset_index()\n",
    "user_dep_type"
   ]
  },
  {
   "cell_type": "code",
   "execution_count": 347,
   "metadata": {},
   "outputs": [],
   "source": [
    "def get_max_domain_date(df, time_field, n_hours):\n",
    "    if((pd.Timestamp(df[time_field].max()) - \n",
    "                pd.Timestamp(df[time_field].min())).total_seconds()/3600 < n_hours):\n",
    "        max_date = (pd.Timestamp(df[time_field].min()) + pd.to_timedelta(n_hours, unit='h')).strftime(\"%Y-%m-%dT%H:%M:%SZ\")\n",
    "    else:\n",
    "        max_date = df[time_field].max()\n",
    "    return max_date"
   ]
  },
  {
   "cell_type": "markdown",
   "metadata": {},
   "source": [
    "### Charts"
   ]
  },
  {
   "cell_type": "code",
   "execution_count": 377,
   "metadata": {},
   "outputs": [
    {
     "name": "stderr",
     "output_type": "stream",
     "text": [
      "C:\\Users\\aincerti\\AppData\\Local\\Temp\\ipykernel_6020\\947672216.py:2: FutureWarning: The frame.append method is deprecated and will be removed from pandas in a future version. Use pandas.concat instead.\n",
      "  user_p1_perc_mars = user_p1_perc_mars.append(user_p1_perc_mars)\n"
     ]
    }
   ],
   "source": [
    "user_p1_perc_mars['Percentage of MARS deposited from Phase 1'] = user_p1_perc_mars['Percentage of MARS deposited from Phase 1'].apply(lambda x: int(x*10000000))\n",
    "user_p1_perc_mars = user_p1_perc_mars.append(user_p1_perc_mars)"
   ]
  },
  {
   "cell_type": "code",
   "execution_count": 381,
   "metadata": {},
   "outputs": [
    {
     "data": {
      "text/html": [
       "\n",
       "<div id=\"altair-viz-b4cdb05f052a4816b76dcb2fe5f3a48f\"></div>\n",
       "<script type=\"text/javascript\">\n",
       "  var VEGA_DEBUG = (typeof VEGA_DEBUG == \"undefined\") ? {} : VEGA_DEBUG;\n",
       "  (function(spec, embedOpt){\n",
       "    let outputDiv = document.currentScript.previousElementSibling;\n",
       "    if (outputDiv.id !== \"altair-viz-b4cdb05f052a4816b76dcb2fe5f3a48f\") {\n",
       "      outputDiv = document.getElementById(\"altair-viz-b4cdb05f052a4816b76dcb2fe5f3a48f\");\n",
       "    }\n",
       "    const paths = {\n",
       "      \"vega\": \"https://cdn.jsdelivr.net/npm//vega@5?noext\",\n",
       "      \"vega-lib\": \"https://cdn.jsdelivr.net/npm//vega-lib?noext\",\n",
       "      \"vega-lite\": \"https://cdn.jsdelivr.net/npm//vega-lite@4.17.0?noext\",\n",
       "      \"vega-embed\": \"https://cdn.jsdelivr.net/npm//vega-embed@6?noext\",\n",
       "    };\n",
       "\n",
       "    function maybeLoadScript(lib, version) {\n",
       "      var key = `${lib.replace(\"-\", \"\")}_version`;\n",
       "      return (VEGA_DEBUG[key] == version) ?\n",
       "        Promise.resolve(paths[lib]) :\n",
       "        new Promise(function(resolve, reject) {\n",
       "          var s = document.createElement('script');\n",
       "          document.getElementsByTagName(\"head\")[0].appendChild(s);\n",
       "          s.async = true;\n",
       "          s.onload = () => {\n",
       "            VEGA_DEBUG[key] = version;\n",
       "            return resolve(paths[lib]);\n",
       "          };\n",
       "          s.onerror = () => reject(`Error loading script: ${paths[lib]}`);\n",
       "          s.src = paths[lib];\n",
       "        });\n",
       "    }\n",
       "\n",
       "    function showError(err) {\n",
       "      outputDiv.innerHTML = `<div class=\"error\" style=\"color:red;\">${err}</div>`;\n",
       "      throw err;\n",
       "    }\n",
       "\n",
       "    function displayChart(vegaEmbed) {\n",
       "      vegaEmbed(outputDiv, spec, embedOpt)\n",
       "        .catch(err => showError(`Javascript Error: ${err.message}<br>This usually means there's a typo in your chart specification. See the javascript console for the full traceback.`));\n",
       "    }\n",
       "\n",
       "    if(typeof define === \"function\" && define.amd) {\n",
       "      requirejs.config({paths});\n",
       "      require([\"vega-embed\"], displayChart, err => showError(`Error loading script: ${err.message}`));\n",
       "    } else {\n",
       "      maybeLoadScript(\"vega\", \"5\")\n",
       "        .then(() => maybeLoadScript(\"vega-lite\", \"4.17.0\"))\n",
       "        .then(() => maybeLoadScript(\"vega-embed\", \"6\"))\n",
       "        .catch(showError)\n",
       "        .then(() => displayChart(vegaEmbed));\n",
       "    }\n",
       "  })({\"config\": {\"view\": {\"continuousWidth\": 400, \"continuousHeight\": 300, \"strokeOpacity\": 0}, \"mark\": {\"color\": \"#f58766\"}}, \"data\": {\"name\": \"data-25dd883228235072748c491727987ffd\"}, \"mark\": \"bar\", \"encoding\": {\"color\": {\"legend\": null, \"scale\": {\"scheme\": \"lightorange\"}}, \"tooltip\": [{\"field\": \"Percentage of MARS deposited from Phase 1\", \"type\": \"quantitative\"}, {\"aggregate\": \"count\", \"type\": \"quantitative\"}], \"x\": {\"bin\": true, \"field\": \"Percentage of MARS deposited from Phase 1\", \"sort\": \"ascending\", \"type\": \"quantitative\"}, \"y\": {\"aggregate\": \"count\", \"type\": \"quantitative\"}}, \"height\": 300, \"$schema\": \"https://vega.github.io/schema/vega-lite/v4.17.0.json\", \"datasets\": {\"data-25dd883228235072748c491727987ffd\": [{\"MARS locked in Phase 2\": 700000000, \"MARS obtained from Phase 1\": 107046249257768.7, \"Percentage of MARS deposited from Phase 1\": 65392295800000000000000}, {\"MARS locked in Phase 2\": 200000000, \"MARS obtained from Phase 1\": 3298805832288.712, \"Percentage of MARS deposited from Phase 1\": 606280000000000000000000}, {\"MARS locked in Phase 2\": 1320000000, \"MARS obtained from Phase 1\": 10886059246552.75, \"Percentage of MARS deposited from Phase 1\": 1212559999900000000000000}, {\"MARS locked in Phase 2\": 700000000, \"MARS obtained from Phase 1\": 180477667084515.44, \"Percentage of MARS deposited from Phase 1\": 38785962300000000000000}, {\"MARS locked in Phase 2\": 1320000000, \"MARS obtained from Phase 1\": 0.0, \"Percentage of MARS deposited from Phase 1\": 0}, {\"MARS locked in Phase 2\": 700000000, \"MARS obtained from Phase 1\": 107046249257768.7, \"Percentage of MARS deposited from Phase 1\": 65392295800000000000000}, {\"MARS locked in Phase 2\": 200000000, \"MARS obtained from Phase 1\": 3298805832288.712, \"Percentage of MARS deposited from Phase 1\": 606280000000000000000000}, {\"MARS locked in Phase 2\": 1320000000, \"MARS obtained from Phase 1\": 10886059246552.75, \"Percentage of MARS deposited from Phase 1\": 1212559999900000000000000}, {\"MARS locked in Phase 2\": 700000000, \"MARS obtained from Phase 1\": 180477667084515.44, \"Percentage of MARS deposited from Phase 1\": 38785962300000000000000}, {\"MARS locked in Phase 2\": 1320000000, \"MARS obtained from Phase 1\": 0.0, \"Percentage of MARS deposited from Phase 1\": 0}]}}, {\"mode\": \"vega-lite\"});\n",
       "</script>"
      ],
      "text/plain": [
       "alt.Chart(...)"
      ]
     },
     "execution_count": 381,
     "metadata": {},
     "output_type": "execute_result"
    }
   ],
   "source": [
    "user_p1_perc_mars.columns = ['MARS locked in Phase 2','MARS obtained from Phase 1','Percentage of MARS deposited from Phase 1']\n",
    "user_p1_perc_mars_chart = alt.Chart((user_p1_perc_mars)).mark_bar().encode(\n",
    "    x=alt.X('Percentage of MARS deposited from Phase 1', sort=\"ascending\", bin=True),\n",
    "    y=\"count()\",\n",
    "    tooltip=['Percentage of MARS deposited from Phase 1','count()'],\n",
    "    color=alt.Color(scale=alt.Scale(scheme='lightorange'),legend=None),\n",
    ").configure_mark(color='#f58766').properties(height=300).configure_view(strokeOpacity=0)\n",
    "user_p1_perc_mars_chart"
   ]
  },
  {
   "cell_type": "code",
   "execution_count": 355,
   "metadata": {},
   "outputs": [
    {
     "data": {
      "text/html": [
       "<div>\n",
       "<style scoped>\n",
       "    .dataframe tbody tr th:only-of-type {\n",
       "        vertical-align: middle;\n",
       "    }\n",
       "\n",
       "    .dataframe tbody tr th {\n",
       "        vertical-align: top;\n",
       "    }\n",
       "\n",
       "    .dataframe thead th {\n",
       "        text-align: right;\n",
       "    }\n",
       "</style>\n",
       "<table border=\"1\" class=\"dataframe\">\n",
       "  <thead>\n",
       "    <tr style=\"text-align: right;\">\n",
       "      <th></th>\n",
       "      <th>dep_type</th>\n",
       "      <th>sender</th>\n",
       "    </tr>\n",
       "  </thead>\n",
       "  <tbody>\n",
       "    <tr>\n",
       "      <th>0</th>\n",
       "      <td>MARS</td>\n",
       "      <td>3</td>\n",
       "    </tr>\n",
       "    <tr>\n",
       "      <th>1</th>\n",
       "      <td>MARS &amp; UST</td>\n",
       "      <td>4</td>\n",
       "    </tr>\n",
       "  </tbody>\n",
       "</table>\n",
       "</div>"
      ],
      "text/plain": [
       "     dep_type  sender\n",
       "0        MARS       3\n",
       "1  MARS & UST       4"
      ]
     },
     "execution_count": 355,
     "metadata": {},
     "output_type": "execute_result"
    }
   ],
   "source": [
    "user_dep_type"
   ]
  },
  {
   "cell_type": "code",
   "execution_count": 358,
   "metadata": {},
   "outputs": [
    {
     "data": {
      "text/html": [
       "\n",
       "<div id=\"altair-viz-297e8daf53e0432a87b0489894199680\"></div>\n",
       "<script type=\"text/javascript\">\n",
       "  var VEGA_DEBUG = (typeof VEGA_DEBUG == \"undefined\") ? {} : VEGA_DEBUG;\n",
       "  (function(spec, embedOpt){\n",
       "    let outputDiv = document.currentScript.previousElementSibling;\n",
       "    if (outputDiv.id !== \"altair-viz-297e8daf53e0432a87b0489894199680\") {\n",
       "      outputDiv = document.getElementById(\"altair-viz-297e8daf53e0432a87b0489894199680\");\n",
       "    }\n",
       "    const paths = {\n",
       "      \"vega\": \"https://cdn.jsdelivr.net/npm//vega@5?noext\",\n",
       "      \"vega-lib\": \"https://cdn.jsdelivr.net/npm//vega-lib?noext\",\n",
       "      \"vega-lite\": \"https://cdn.jsdelivr.net/npm//vega-lite@4.17.0?noext\",\n",
       "      \"vega-embed\": \"https://cdn.jsdelivr.net/npm//vega-embed@6?noext\",\n",
       "    };\n",
       "\n",
       "    function maybeLoadScript(lib, version) {\n",
       "      var key = `${lib.replace(\"-\", \"\")}_version`;\n",
       "      return (VEGA_DEBUG[key] == version) ?\n",
       "        Promise.resolve(paths[lib]) :\n",
       "        new Promise(function(resolve, reject) {\n",
       "          var s = document.createElement('script');\n",
       "          document.getElementsByTagName(\"head\")[0].appendChild(s);\n",
       "          s.async = true;\n",
       "          s.onload = () => {\n",
       "            VEGA_DEBUG[key] = version;\n",
       "            return resolve(paths[lib]);\n",
       "          };\n",
       "          s.onerror = () => reject(`Error loading script: ${paths[lib]}`);\n",
       "          s.src = paths[lib];\n",
       "        });\n",
       "    }\n",
       "\n",
       "    function showError(err) {\n",
       "      outputDiv.innerHTML = `<div class=\"error\" style=\"color:red;\">${err}</div>`;\n",
       "      throw err;\n",
       "    }\n",
       "\n",
       "    function displayChart(vegaEmbed) {\n",
       "      vegaEmbed(outputDiv, spec, embedOpt)\n",
       "        .catch(err => showError(`Javascript Error: ${err.message}<br>This usually means there's a typo in your chart specification. See the javascript console for the full traceback.`));\n",
       "    }\n",
       "\n",
       "    if(typeof define === \"function\" && define.amd) {\n",
       "      requirejs.config({paths});\n",
       "      require([\"vega-embed\"], displayChart, err => showError(`Error loading script: ${err.message}`));\n",
       "    } else {\n",
       "      maybeLoadScript(\"vega\", \"5\")\n",
       "        .then(() => maybeLoadScript(\"vega-lite\", \"4.17.0\"))\n",
       "        .then(() => maybeLoadScript(\"vega-embed\", \"6\"))\n",
       "        .catch(showError)\n",
       "        .then(() => displayChart(vegaEmbed));\n",
       "    }\n",
       "  })({\"config\": {\"view\": {\"continuousWidth\": 400, \"continuousHeight\": 300, \"strokeOpacity\": 0}}, \"data\": {\"name\": \"data-68c34e9b0caf13c77ab67b49c64cd2b7\"}, \"mark\": {\"type\": \"arc\", \"innerRadius\": 60}, \"encoding\": {\"color\": {\"field\": \"What users have deposited\", \"legend\": {\"direction\": \"vertical\", \"legendY\": -10, \"orient\": \"none\", \"padding\": 10}, \"scale\": {\"scheme\": \"lightorange\"}, \"sort\": [\"MARS & UST\", \"MARS\", \"UST\"], \"type\": \"nominal\"}, \"theta\": {\"field\": \"Number of Users\", \"type\": \"quantitative\"}, \"tooltip\": [{\"field\": \"What users have deposited\", \"type\": \"nominal\"}, {\"field\": \"Number of Users\", \"type\": \"quantitative\"}]}, \"$schema\": \"https://vega.github.io/schema/vega-lite/v4.17.0.json\", \"datasets\": {\"data-68c34e9b0caf13c77ab67b49c64cd2b7\": [{\"What users have deposited\": \"MARS\", \"Number of Users\": 3}, {\"What users have deposited\": \"MARS & UST\", \"Number of Users\": 4}]}}, {\"mode\": \"vega-lite\"});\n",
       "</script>"
      ],
      "text/plain": [
       "alt.Chart(...)"
      ]
     },
     "execution_count": 358,
     "metadata": {},
     "output_type": "execute_result"
    }
   ],
   "source": [
    "user_dep_type.columns = ['What users have deposited','Number of Users']\n",
    "user_dep_type_chart = alt.Chart(user_dep_type).mark_arc(innerRadius=60).encode(\n",
    "    theta=alt.Theta(field=\"Number of Users\", type=\"quantitative\"),\n",
    "    color=alt.Color(field=\"What users have deposited\", type=\"nominal\",\n",
    "            sort=['MARS & UST','MARS','UST'],\n",
    "            scale=alt.Scale(scheme='lightorange'),\n",
    "            legend=alt.Legend(\n",
    "            orient='none',\n",
    "            padding=10,\n",
    "            legendY=-10,\n",
    "            direction='vertical')),\n",
    "    tooltip=['What users have deposited','Number of Users']\n",
    ").configure_view(strokeOpacity=0)\n",
    "user_dep_type_chart"
   ]
  },
  {
   "cell_type": "code",
   "execution_count": 348,
   "metadata": {},
   "outputs": [
    {
     "data": {
      "text/html": [
       "<div>\n",
       "<style scoped>\n",
       "    .dataframe tbody tr th:only-of-type {\n",
       "        vertical-align: middle;\n",
       "    }\n",
       "\n",
       "    .dataframe tbody tr th {\n",
       "        vertical-align: top;\n",
       "    }\n",
       "\n",
       "    .dataframe thead th {\n",
       "        text-align: right;\n",
       "    }\n",
       "</style>\n",
       "<table border=\"1\" class=\"dataframe\">\n",
       "  <thead>\n",
       "    <tr style=\"text-align: right;\">\n",
       "      <th></th>\n",
       "      <th>Token</th>\n",
       "      <th>Time</th>\n",
       "      <th>Amount_</th>\n",
       "      <th>Amount</th>\n",
       "    </tr>\n",
       "  </thead>\n",
       "  <tbody>\n",
       "    <tr>\n",
       "      <th>0</th>\n",
       "      <td>UST</td>\n",
       "      <td>2021-09-21 08:00</td>\n",
       "      <td>130</td>\n",
       "      <td>130</td>\n",
       "    </tr>\n",
       "    <tr>\n",
       "      <th>1</th>\n",
       "      <td>UST</td>\n",
       "      <td>2021-09-21 09:00</td>\n",
       "      <td>-10</td>\n",
       "      <td>120</td>\n",
       "    </tr>\n",
       "    <tr>\n",
       "      <th>0</th>\n",
       "      <td>MARS</td>\n",
       "      <td>2021-09-21 08:00</td>\n",
       "      <td>160</td>\n",
       "      <td>160</td>\n",
       "    </tr>\n",
       "    <tr>\n",
       "      <th>1</th>\n",
       "      <td>MARS</td>\n",
       "      <td>2021-09-21 09:00</td>\n",
       "      <td>264</td>\n",
       "      <td>424</td>\n",
       "    </tr>\n",
       "  </tbody>\n",
       "</table>\n",
       "</div>"
      ],
      "text/plain": [
       "  Token              Time  Amount_  Amount\n",
       "0   UST  2021-09-21 08:00      130     130\n",
       "1   UST  2021-09-21 09:00      -10     120\n",
       "0  MARS  2021-09-21 08:00      160     160\n",
       "1  MARS  2021-09-21 09:00      264     424"
      ]
     },
     "execution_count": 348,
     "metadata": {},
     "output_type": "execute_result"
    }
   ],
   "source": [
    "lba_deposits_hourly_df"
   ]
  },
  {
   "cell_type": "code",
   "execution_count": 351,
   "metadata": {},
   "outputs": [
    {
     "data": {
      "text/html": [
       "\n",
       "<div id=\"altair-viz-ed0af16c87d942c59028761f56970458\"></div>\n",
       "<script type=\"text/javascript\">\n",
       "  var VEGA_DEBUG = (typeof VEGA_DEBUG == \"undefined\") ? {} : VEGA_DEBUG;\n",
       "  (function(spec, embedOpt){\n",
       "    let outputDiv = document.currentScript.previousElementSibling;\n",
       "    if (outputDiv.id !== \"altair-viz-ed0af16c87d942c59028761f56970458\") {\n",
       "      outputDiv = document.getElementById(\"altair-viz-ed0af16c87d942c59028761f56970458\");\n",
       "    }\n",
       "    const paths = {\n",
       "      \"vega\": \"https://cdn.jsdelivr.net/npm//vega@5?noext\",\n",
       "      \"vega-lib\": \"https://cdn.jsdelivr.net/npm//vega-lib?noext\",\n",
       "      \"vega-lite\": \"https://cdn.jsdelivr.net/npm//vega-lite@4.17.0?noext\",\n",
       "      \"vega-embed\": \"https://cdn.jsdelivr.net/npm//vega-embed@6?noext\",\n",
       "    };\n",
       "\n",
       "    function maybeLoadScript(lib, version) {\n",
       "      var key = `${lib.replace(\"-\", \"\")}_version`;\n",
       "      return (VEGA_DEBUG[key] == version) ?\n",
       "        Promise.resolve(paths[lib]) :\n",
       "        new Promise(function(resolve, reject) {\n",
       "          var s = document.createElement('script');\n",
       "          document.getElementsByTagName(\"head\")[0].appendChild(s);\n",
       "          s.async = true;\n",
       "          s.onload = () => {\n",
       "            VEGA_DEBUG[key] = version;\n",
       "            return resolve(paths[lib]);\n",
       "          };\n",
       "          s.onerror = () => reject(`Error loading script: ${paths[lib]}`);\n",
       "          s.src = paths[lib];\n",
       "        });\n",
       "    }\n",
       "\n",
       "    function showError(err) {\n",
       "      outputDiv.innerHTML = `<div class=\"error\" style=\"color:red;\">${err}</div>`;\n",
       "      throw err;\n",
       "    }\n",
       "\n",
       "    function displayChart(vegaEmbed) {\n",
       "      vegaEmbed(outputDiv, spec, embedOpt)\n",
       "        .catch(err => showError(`Javascript Error: ${err.message}<br>This usually means there's a typo in your chart specification. See the javascript console for the full traceback.`));\n",
       "    }\n",
       "\n",
       "    if(typeof define === \"function\" && define.amd) {\n",
       "      requirejs.config({paths});\n",
       "      require([\"vega-embed\"], displayChart, err => showError(`Error loading script: ${err.message}`));\n",
       "    } else {\n",
       "      maybeLoadScript(\"vega\", \"5\")\n",
       "        .then(() => maybeLoadScript(\"vega-lite\", \"4.17.0\"))\n",
       "        .then(() => maybeLoadScript(\"vega-embed\", \"6\"))\n",
       "        .catch(showError)\n",
       "        .then(() => displayChart(vegaEmbed));\n",
       "    }\n",
       "  })({\"config\": {\"view\": {\"continuousWidth\": 400, \"continuousHeight\": 300, \"strokeOpacity\": 0}}, \"data\": {\"name\": \"data-279dc380dce91e75c099adf1322f4705\"}, \"mark\": {\"type\": \"line\", \"point\": true}, \"encoding\": {\"color\": {\"field\": \"Token\", \"legend\": {\"direction\": \"horizontal\", \"legendY\": 0, \"orient\": \"none\", \"padding\": 5}, \"scale\": {\"domain\": [\"MARS\", \"UST\"], \"range\": [\"#f9bf94\", \"#a72327\"]}, \"sort\": [\"MARS\", \"UST\"], \"type\": \"nominal\"}, \"tooltip\": [{\"field\": \"Time\", \"format\": \"%Y-%m-%d %H:%M\", \"type\": \"temporal\"}, {\"field\": \"UST deposited\", \"type\": \"quantitative\"}, {\"field\": \"Lockup period\", \"type\": \"nominal\"}], \"x\": {\"field\": \"Time\", \"scale\": {\"domain\": [\"2021-09-21 08:00\", \"2021-09-21T18:00:00Z\"]}, \"type\": \"temporal\"}, \"y\": {\"field\": \"Amount\", \"scale\": {\"domain\": [0, 434.0]}, \"type\": \"quantitative\"}}, \"height\": 400, \"$schema\": \"https://vega.github.io/schema/vega-lite/v4.17.0.json\", \"datasets\": {\"data-279dc380dce91e75c099adf1322f4705\": [{\"Token\": \"UST\", \"Time\": \"2021-09-21 08:00\", \"Amount_\": 130, \"Amount\": 130}, {\"Token\": \"UST\", \"Time\": \"2021-09-21 09:00\", \"Amount_\": -10, \"Amount\": 120}, {\"Token\": \"MARS\", \"Time\": \"2021-09-21 08:00\", \"Amount_\": 160, \"Amount\": 160}, {\"Token\": \"MARS\", \"Time\": \"2021-09-21 09:00\", \"Amount_\": 264, \"Amount\": 424}]}}, {\"mode\": \"vega-lite\"});\n",
       "</script>"
      ],
      "text/plain": [
       "alt.Chart(...)"
      ]
     },
     "execution_count": 351,
     "metadata": {},
     "output_type": "execute_result"
    }
   ],
   "source": [
    "domain = ['MARS','UST']\n",
    "range_ = ['#f9bf94','#a72327']\n",
    "lba_deposits_hourly_df.columns = ['Token','Time','Amount_','Amount']\n",
    "max_date = get_max_domain_date(lba_deposits_hourly_df,'Time',10)\n",
    "lba_deposits_hourly_df_chart = alt.Chart(lba_deposits_hourly_df).mark_line(point = True).encode(\n",
    "    x=alt.X('Time:T',scale=alt.Scale(domain=(lba_deposits_hourly_df.Time.min(),max_date))),\n",
    "    y=alt.X('Amount:Q',scale=alt.Scale(domain=(0,lba_deposits_hourly_df['Amount'].max()+10))),\n",
    "    color=alt.Color('Token:N', \n",
    "                sort=domain,\n",
    "                scale=alt.Scale(domain=domain, range=range_),\n",
    "                legend=alt.Legend(\n",
    "                            orient='none',\n",
    "                            padding=5,\n",
    "                            legendY=0,\n",
    "                            direction='horizontal')),\n",
    "    tooltip=[alt.Tooltip('Time:T', format='%Y-%m-%d %H:%M'),'UST deposited:Q','Lockup period:N']\n",
    ").properties(height=400).configure_view(strokeOpacity=0)\n",
    "lba_deposits_hourly_df_chart"
   ]
  },
  {
   "cell_type": "code",
   "execution_count": 337,
   "metadata": {},
   "outputs": [
    {
     "data": {
      "text/html": [
       "<div>\n",
       "<style scoped>\n",
       "    .dataframe tbody tr th:only-of-type {\n",
       "        vertical-align: middle;\n",
       "    }\n",
       "\n",
       "    .dataframe tbody tr th {\n",
       "        vertical-align: top;\n",
       "    }\n",
       "\n",
       "    .dataframe thead th {\n",
       "        text-align: right;\n",
       "    }\n",
       "</style>\n",
       "<table border=\"1\" class=\"dataframe\">\n",
       "  <thead>\n",
       "    <tr style=\"text-align: right;\">\n",
       "      <th></th>\n",
       "      <th>new_type</th>\n",
       "      <th>amount</th>\n",
       "    </tr>\n",
       "  </thead>\n",
       "  <tbody>\n",
       "    <tr>\n",
       "      <th>0</th>\n",
       "      <td>Airdrop</td>\n",
       "      <td>132</td>\n",
       "    </tr>\n",
       "    <tr>\n",
       "      <th>1</th>\n",
       "      <td>Airdrop/Phase1</td>\n",
       "      <td>160</td>\n",
       "    </tr>\n",
       "    <tr>\n",
       "      <th>2</th>\n",
       "      <td>Phase1</td>\n",
       "      <td>132</td>\n",
       "    </tr>\n",
       "  </tbody>\n",
       "</table>\n",
       "</div>"
      ],
      "text/plain": [
       "         new_type  amount\n",
       "0         Airdrop     132\n",
       "1  Airdrop/Phase1     160\n",
       "2          Phase1     132"
      ]
     },
     "execution_count": 337,
     "metadata": {},
     "output_type": "execute_result"
    }
   ],
   "source": [
    "mars_source"
   ]
  },
  {
   "cell_type": "code",
   "execution_count": 339,
   "metadata": {},
   "outputs": [
    {
     "data": {
      "text/html": [
       "\n",
       "<div id=\"altair-viz-1f94983e9b0e4ed2a610f2d403c9cb08\"></div>\n",
       "<script type=\"text/javascript\">\n",
       "  var VEGA_DEBUG = (typeof VEGA_DEBUG == \"undefined\") ? {} : VEGA_DEBUG;\n",
       "  (function(spec, embedOpt){\n",
       "    let outputDiv = document.currentScript.previousElementSibling;\n",
       "    if (outputDiv.id !== \"altair-viz-1f94983e9b0e4ed2a610f2d403c9cb08\") {\n",
       "      outputDiv = document.getElementById(\"altair-viz-1f94983e9b0e4ed2a610f2d403c9cb08\");\n",
       "    }\n",
       "    const paths = {\n",
       "      \"vega\": \"https://cdn.jsdelivr.net/npm//vega@5?noext\",\n",
       "      \"vega-lib\": \"https://cdn.jsdelivr.net/npm//vega-lib?noext\",\n",
       "      \"vega-lite\": \"https://cdn.jsdelivr.net/npm//vega-lite@4.17.0?noext\",\n",
       "      \"vega-embed\": \"https://cdn.jsdelivr.net/npm//vega-embed@6?noext\",\n",
       "    };\n",
       "\n",
       "    function maybeLoadScript(lib, version) {\n",
       "      var key = `${lib.replace(\"-\", \"\")}_version`;\n",
       "      return (VEGA_DEBUG[key] == version) ?\n",
       "        Promise.resolve(paths[lib]) :\n",
       "        new Promise(function(resolve, reject) {\n",
       "          var s = document.createElement('script');\n",
       "          document.getElementsByTagName(\"head\")[0].appendChild(s);\n",
       "          s.async = true;\n",
       "          s.onload = () => {\n",
       "            VEGA_DEBUG[key] = version;\n",
       "            return resolve(paths[lib]);\n",
       "          };\n",
       "          s.onerror = () => reject(`Error loading script: ${paths[lib]}`);\n",
       "          s.src = paths[lib];\n",
       "        });\n",
       "    }\n",
       "\n",
       "    function showError(err) {\n",
       "      outputDiv.innerHTML = `<div class=\"error\" style=\"color:red;\">${err}</div>`;\n",
       "      throw err;\n",
       "    }\n",
       "\n",
       "    function displayChart(vegaEmbed) {\n",
       "      vegaEmbed(outputDiv, spec, embedOpt)\n",
       "        .catch(err => showError(`Javascript Error: ${err.message}<br>This usually means there's a typo in your chart specification. See the javascript console for the full traceback.`));\n",
       "    }\n",
       "\n",
       "    if(typeof define === \"function\" && define.amd) {\n",
       "      requirejs.config({paths});\n",
       "      require([\"vega-embed\"], displayChart, err => showError(`Error loading script: ${err.message}`));\n",
       "    } else {\n",
       "      maybeLoadScript(\"vega\", \"5\")\n",
       "        .then(() => maybeLoadScript(\"vega-lite\", \"4.17.0\"))\n",
       "        .then(() => maybeLoadScript(\"vega-embed\", \"6\"))\n",
       "        .catch(showError)\n",
       "        .then(() => displayChart(vegaEmbed));\n",
       "    }\n",
       "  })({\"config\": {\"view\": {\"continuousWidth\": 400, \"continuousHeight\": 300, \"strokeOpacity\": 0}}, \"data\": {\"name\": \"data-bbac12ad66950410d5567817d80c2c12\"}, \"mark\": {\"type\": \"arc\", \"innerRadius\": 60}, \"encoding\": {\"color\": {\"field\": \"User Participation\", \"legend\": {\"direction\": \"vertical\", \"legendY\": -10, \"orient\": \"none\", \"padding\": 10}, \"scale\": {\"scheme\": \"lightorange\"}, \"sort\": [\"Airdrop/Phase1\", \"Phase1\", \"Airdrop\"], \"type\": \"nominal\"}, \"theta\": {\"field\": \"Amount of MARS locked in Phase 2\", \"type\": \"quantitative\"}, \"tooltip\": [{\"field\": \"User Participation\", \"type\": \"nominal\"}, {\"field\": \"Amount of MARS locked in Phase 2\", \"type\": \"quantitative\"}]}, \"$schema\": \"https://vega.github.io/schema/vega-lite/v4.17.0.json\", \"datasets\": {\"data-bbac12ad66950410d5567817d80c2c12\": [{\"User Participation\": \"Airdrop\", \"Amount of MARS locked in Phase 2\": 132}, {\"User Participation\": \"Airdrop/Phase1\", \"Amount of MARS locked in Phase 2\": 160}, {\"User Participation\": \"Phase1\", \"Amount of MARS locked in Phase 2\": 132}]}}, {\"mode\": \"vega-lite\"});\n",
       "</script>"
      ],
      "text/plain": [
       "alt.Chart(...)"
      ]
     },
     "execution_count": 339,
     "metadata": {},
     "output_type": "execute_result"
    }
   ],
   "source": [
    "mars_source.columns = ['User Participation','Amount of MARS locked in Phase 2']\n",
    "mars_source_chart = alt.Chart(mars_source).mark_arc(innerRadius=60).encode(\n",
    "    theta=alt.Theta(field=\"Amount of MARS locked in Phase 2\", type=\"quantitative\"),\n",
    "    color=alt.Color(field=\"User Participation\", type=\"nominal\",\n",
    "            sort=['Airdrop/Phase1','Phase1','Airdrop'],\n",
    "            scale=alt.Scale(scheme='lightorange'),\n",
    "            legend=alt.Legend(\n",
    "            orient='none',\n",
    "            padding=10,\n",
    "            legendY=-10,\n",
    "            direction='vertical')),\n",
    "    tooltip=['User Participation','Amount of MARS locked in Phase 2']\n",
    ").configure_view(strokeOpacity=0)\n",
    "mars_source_chart"
   ]
  },
  {
   "cell_type": "code",
   "execution_count": null,
   "metadata": {},
   "outputs": [],
   "source": []
  }
 ],
 "metadata": {
  "kernelspec": {
   "display_name": "Python 3 (ipykernel)",
   "language": "python",
   "name": "python3"
  },
  "language_info": {
   "codemirror_mode": {
    "name": "ipython",
    "version": 3
   },
   "file_extension": ".py",
   "mimetype": "text/x-python",
   "name": "python",
   "nbconvert_exporter": "python",
   "pygments_lexer": "ipython3",
   "version": "3.8.2"
  }
 },
 "nbformat": 4,
 "nbformat_minor": 4
}
